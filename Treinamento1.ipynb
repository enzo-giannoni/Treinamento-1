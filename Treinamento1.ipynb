{
 "cells": [
  {
   "cell_type": "code",
   "execution_count": 9,
   "id": "17246459",
   "metadata": {},
   "outputs": [],
   "source": [
    "import pandas as pd\n",
    "from io import StringIO\n",
    "import requests as r\n",
    "import seaborn as sns\n",
    "import matplotlib.pyplot as plt\n",
    "import plotly.express as px\n",
    "import numpy as np"
   ]
  },
  {
   "cell_type": "markdown",
   "id": "2701b30a",
   "metadata": {},
   "source": [
    "Criei uma função para fazer DataFrames a partir de um url"
   ]
  },
  {
   "cell_type": "code",
   "execution_count": 10,
   "id": "3bfb5322",
   "metadata": {},
   "outputs": [],
   "source": [
    "def faz_df(url):\n",
    "    req = r.request('GET', url, headers={'user-agent': 'Mozilla/5.0'})\n",
    "    df = pd.read_json(StringIO(req.text), encoding='UTF-8')\n",
    "    return df"
   ]
  },
  {
   "cell_type": "markdown",
   "id": "95bf62de",
   "metadata": {},
   "source": [
    "Criando os DataFrames"
   ]
  },
  {
   "cell_type": "code",
   "execution_count": 11,
   "id": "80f5b9c0",
   "metadata": {},
   "outputs": [],
   "source": [
    "information_df = faz_df('https://treinamento-ndados.s3.sa-east-1.amazonaws.com/boardgames_information_raw.json')\n",
    "categoricals_df = faz_df('https://treinamento-ndados.s3.sa-east-1.amazonaws.com/boardgames_categoricals_raw.json')\n",
    "stat_df = faz_df('https://treinamento-ndados.s3.sa-east-1.amazonaws.com/boardgames_stat_raw.json')"
   ]
  },
  {
   "cell_type": "markdown",
   "id": "f71bae45",
   "metadata": {},
   "source": [
    "Juntando os DataFrames em um só, com o nome de 'merged'"
   ]
  },
  {
   "cell_type": "code",
   "execution_count": 12,
   "id": "a00fc4c6",
   "metadata": {},
   "outputs": [
    {
     "data": {
      "text/html": [
       "<div>\n",
       "<style scoped>\n",
       "    .dataframe tbody tr th:only-of-type {\n",
       "        vertical-align: middle;\n",
       "    }\n",
       "\n",
       "    .dataframe tbody tr th {\n",
       "        vertical-align: top;\n",
       "    }\n",
       "\n",
       "    .dataframe thead th {\n",
       "        text-align: right;\n",
       "    }\n",
       "</style>\n",
       "<table border=\"1\" class=\"dataframe\">\n",
       "  <thead>\n",
       "    <tr style=\"text-align: right;\">\n",
       "      <th></th>\n",
       "      <th>object_id</th>\n",
       "      <th>name</th>\n",
       "      <th>yearpublished</th>\n",
       "      <th>sortindex</th>\n",
       "      <th>minplayers</th>\n",
       "      <th>maxplayers</th>\n",
       "      <th>minplaytime</th>\n",
       "      <th>maxplaytime</th>\n",
       "      <th>minage</th>\n",
       "      <th>objectid</th>\n",
       "      <th>label</th>\n",
       "      <th>boardgamedesigner_cnt</th>\n",
       "      <th>boardgameartist_cnt</th>\n",
       "      <th>boardgamepublisher_cnt</th>\n",
       "      <th>boardgamehonor_cnt</th>\n",
       "      <th>boardgamecategory_cnt</th>\n",
       "      <th>boardgamemechanic_cnt</th>\n",
       "      <th>boardgameexpansion_cnt</th>\n",
       "      <th>boardgameversion_cnt</th>\n",
       "      <th>boardgamefamily_cnt</th>\n",
       "      <th>boardgamedesigner</th>\n",
       "      <th>boardgameartist</th>\n",
       "      <th>boardgamepublisher</th>\n",
       "      <th>boardgamehonor</th>\n",
       "      <th>boardgamecategory</th>\n",
       "      <th>boardgameversion</th>\n",
       "      <th>boardgamemechanic</th>\n",
       "      <th>boardgameexpansion</th>\n",
       "      <th>boardgamefamily</th>\n",
       "      <th>gamelink</th>\n",
       "      <th>objectid</th>\n",
       "      <th>min_community</th>\n",
       "      <th>max_community</th>\n",
       "      <th>totalvotes</th>\n",
       "      <th>playerage</th>\n",
       "      <th>languagedependence</th>\n",
       "      <th>usersrated</th>\n",
       "      <th>average</th>\n",
       "      <th>baverage</th>\n",
       "      <th>stddev</th>\n",
       "      <th>avgweight</th>\n",
       "      <th>numweights</th>\n",
       "      <th>numgeeklists</th>\n",
       "      <th>numtrading</th>\n",
       "      <th>numwanting</th>\n",
       "      <th>numcomments</th>\n",
       "      <th>siteviews</th>\n",
       "      <th>numplays</th>\n",
       "      <th>numplays_month</th>\n",
       "      <th>news</th>\n",
       "      <th>blogs</th>\n",
       "      <th>weblink</th>\n",
       "      <th>podcast</th>\n",
       "    </tr>\n",
       "  </thead>\n",
       "  <tbody>\n",
       "    <tr>\n",
       "      <th>0</th>\n",
       "      <td>174430</td>\n",
       "      <td>Gloomhaven</td>\n",
       "      <td>2017</td>\n",
       "      <td>1</td>\n",
       "      <td>1</td>\n",
       "      <td>4</td>\n",
       "      <td>60</td>\n",
       "      <td>120</td>\n",
       "      <td>12</td>\n",
       "      <td>174430</td>\n",
       "      <td>Board Game</td>\n",
       "      <td>1</td>\n",
       "      <td>3</td>\n",
       "      <td>9</td>\n",
       "      <td>23</td>\n",
       "      <td>5</td>\n",
       "      <td>12</td>\n",
       "      <td>4</td>\n",
       "      <td>19</td>\n",
       "      <td>7</td>\n",
       "      <td>['Isaac Childres\"']</td>\n",
       "      <td>['Alexandr Elichev', 'Josh T. McDowell', 'Alva...</td>\n",
       "      <td>['Cephalofair Games', 'Albi', 'Asmodee', 'Feue...</td>\n",
       "      <td>['2017 Best Science Fiction or Fantasy Board G...</td>\n",
       "      <td>['Adventure', 'Exploration', 'Fantasy', 'Fight...</td>\n",
       "      <td>['Chinese edition', 'Czech edition', 'English ...</td>\n",
       "      <td>['Campaign / Battle Card Driven', 'Cooperative...</td>\n",
       "      <td>['Gloomhaven: Forgotten Circles', 'Gloomhaven:...</td>\n",
       "      <td>['Campaign Games', 'Components: Miniatures', '...</td>\n",
       "      <td>/boardgame/174430/gloomhaven</td>\n",
       "      <td>174430</td>\n",
       "      <td>3.0</td>\n",
       "      <td>4.0</td>\n",
       "      <td>827.0</td>\n",
       "      <td>14</td>\n",
       "      <td>4</td>\n",
       "      <td>31254.0</td>\n",
       "      <td>8.85292</td>\n",
       "      <td>8.58424</td>\n",
       "      <td>1.59819</td>\n",
       "      <td>3.8078</td>\n",
       "      <td>1311</td>\n",
       "      <td>3657</td>\n",
       "      <td>313</td>\n",
       "      <td>1365</td>\n",
       "      <td>5972</td>\n",
       "      <td>8933078</td>\n",
       "      <td>230213</td>\n",
       "      <td>3478</td>\n",
       "      <td>7</td>\n",
       "      <td>471</td>\n",
       "      <td>31</td>\n",
       "      <td>139</td>\n",
       "    </tr>\n",
       "    <tr>\n",
       "      <th>1</th>\n",
       "      <td>161936</td>\n",
       "      <td>Pandemic Legacy  Season 1</td>\n",
       "      <td>2015</td>\n",
       "      <td>2</td>\n",
       "      <td>2</td>\n",
       "      <td>4</td>\n",
       "      <td>60</td>\n",
       "      <td>60</td>\n",
       "      <td>13</td>\n",
       "      <td>161936</td>\n",
       "      <td>Board Game</td>\n",
       "      <td>2</td>\n",
       "      <td>1</td>\n",
       "      <td>11</td>\n",
       "      <td>20</td>\n",
       "      <td>2</td>\n",
       "      <td>8</td>\n",
       "      <td>0</td>\n",
       "      <td>33</td>\n",
       "      <td>3</td>\n",
       "      <td>['Rob Daviau\"', 'Matt Leacock\"']</td>\n",
       "      <td>['Chris Quilliams']</td>\n",
       "      <td>['Z-Man Games', 'Asterion Press', 'Devir', 'Fi...</td>\n",
       "      <td>['2015 Cardboard Republic Immersionist Laurel ...</td>\n",
       "      <td>['Environmental', 'Medical']</td>\n",
       "      <td>['Chinese blue edition', 'Chinese red edition'...</td>\n",
       "      <td>['Action Points', 'Cooperative Game', 'Hand Ma...</td>\n",
       "      <td>['None']</td>\n",
       "      <td>['Campaign Games', 'Legacy', 'Pandemic']</td>\n",
       "      <td>/boardgame/161936/pandemic-legacy-season-1</td>\n",
       "      <td>161936</td>\n",
       "      <td>4.0</td>\n",
       "      <td>4.0</td>\n",
       "      <td>549.0</td>\n",
       "      <td>12</td>\n",
       "      <td>4</td>\n",
       "      <td>34729.0</td>\n",
       "      <td>8.62499</td>\n",
       "      <td>8.47159</td>\n",
       "      <td>1.59463</td>\n",
       "      <td>2.8301</td>\n",
       "      <td>971</td>\n",
       "      <td>3612</td>\n",
       "      <td>272</td>\n",
       "      <td>771</td>\n",
       "      <td>5477</td>\n",
       "      <td>2971746</td>\n",
       "      <td>196621</td>\n",
       "      <td>1090</td>\n",
       "      <td>9</td>\n",
       "      <td>597</td>\n",
       "      <td>69</td>\n",
       "      <td>164</td>\n",
       "    </tr>\n",
       "    <tr>\n",
       "      <th>2</th>\n",
       "      <td>167791</td>\n",
       "      <td>Terraforming Mars</td>\n",
       "      <td>2016</td>\n",
       "      <td>3</td>\n",
       "      <td>1</td>\n",
       "      <td>5</td>\n",
       "      <td>120</td>\n",
       "      <td>120</td>\n",
       "      <td>12</td>\n",
       "      <td>167791</td>\n",
       "      <td>Board Game</td>\n",
       "      <td>1</td>\n",
       "      <td>1</td>\n",
       "      <td>20</td>\n",
       "      <td>20</td>\n",
       "      <td>6</td>\n",
       "      <td>9</td>\n",
       "      <td>15</td>\n",
       "      <td>29</td>\n",
       "      <td>6</td>\n",
       "      <td>['Jacob Fryxelius\"']</td>\n",
       "      <td>['Isaac Fryxelius']</td>\n",
       "      <td>['FryxGames', 'Arclight', 'Fantasmagoria', 'Gh...</td>\n",
       "      <td>['2016 Cardboard Republic Architect Laurel Nom...</td>\n",
       "      <td>['Economic', 'Environmental', 'Industry / Manu...</td>\n",
       "      <td>['Bulgarian edition', 'Chinese edition', 'Czec...</td>\n",
       "      <td>['Card Drafting', 'End Game Bonuses', 'Hand Ma...</td>\n",
       "      <td>['French Championship Promo Cards (fan expansi...</td>\n",
       "      <td>['Fryxgames Future Timeline', 'Planets: Mars',...</td>\n",
       "      <td>/boardgame/167791/terraforming-mars</td>\n",
       "      <td>167791</td>\n",
       "      <td>3.0</td>\n",
       "      <td>4.0</td>\n",
       "      <td>1252.0</td>\n",
       "      <td>12</td>\n",
       "      <td>3</td>\n",
       "      <td>48339.0</td>\n",
       "      <td>8.42299</td>\n",
       "      <td>8.26781</td>\n",
       "      <td>1.36938</td>\n",
       "      <td>3.2313</td>\n",
       "      <td>1863</td>\n",
       "      <td>5941</td>\n",
       "      <td>277</td>\n",
       "      <td>2068</td>\n",
       "      <td>7274</td>\n",
       "      <td>4724387</td>\n",
       "      <td>245997</td>\n",
       "      <td>4380</td>\n",
       "      <td>14</td>\n",
       "      <td>1158</td>\n",
       "      <td>60</td>\n",
       "      <td>148</td>\n",
       "    </tr>\n",
       "  </tbody>\n",
       "</table>\n",
       "</div>"
      ],
      "text/plain": [
       "   object_id                       name  yearpublished  sortindex  minplayers  \\\n",
       "0     174430                 Gloomhaven           2017          1           1   \n",
       "1     161936  Pandemic Legacy  Season 1           2015          2           2   \n",
       "2     167791          Terraforming Mars           2016          3           1   \n",
       "\n",
       "   maxplayers  minplaytime  maxplaytime  minage  objectid       label  \\\n",
       "0           4           60          120      12    174430  Board Game   \n",
       "1           4           60           60      13    161936  Board Game   \n",
       "2           5          120          120      12    167791  Board Game   \n",
       "\n",
       "   boardgamedesigner_cnt  boardgameartist_cnt  boardgamepublisher_cnt  \\\n",
       "0                      1                    3                       9   \n",
       "1                      2                    1                      11   \n",
       "2                      1                    1                      20   \n",
       "\n",
       "   boardgamehonor_cnt  boardgamecategory_cnt  boardgamemechanic_cnt  \\\n",
       "0                  23                      5                     12   \n",
       "1                  20                      2                      8   \n",
       "2                  20                      6                      9   \n",
       "\n",
       "   boardgameexpansion_cnt  boardgameversion_cnt  boardgamefamily_cnt  \\\n",
       "0                       4                    19                    7   \n",
       "1                       0                    33                    3   \n",
       "2                      15                    29                    6   \n",
       "\n",
       "                  boardgamedesigner  \\\n",
       "0               ['Isaac Childres\"']   \n",
       "1  ['Rob Daviau\"', 'Matt Leacock\"']   \n",
       "2              ['Jacob Fryxelius\"']   \n",
       "\n",
       "                                     boardgameartist  \\\n",
       "0  ['Alexandr Elichev', 'Josh T. McDowell', 'Alva...   \n",
       "1                                ['Chris Quilliams']   \n",
       "2                                ['Isaac Fryxelius']   \n",
       "\n",
       "                                  boardgamepublisher  \\\n",
       "0  ['Cephalofair Games', 'Albi', 'Asmodee', 'Feue...   \n",
       "1  ['Z-Man Games', 'Asterion Press', 'Devir', 'Fi...   \n",
       "2  ['FryxGames', 'Arclight', 'Fantasmagoria', 'Gh...   \n",
       "\n",
       "                                      boardgamehonor  \\\n",
       "0  ['2017 Best Science Fiction or Fantasy Board G...   \n",
       "1  ['2015 Cardboard Republic Immersionist Laurel ...   \n",
       "2  ['2016 Cardboard Republic Architect Laurel Nom...   \n",
       "\n",
       "                                   boardgamecategory  \\\n",
       "0  ['Adventure', 'Exploration', 'Fantasy', 'Fight...   \n",
       "1                       ['Environmental', 'Medical']   \n",
       "2  ['Economic', 'Environmental', 'Industry / Manu...   \n",
       "\n",
       "                                    boardgameversion  \\\n",
       "0  ['Chinese edition', 'Czech edition', 'English ...   \n",
       "1  ['Chinese blue edition', 'Chinese red edition'...   \n",
       "2  ['Bulgarian edition', 'Chinese edition', 'Czec...   \n",
       "\n",
       "                                   boardgamemechanic  \\\n",
       "0  ['Campaign / Battle Card Driven', 'Cooperative...   \n",
       "1  ['Action Points', 'Cooperative Game', 'Hand Ma...   \n",
       "2  ['Card Drafting', 'End Game Bonuses', 'Hand Ma...   \n",
       "\n",
       "                                  boardgameexpansion  \\\n",
       "0  ['Gloomhaven: Forgotten Circles', 'Gloomhaven:...   \n",
       "1                                           ['None']   \n",
       "2  ['French Championship Promo Cards (fan expansi...   \n",
       "\n",
       "                                     boardgamefamily  \\\n",
       "0  ['Campaign Games', 'Components: Miniatures', '...   \n",
       "1           ['Campaign Games', 'Legacy', 'Pandemic']   \n",
       "2  ['Fryxgames Future Timeline', 'Planets: Mars',...   \n",
       "\n",
       "                                     gamelink  objectid  min_community  \\\n",
       "0                /boardgame/174430/gloomhaven    174430            3.0   \n",
       "1  /boardgame/161936/pandemic-legacy-season-1    161936            4.0   \n",
       "2         /boardgame/167791/terraforming-mars    167791            3.0   \n",
       "\n",
       "   max_community  totalvotes playerage  languagedependence  usersrated  \\\n",
       "0            4.0       827.0        14                   4     31254.0   \n",
       "1            4.0       549.0        12                   4     34729.0   \n",
       "2            4.0      1252.0        12                   3     48339.0   \n",
       "\n",
       "   average  baverage   stddev  avgweight  numweights  numgeeklists  \\\n",
       "0  8.85292   8.58424  1.59819     3.8078        1311          3657   \n",
       "1  8.62499   8.47159  1.59463     2.8301         971          3612   \n",
       "2  8.42299   8.26781  1.36938     3.2313        1863          5941   \n",
       "\n",
       "   numtrading  numwanting  numcomments  siteviews  numplays  numplays_month  \\\n",
       "0         313        1365         5972    8933078    230213            3478   \n",
       "1         272         771         5477    2971746    196621            1090   \n",
       "2         277        2068         7274    4724387    245997            4380   \n",
       "\n",
       "   news  blogs  weblink  podcast  \n",
       "0     7    471       31      139  \n",
       "1     9    597       69      164  \n",
       "2    14   1158       60      148  "
      ]
     },
     "execution_count": 12,
     "metadata": {},
     "output_type": "execute_result"
    }
   ],
   "source": [
    "pd.set_option('display.max_columns', 500)\n",
    "merged = pd.concat(objs=[information_df, categoricals_df, stat_df], axis=1)\n",
    "merged.head(3)"
   ]
  },
  {
   "cell_type": "code",
   "execution_count": 13,
   "id": "b93168aa",
   "metadata": {},
   "outputs": [
    {
     "name": "stdout",
     "output_type": "stream",
     "text": [
      "(20016, 23)\n",
      "(20016, 9)\n",
      "(20016, 21)\n",
      "(20016, 53)\n"
     ]
    }
   ],
   "source": [
    "print(stat_df.shape)\n",
    "print(information_df.shape)\n",
    "print(categoricals_df.shape)\n",
    "print(merged.shape)"
   ]
  },
  {
   "cell_type": "markdown",
   "id": "fff538f8",
   "metadata": {},
   "source": [
    "Vemos que o merged contem a soma de colunas dos outros 3 dataframes. Agora, vou remover algumas colunas consideradas inúteis."
   ]
  },
  {
   "cell_type": "code",
   "execution_count": 14,
   "id": "f2fd3108",
   "metadata": {},
   "outputs": [
    {
     "data": {
      "text/plain": [
       "(20016, 50)"
      ]
     },
     "execution_count": 14,
     "metadata": {},
     "output_type": "execute_result"
    }
   ],
   "source": [
    "merged.drop(labels=['objectid', 'label'], axis=1, inplace=True)\n",
    "merged.shape"
   ]
  },
  {
   "cell_type": "markdown",
   "id": "dbd167f7",
   "metadata": {},
   "source": [
    "Fazendo um heatmap das variáveis estatísticas:\n"
   ]
  },
  {
   "cell_type": "code",
   "execution_count": 15,
   "id": "bab41c4d",
   "metadata": {},
   "outputs": [],
   "source": [
    "# corr = stat_df.corr(method='pearson')\n",
    "\n",
    "# plt.figure(figsize=(15,15))\n",
    "# sns.heatmap(corr, annot=True, fmt='.2f', cmap='coolwarm')\n",
    "# plt.show()"
   ]
  },
  {
   "cell_type": "markdown",
   "id": "449b5b80",
   "metadata": {},
   "source": [
    "## Medindo a popularidade de um jogo:"
   ]
  },
  {
   "cell_type": "markdown",
   "id": "bf4d7092",
   "metadata": {},
   "source": [
    "A tabela estatística contém diversos dados que, teoricamente, medem a popularidade de um jogo. Entretanto, por enquanto, considerei apenas as médias de avaliação do jogo (BGG e dos jogadores) e a quantidade de avaliações. Posteriormente, há espaço para aplicar algum modelo de clusterização para analisarmos todas essas variáveis juntas, mas por enquanto prevalece o modelo simplificado."
   ]
  },
  {
   "cell_type": "code",
   "execution_count": 16,
   "id": "5f4c5c9a",
   "metadata": {},
   "outputs": [
    {
     "data": {
      "text/html": [
       "<div>\n",
       "<style scoped>\n",
       "    .dataframe tbody tr th:only-of-type {\n",
       "        vertical-align: middle;\n",
       "    }\n",
       "\n",
       "    .dataframe tbody tr th {\n",
       "        vertical-align: top;\n",
       "    }\n",
       "\n",
       "    .dataframe thead th {\n",
       "        text-align: right;\n",
       "    }\n",
       "</style>\n",
       "<table border=\"1\" class=\"dataframe\">\n",
       "  <thead>\n",
       "    <tr style=\"text-align: right;\">\n",
       "      <th></th>\n",
       "      <th>name</th>\n",
       "      <th>object_id</th>\n",
       "      <th>usersrated</th>\n",
       "      <th>average</th>\n",
       "      <th>baverage</th>\n",
       "      <th>numgeeklists</th>\n",
       "      <th>numwanting</th>\n",
       "      <th>numcomments</th>\n",
       "      <th>siteviews</th>\n",
       "      <th>news</th>\n",
       "      <th>blogs</th>\n",
       "      <th>weblink</th>\n",
       "      <th>podcast</th>\n",
       "    </tr>\n",
       "  </thead>\n",
       "  <tbody>\n",
       "    <tr>\n",
       "      <th>0</th>\n",
       "      <td>Gloomhaven</td>\n",
       "      <td>174430</td>\n",
       "      <td>31254.0</td>\n",
       "      <td>8.85292</td>\n",
       "      <td>8.58424</td>\n",
       "      <td>3657</td>\n",
       "      <td>1365</td>\n",
       "      <td>5972</td>\n",
       "      <td>8933078</td>\n",
       "      <td>7</td>\n",
       "      <td>471</td>\n",
       "      <td>31</td>\n",
       "      <td>139</td>\n",
       "    </tr>\n",
       "    <tr>\n",
       "      <th>1</th>\n",
       "      <td>Pandemic Legacy  Season 1</td>\n",
       "      <td>161936</td>\n",
       "      <td>34729.0</td>\n",
       "      <td>8.62499</td>\n",
       "      <td>8.47159</td>\n",
       "      <td>3612</td>\n",
       "      <td>771</td>\n",
       "      <td>5477</td>\n",
       "      <td>2971746</td>\n",
       "      <td>9</td>\n",
       "      <td>597</td>\n",
       "      <td>69</td>\n",
       "      <td>164</td>\n",
       "    </tr>\n",
       "    <tr>\n",
       "      <th>2</th>\n",
       "      <td>Terraforming Mars</td>\n",
       "      <td>167791</td>\n",
       "      <td>48339.0</td>\n",
       "      <td>8.42299</td>\n",
       "      <td>8.26781</td>\n",
       "      <td>5941</td>\n",
       "      <td>2068</td>\n",
       "      <td>7274</td>\n",
       "      <td>4724387</td>\n",
       "      <td>14</td>\n",
       "      <td>1158</td>\n",
       "      <td>60</td>\n",
       "      <td>148</td>\n",
       "    </tr>\n",
       "    <tr>\n",
       "      <th>3</th>\n",
       "      <td>Through the Ages  A New Story of Civilization</td>\n",
       "      <td>182028</td>\n",
       "      <td>18269.0</td>\n",
       "      <td>8.49419</td>\n",
       "      <td>8.23513</td>\n",
       "      <td>2083</td>\n",
       "      <td>1049</td>\n",
       "      <td>2660</td>\n",
       "      <td>2448074</td>\n",
       "      <td>5</td>\n",
       "      <td>185</td>\n",
       "      <td>30</td>\n",
       "      <td>42</td>\n",
       "    </tr>\n",
       "    <tr>\n",
       "      <th>4</th>\n",
       "      <td>Brass  Birmingham</td>\n",
       "      <td>224517</td>\n",
       "      <td>10070.0</td>\n",
       "      <td>8.62031</td>\n",
       "      <td>8.20459</td>\n",
       "      <td>1039</td>\n",
       "      <td>1077</td>\n",
       "      <td>1702</td>\n",
       "      <td>894621</td>\n",
       "      <td>3</td>\n",
       "      <td>124</td>\n",
       "      <td>13</td>\n",
       "      <td>21</td>\n",
       "    </tr>\n",
       "    <tr>\n",
       "      <th>...</th>\n",
       "      <td>...</td>\n",
       "      <td>...</td>\n",
       "      <td>...</td>\n",
       "      <td>...</td>\n",
       "      <td>...</td>\n",
       "      <td>...</td>\n",
       "      <td>...</td>\n",
       "      <td>...</td>\n",
       "      <td>...</td>\n",
       "      <td>...</td>\n",
       "      <td>...</td>\n",
       "      <td>...</td>\n",
       "      <td>...</td>\n",
       "    </tr>\n",
       "    <tr>\n",
       "      <th>20011</th>\n",
       "      <td>Tuppi</td>\n",
       "      <td>14765</td>\n",
       "      <td>33.0</td>\n",
       "      <td>7.18788</td>\n",
       "      <td>5.53873</td>\n",
       "      <td>15</td>\n",
       "      <td>2</td>\n",
       "      <td>15</td>\n",
       "      <td>8992</td>\n",
       "      <td>0</td>\n",
       "      <td>0</td>\n",
       "      <td>0</td>\n",
       "      <td>0</td>\n",
       "    </tr>\n",
       "    <tr>\n",
       "      <th>20012</th>\n",
       "      <td>History of War</td>\n",
       "      <td>8134</td>\n",
       "      <td>96.0</td>\n",
       "      <td>5.99240</td>\n",
       "      <td>5.51421</td>\n",
       "      <td>56</td>\n",
       "      <td>4</td>\n",
       "      <td>50</td>\n",
       "      <td>43202</td>\n",
       "      <td>0</td>\n",
       "      <td>0</td>\n",
       "      <td>2</td>\n",
       "      <td>0</td>\n",
       "    </tr>\n",
       "    <tr>\n",
       "      <th>20013</th>\n",
       "      <td>Hesketh's Legacy</td>\n",
       "      <td>2673</td>\n",
       "      <td>1.0</td>\n",
       "      <td>6.00000</td>\n",
       "      <td>0.00000</td>\n",
       "      <td>2</td>\n",
       "      <td>0</td>\n",
       "      <td>1</td>\n",
       "      <td>2559</td>\n",
       "      <td>0</td>\n",
       "      <td>2</td>\n",
       "      <td>0</td>\n",
       "      <td>0</td>\n",
       "    </tr>\n",
       "    <tr>\n",
       "      <th>20014</th>\n",
       "      <td>Snug as a Bug in a Rug</td>\n",
       "      <td>132322</td>\n",
       "      <td>42.0</td>\n",
       "      <td>6.36905</td>\n",
       "      <td>5.52454</td>\n",
       "      <td>13</td>\n",
       "      <td>1</td>\n",
       "      <td>17</td>\n",
       "      <td>9524</td>\n",
       "      <td>0</td>\n",
       "      <td>0</td>\n",
       "      <td>4</td>\n",
       "      <td>0</td>\n",
       "    </tr>\n",
       "    <tr>\n",
       "      <th>20015</th>\n",
       "      <td>Wake up</td>\n",
       "      <td>159452</td>\n",
       "      <td>174.0</td>\n",
       "      <td>5.51477</td>\n",
       "      <td>5.48152</td>\n",
       "      <td>33</td>\n",
       "      <td>0</td>\n",
       "      <td>47</td>\n",
       "      <td>16908</td>\n",
       "      <td>1</td>\n",
       "      <td>0</td>\n",
       "      <td>3</td>\n",
       "      <td>2</td>\n",
       "    </tr>\n",
       "  </tbody>\n",
       "</table>\n",
       "<p>20016 rows × 13 columns</p>\n",
       "</div>"
      ],
      "text/plain": [
       "                                                name  object_id  usersrated  \\\n",
       "0                                         Gloomhaven     174430     31254.0   \n",
       "1                          Pandemic Legacy  Season 1     161936     34729.0   \n",
       "2                                  Terraforming Mars     167791     48339.0   \n",
       "3      Through the Ages  A New Story of Civilization     182028     18269.0   \n",
       "4                                  Brass  Birmingham     224517     10070.0   \n",
       "...                                              ...        ...         ...   \n",
       "20011                                          Tuppi      14765        33.0   \n",
       "20012                                 History of War       8134        96.0   \n",
       "20013                               Hesketh's Legacy       2673         1.0   \n",
       "20014                         Snug as a Bug in a Rug     132322        42.0   \n",
       "20015                                        Wake up     159452       174.0   \n",
       "\n",
       "       average  baverage  numgeeklists  numwanting  numcomments  siteviews  \\\n",
       "0      8.85292   8.58424          3657        1365         5972    8933078   \n",
       "1      8.62499   8.47159          3612         771         5477    2971746   \n",
       "2      8.42299   8.26781          5941        2068         7274    4724387   \n",
       "3      8.49419   8.23513          2083        1049         2660    2448074   \n",
       "4      8.62031   8.20459          1039        1077         1702     894621   \n",
       "...        ...       ...           ...         ...          ...        ...   \n",
       "20011  7.18788   5.53873            15           2           15       8992   \n",
       "20012  5.99240   5.51421            56           4           50      43202   \n",
       "20013  6.00000   0.00000             2           0            1       2559   \n",
       "20014  6.36905   5.52454            13           1           17       9524   \n",
       "20015  5.51477   5.48152            33           0           47      16908   \n",
       "\n",
       "       news  blogs  weblink  podcast  \n",
       "0         7    471       31      139  \n",
       "1         9    597       69      164  \n",
       "2        14   1158       60      148  \n",
       "3         5    185       30       42  \n",
       "4         3    124       13       21  \n",
       "...     ...    ...      ...      ...  \n",
       "20011     0      0        0        0  \n",
       "20012     0      0        2        0  \n",
       "20013     0      2        0        0  \n",
       "20014     0      0        4        0  \n",
       "20015     1      0        3        2  \n",
       "\n",
       "[20016 rows x 13 columns]"
      ]
     },
     "execution_count": 16,
     "metadata": {},
     "output_type": "execute_result"
    }
   ],
   "source": [
    "colunas_selecionadas = ['name', 'object_id', 'usersrated', 'average', 'baverage', 'numgeeklists',\n",
    "                        'numwanting', 'numcomments', 'siteviews', 'news', 'blogs', 'weblink',\n",
    "                        'podcast']\n",
    "boardgame_stat = merged[colunas_selecionadas].copy()\n",
    "stat_df_filtrado = boardgame_stat.copy()\n",
    "stat_df_filtrado"
   ]
  },
  {
   "cell_type": "markdown",
   "id": "3ebef6ad",
   "metadata": {},
   "source": [
    "Aqui encontrei um problema: há diversos dados nulos nas colunas baverage e average, e não sei o que essa nulicidade representa diretamente. Portanto, vou prever esses valores com base na razão entre average e baverage. A seguir fica o passo a passo de como fiz para o cálculo da razão."
   ]
  },
  {
   "cell_type": "markdown",
   "id": "e5e75d1b",
   "metadata": {},
   "source": [
    "## Análise Prévia"
   ]
  },
  {
   "cell_type": "markdown",
   "id": "cd70d213",
   "metadata": {},
   "source": [
    "### Analisando usersrated == 0\n"
   ]
  },
  {
   "cell_type": "code",
   "execution_count": 17,
   "id": "766557c2",
   "metadata": {},
   "outputs": [
    {
     "data": {
      "text/plain": [
       "name            Looney LeoRolazoneContangoDon't Give Up Your D...\n",
       "object_id                                                  360634\n",
       "usersrated                                                    0.0\n",
       "average                                                       0.0\n",
       "baverage                                                      0.0\n",
       "numgeeklists                                                  550\n",
       "numwanting                                                     62\n",
       "numcomments                                                    35\n",
       "siteviews                                                  438442\n",
       "news                                                            0\n",
       "blogs                                                           1\n",
       "weblink                                                        12\n",
       "podcast                                                         0\n",
       "dtype: object"
      ]
     },
     "execution_count": 17,
     "metadata": {},
     "output_type": "execute_result"
    }
   ],
   "source": [
    "stat_df_filtrado.query('usersrated == 0').sum()"
   ]
  },
  {
   "cell_type": "markdown",
   "id": "b2a5f9f4",
   "metadata": {},
   "source": [
    "Vou comparar os valores de cada variável que contém userrated == 0 com o valor total delas, para saber sua representatividade."
   ]
  },
  {
   "cell_type": "code",
   "execution_count": 18,
   "id": "6668ac0e",
   "metadata": {},
   "outputs": [],
   "source": [
    "def verifica_porcentagem(df:pd.DataFrame, coluna):\n",
    "    valor = df.query('usersrated == 0').sum()[coluna]\n",
    "    total = df[coluna].sum()\n",
    "    return valor / total * 100"
   ]
  },
  {
   "cell_type": "code",
   "execution_count": 19,
   "id": "00a6d99c",
   "metadata": {},
   "outputs": [
    {
     "name": "stdout",
     "output_type": "stream",
     "text": [
      "A porcentagem de numgeeklists é 0.011253797901023462\n",
      "A porcentagem de numwanting é 0.007868988949147294\n",
      "A porcentagem de numcomments é 0.0009131586156515387\n",
      "A porcentagem de siteviews é 0.02870729860782448\n",
      "A porcentagem de blogs é 0.0004923682914820286\n",
      "A porcentagem de weblink é 0.009585812996764788\n"
     ]
    }
   ],
   "source": [
    "colunas_analisadas = ['numgeeklists', 'numwanting', 'numcomments', 'siteviews', 'blogs', 'weblink']\n",
    "for coluna in colunas_analisadas:\n",
    "    print(f\"A porcentagem de {coluna} é {verifica_porcentagem(stat_df_filtrado, coluna)}\")"
   ]
  },
  {
   "cell_type": "markdown",
   "id": "fc409498",
   "metadata": {},
   "source": [
    "Como todos os valores representam nem 1% do total, serão desconsiderados."
   ]
  },
  {
   "cell_type": "code",
   "execution_count": 20,
   "id": "7e45b16f",
   "metadata": {},
   "outputs": [],
   "source": [
    "# Removi todas as linhas nas quais usersrated == 0\n",
    "stat_df_filtrado = stat_df_filtrado.query('usersrated != 0').copy()"
   ]
  },
  {
   "cell_type": "code",
   "execution_count": 21,
   "id": "fcb92c7e",
   "metadata": {},
   "outputs": [
    {
     "data": {
      "text/html": [
       "<div>\n",
       "<style scoped>\n",
       "    .dataframe tbody tr th:only-of-type {\n",
       "        vertical-align: middle;\n",
       "    }\n",
       "\n",
       "    .dataframe tbody tr th {\n",
       "        vertical-align: top;\n",
       "    }\n",
       "\n",
       "    .dataframe thead th {\n",
       "        text-align: right;\n",
       "    }\n",
       "</style>\n",
       "<table border=\"1\" class=\"dataframe\">\n",
       "  <thead>\n",
       "    <tr style=\"text-align: right;\">\n",
       "      <th></th>\n",
       "      <th>name</th>\n",
       "      <th>object_id</th>\n",
       "      <th>usersrated</th>\n",
       "      <th>average</th>\n",
       "      <th>baverage</th>\n",
       "      <th>numgeeklists</th>\n",
       "      <th>numwanting</th>\n",
       "      <th>numcomments</th>\n",
       "      <th>siteviews</th>\n",
       "      <th>news</th>\n",
       "      <th>blogs</th>\n",
       "      <th>weblink</th>\n",
       "      <th>podcast</th>\n",
       "    </tr>\n",
       "  </thead>\n",
       "  <tbody>\n",
       "    <tr>\n",
       "      <th>0</th>\n",
       "      <td>Gloomhaven</td>\n",
       "      <td>174430</td>\n",
       "      <td>31254.0</td>\n",
       "      <td>8.85292</td>\n",
       "      <td>8.58424</td>\n",
       "      <td>3657</td>\n",
       "      <td>1365</td>\n",
       "      <td>5972</td>\n",
       "      <td>8933078</td>\n",
       "      <td>7</td>\n",
       "      <td>471</td>\n",
       "      <td>31</td>\n",
       "      <td>139</td>\n",
       "    </tr>\n",
       "    <tr>\n",
       "      <th>1</th>\n",
       "      <td>Pandemic Legacy  Season 1</td>\n",
       "      <td>161936</td>\n",
       "      <td>34729.0</td>\n",
       "      <td>8.62499</td>\n",
       "      <td>8.47159</td>\n",
       "      <td>3612</td>\n",
       "      <td>771</td>\n",
       "      <td>5477</td>\n",
       "      <td>2971746</td>\n",
       "      <td>9</td>\n",
       "      <td>597</td>\n",
       "      <td>69</td>\n",
       "      <td>164</td>\n",
       "    </tr>\n",
       "    <tr>\n",
       "      <th>2</th>\n",
       "      <td>Terraforming Mars</td>\n",
       "      <td>167791</td>\n",
       "      <td>48339.0</td>\n",
       "      <td>8.42299</td>\n",
       "      <td>8.26781</td>\n",
       "      <td>5941</td>\n",
       "      <td>2068</td>\n",
       "      <td>7274</td>\n",
       "      <td>4724387</td>\n",
       "      <td>14</td>\n",
       "      <td>1158</td>\n",
       "      <td>60</td>\n",
       "      <td>148</td>\n",
       "    </tr>\n",
       "  </tbody>\n",
       "</table>\n",
       "</div>"
      ],
      "text/plain": [
       "                        name  object_id  usersrated  average  baverage  \\\n",
       "0                 Gloomhaven     174430     31254.0  8.85292   8.58424   \n",
       "1  Pandemic Legacy  Season 1     161936     34729.0  8.62499   8.47159   \n",
       "2          Terraforming Mars     167791     48339.0  8.42299   8.26781   \n",
       "\n",
       "   numgeeklists  numwanting  numcomments  siteviews  news  blogs  weblink  \\\n",
       "0          3657        1365         5972    8933078     7    471       31   \n",
       "1          3612         771         5477    2971746     9    597       69   \n",
       "2          5941        2068         7274    4724387    14   1158       60   \n",
       "\n",
       "   podcast  \n",
       "0      139  \n",
       "1      164  \n",
       "2      148  "
      ]
     },
     "execution_count": 21,
     "metadata": {},
     "output_type": "execute_result"
    }
   ],
   "source": [
    "stat_df_filtrado.head(3)"
   ]
  },
  {
   "cell_type": "markdown",
   "id": "6d8cdd89",
   "metadata": {},
   "source": [
    "### Analisando average == 0"
   ]
  },
  {
   "cell_type": "code",
   "execution_count": 22,
   "id": "0441fe4d",
   "metadata": {},
   "outputs": [
    {
     "data": {
      "text/plain": [
       "name              0\n",
       "object_id         0\n",
       "usersrated      0.0\n",
       "average         0.0\n",
       "baverage        0.0\n",
       "numgeeklists      0\n",
       "numwanting        0\n",
       "numcomments       0\n",
       "siteviews         0\n",
       "news              0\n",
       "blogs             0\n",
       "weblink           0\n",
       "podcast           0\n",
       "dtype: object"
      ]
     },
     "execution_count": 22,
     "metadata": {},
     "output_type": "execute_result"
    }
   ],
   "source": [
    "stat_df_filtrado.query('average == 0').sum()"
   ]
  },
  {
   "cell_type": "code",
   "execution_count": 23,
   "id": "804b5c82",
   "metadata": {},
   "outputs": [
    {
     "data": {
      "text/plain": [
       "(0, 13)"
      ]
     },
     "execution_count": 23,
     "metadata": {},
     "output_type": "execute_result"
    }
   ],
   "source": [
    "stat_df_filtrado.query('average == 0').shape"
   ]
  },
  {
   "cell_type": "markdown",
   "id": "53832448",
   "metadata": {},
   "source": [
    "Não há linhas nas quais o average é 0, então não há nada a se fazer"
   ]
  },
  {
   "cell_type": "markdown",
   "id": "20744059",
   "metadata": {},
   "source": [
    "### Analisando baverage == 0"
   ]
  },
  {
   "cell_type": "code",
   "execution_count": 24,
   "id": "573613ce",
   "metadata": {},
   "outputs": [
    {
     "data": {
      "text/plain": [
       "name            The Garden GamePeaceful ResistanceGreen Thumb ...\n",
       "object_id                                                 4223416\n",
       "usersrated                                                15670.0\n",
       "average                                                6768.32561\n",
       "baverage                                                      0.0\n",
       "numgeeklists                                                22960\n",
       "numwanting                                                   3063\n",
       "numcomments                                                  9586\n",
       "siteviews                                                10745815\n",
       "news                                                            4\n",
       "blogs                                                          88\n",
       "weblink                                                       972\n",
       "podcast                                                        18\n",
       "dtype: object"
      ]
     },
     "execution_count": 24,
     "metadata": {},
     "output_type": "execute_result"
    }
   ],
   "source": [
    "stat_df_filtrado.query('baverage == 0').sum()"
   ]
  },
  {
   "cell_type": "markdown",
   "id": "1dc174d5",
   "metadata": {},
   "source": [
    "Aparentemente, temos algumas linhas com baverage == 0"
   ]
  },
  {
   "cell_type": "code",
   "execution_count": 25,
   "id": "0ffd89ec",
   "metadata": {},
   "outputs": [
    {
     "data": {
      "text/plain": [
       "(1296, 13)"
      ]
     },
     "execution_count": 25,
     "metadata": {},
     "output_type": "execute_result"
    }
   ],
   "source": [
    "stat_df_filtrado.query('baverage == 0').shape"
   ]
  },
  {
   "cell_type": "markdown",
   "id": "6157478c",
   "metadata": {},
   "source": [
    "São 1296 linhas nas quais baverage == 0. Vamos ver o quanto isso é em relação aos votos totais."
   ]
  },
  {
   "cell_type": "markdown",
   "id": "22d4e2ec",
   "metadata": {},
   "source": [
    "### Observando a ocorrencia de baverage == 0 em relação aos votos totais"
   ]
  },
  {
   "cell_type": "code",
   "execution_count": 26,
   "id": "88f1beee",
   "metadata": {},
   "outputs": [
    {
     "name": "stdout",
     "output_type": "stream",
     "text": [
      "A porcentagem de usersrated com baverage == 0 por total é 0.10620128769908506\n"
     ]
    }
   ],
   "source": [
    "print(f\"A porcentagem de usersrated com baverage == 0 por total é {stat_df_filtrado.query('baverage == 0')['usersrated'].sum() / stat_df_filtrado['usersrated'].sum() * 100}\")"
   ]
  },
  {
   "cell_type": "markdown",
   "id": "80d11f29",
   "metadata": {},
   "source": [
    "Como as ocorrencias de baverage == 0 refletem 0.1% dos votos todais, optei por desonsiderá-las para efeito de cálculo"
   ]
  },
  {
   "cell_type": "code",
   "execution_count": 27,
   "id": "fd88a2ba",
   "metadata": {},
   "outputs": [],
   "source": [
    "stat_df_filtrado = stat_df_filtrado.query('baverage != 0').copy()"
   ]
  },
  {
   "cell_type": "markdown",
   "id": "b8525c1d",
   "metadata": {},
   "source": [
    "### Lidando com dados nulos:"
   ]
  },
  {
   "cell_type": "code",
   "execution_count": 28,
   "id": "aadf4bdf",
   "metadata": {},
   "outputs": [
    {
     "data": {
      "text/plain": [
       "name             0\n",
       "object_id        0\n",
       "usersrated      89\n",
       "average         94\n",
       "baverage        96\n",
       "numgeeklists     0\n",
       "numwanting       0\n",
       "numcomments      0\n",
       "siteviews        0\n",
       "news             0\n",
       "blogs            0\n",
       "weblink          0\n",
       "podcast          0\n",
       "dtype: int64"
      ]
     },
     "execution_count": 28,
     "metadata": {},
     "output_type": "execute_result"
    }
   ],
   "source": [
    "stat_df_filtrado.isnull().sum()"
   ]
  },
  {
   "cell_type": "markdown",
   "id": "d2cfd280",
   "metadata": {},
   "source": [
    "Como os dados nulos ocasionarão em futuros erros ou novos dados nulos após efetuação do cálculo, desconsideraremos"
   ]
  },
  {
   "cell_type": "code",
   "execution_count": 29,
   "id": "520ca495",
   "metadata": {},
   "outputs": [],
   "source": [
    "stat_df_filtrado = stat_df_filtrado.dropna().copy()"
   ]
  },
  {
   "cell_type": "code",
   "execution_count": 30,
   "id": "4cd7ef62",
   "metadata": {},
   "outputs": [
    {
     "data": {
      "text/plain": [
       "name            0\n",
       "object_id       0\n",
       "usersrated      0\n",
       "average         0\n",
       "baverage        0\n",
       "numgeeklists    0\n",
       "numwanting      0\n",
       "numcomments     0\n",
       "siteviews       0\n",
       "news            0\n",
       "blogs           0\n",
       "weblink         0\n",
       "podcast         0\n",
       "dtype: int64"
      ]
     },
     "execution_count": 30,
     "metadata": {},
     "output_type": "execute_result"
    }
   ],
   "source": [
    "stat_df_filtrado.isnull().sum()"
   ]
  },
  {
   "cell_type": "markdown",
   "id": "bad3e13a",
   "metadata": {},
   "source": [
    "## Cálculo da razão"
   ]
  },
  {
   "cell_type": "markdown",
   "id": "028d498c",
   "metadata": {},
   "source": [
    "#### Efetuando cálculo da razão geral"
   ]
  },
  {
   "cell_type": "code",
   "execution_count": 31,
   "id": "692fa108",
   "metadata": {},
   "outputs": [],
   "source": [
    "stat_df_filtrado['average/baverage'] = stat_df_filtrado['average'] / stat_df_filtrado['baverage']"
   ]
  },
  {
   "cell_type": "markdown",
   "id": "be3111c7",
   "metadata": {},
   "source": [
    "#### Ponderando o efeito da razão pela quantidade total de votos"
   ]
  },
  {
   "cell_type": "code",
   "execution_count": 32,
   "id": "69b5cdd4",
   "metadata": {},
   "outputs": [],
   "source": [
    "stat_df_filtrado['average/baverage_ponderado'] =stat_df_filtrado['average/baverage'] * stat_df_filtrado['usersrated']"
   ]
  },
  {
   "cell_type": "markdown",
   "id": "ef912435",
   "metadata": {},
   "source": [
    "#### Efetuando o cálculo da razão média ponderada de average / baverage"
   ]
  },
  {
   "cell_type": "code",
   "execution_count": 33,
   "id": "968f4249",
   "metadata": {},
   "outputs": [],
   "source": [
    "razao_media = stat_df_filtrado['average/baverage_ponderado'].sum() / stat_df_filtrado['usersrated'].sum()"
   ]
  },
  {
   "cell_type": "code",
   "execution_count": 34,
   "id": "b0e6a191",
   "metadata": {},
   "outputs": [
    {
     "data": {
      "text/plain": [
       "1.0617524552384836"
      ]
     },
     "execution_count": 34,
     "metadata": {},
     "output_type": "execute_result"
    }
   ],
   "source": [
    "razao_media"
   ]
  },
  {
   "cell_type": "markdown",
   "id": "4e10d6f1",
   "metadata": {},
   "source": [
    "## Remapeando na base original"
   ]
  },
  {
   "cell_type": "markdown",
   "id": "ca1cf860",
   "metadata": {},
   "source": [
    "#### Removendo registros sem votos:"
   ]
  },
  {
   "cell_type": "code",
   "execution_count": 35,
   "id": "f3b14024",
   "metadata": {},
   "outputs": [],
   "source": [
    "boardgame_stat = boardgame_stat.query('usersrated != 0').copy()"
   ]
  },
  {
   "cell_type": "markdown",
   "id": "310bf776",
   "metadata": {},
   "source": [
    "#### Tratando dados nulos e zerados como o mesmo problema"
   ]
  },
  {
   "cell_type": "code",
   "execution_count": 36,
   "id": "2af53a4e",
   "metadata": {},
   "outputs": [
    {
     "data": {
      "text/html": [
       "<div>\n",
       "<style scoped>\n",
       "    .dataframe tbody tr th:only-of-type {\n",
       "        vertical-align: middle;\n",
       "    }\n",
       "\n",
       "    .dataframe tbody tr th {\n",
       "        vertical-align: top;\n",
       "    }\n",
       "\n",
       "    .dataframe thead th {\n",
       "        text-align: right;\n",
       "    }\n",
       "</style>\n",
       "<table border=\"1\" class=\"dataframe\">\n",
       "  <thead>\n",
       "    <tr style=\"text-align: right;\">\n",
       "      <th></th>\n",
       "      <th>name</th>\n",
       "      <th>object_id</th>\n",
       "      <th>usersrated</th>\n",
       "      <th>average</th>\n",
       "      <th>baverage</th>\n",
       "      <th>numgeeklists</th>\n",
       "      <th>numwanting</th>\n",
       "      <th>numcomments</th>\n",
       "      <th>siteviews</th>\n",
       "      <th>news</th>\n",
       "      <th>blogs</th>\n",
       "      <th>weblink</th>\n",
       "      <th>podcast</th>\n",
       "    </tr>\n",
       "  </thead>\n",
       "  <tbody>\n",
       "    <tr>\n",
       "      <th>0</th>\n",
       "      <td>Gloomhaven</td>\n",
       "      <td>174430</td>\n",
       "      <td>31254.0</td>\n",
       "      <td>8.85292</td>\n",
       "      <td>8.58424</td>\n",
       "      <td>3657</td>\n",
       "      <td>1365</td>\n",
       "      <td>5972</td>\n",
       "      <td>8933078</td>\n",
       "      <td>7</td>\n",
       "      <td>471</td>\n",
       "      <td>31</td>\n",
       "      <td>139</td>\n",
       "    </tr>\n",
       "    <tr>\n",
       "      <th>1</th>\n",
       "      <td>Pandemic Legacy  Season 1</td>\n",
       "      <td>161936</td>\n",
       "      <td>34729.0</td>\n",
       "      <td>8.62499</td>\n",
       "      <td>8.47159</td>\n",
       "      <td>3612</td>\n",
       "      <td>771</td>\n",
       "      <td>5477</td>\n",
       "      <td>2971746</td>\n",
       "      <td>9</td>\n",
       "      <td>597</td>\n",
       "      <td>69</td>\n",
       "      <td>164</td>\n",
       "    </tr>\n",
       "    <tr>\n",
       "      <th>2</th>\n",
       "      <td>Terraforming Mars</td>\n",
       "      <td>167791</td>\n",
       "      <td>48339.0</td>\n",
       "      <td>8.42299</td>\n",
       "      <td>8.26781</td>\n",
       "      <td>5941</td>\n",
       "      <td>2068</td>\n",
       "      <td>7274</td>\n",
       "      <td>4724387</td>\n",
       "      <td>14</td>\n",
       "      <td>1158</td>\n",
       "      <td>60</td>\n",
       "      <td>148</td>\n",
       "    </tr>\n",
       "    <tr>\n",
       "      <th>3</th>\n",
       "      <td>Through the Ages  A New Story of Civilization</td>\n",
       "      <td>182028</td>\n",
       "      <td>18269.0</td>\n",
       "      <td>8.49419</td>\n",
       "      <td>8.23513</td>\n",
       "      <td>2083</td>\n",
       "      <td>1049</td>\n",
       "      <td>2660</td>\n",
       "      <td>2448074</td>\n",
       "      <td>5</td>\n",
       "      <td>185</td>\n",
       "      <td>30</td>\n",
       "      <td>42</td>\n",
       "    </tr>\n",
       "    <tr>\n",
       "      <th>4</th>\n",
       "      <td>Brass  Birmingham</td>\n",
       "      <td>224517</td>\n",
       "      <td>10070.0</td>\n",
       "      <td>8.62031</td>\n",
       "      <td>8.20459</td>\n",
       "      <td>1039</td>\n",
       "      <td>1077</td>\n",
       "      <td>1702</td>\n",
       "      <td>894621</td>\n",
       "      <td>3</td>\n",
       "      <td>124</td>\n",
       "      <td>13</td>\n",
       "      <td>21</td>\n",
       "    </tr>\n",
       "    <tr>\n",
       "      <th>...</th>\n",
       "      <td>...</td>\n",
       "      <td>...</td>\n",
       "      <td>...</td>\n",
       "      <td>...</td>\n",
       "      <td>...</td>\n",
       "      <td>...</td>\n",
       "      <td>...</td>\n",
       "      <td>...</td>\n",
       "      <td>...</td>\n",
       "      <td>...</td>\n",
       "      <td>...</td>\n",
       "      <td>...</td>\n",
       "      <td>...</td>\n",
       "    </tr>\n",
       "    <tr>\n",
       "      <th>20011</th>\n",
       "      <td>Tuppi</td>\n",
       "      <td>14765</td>\n",
       "      <td>33.0</td>\n",
       "      <td>7.18788</td>\n",
       "      <td>5.53873</td>\n",
       "      <td>15</td>\n",
       "      <td>2</td>\n",
       "      <td>15</td>\n",
       "      <td>8992</td>\n",
       "      <td>0</td>\n",
       "      <td>0</td>\n",
       "      <td>0</td>\n",
       "      <td>0</td>\n",
       "    </tr>\n",
       "    <tr>\n",
       "      <th>20012</th>\n",
       "      <td>History of War</td>\n",
       "      <td>8134</td>\n",
       "      <td>96.0</td>\n",
       "      <td>5.99240</td>\n",
       "      <td>5.51421</td>\n",
       "      <td>56</td>\n",
       "      <td>4</td>\n",
       "      <td>50</td>\n",
       "      <td>43202</td>\n",
       "      <td>0</td>\n",
       "      <td>0</td>\n",
       "      <td>2</td>\n",
       "      <td>0</td>\n",
       "    </tr>\n",
       "    <tr>\n",
       "      <th>20013</th>\n",
       "      <td>Hesketh's Legacy</td>\n",
       "      <td>2673</td>\n",
       "      <td>1.0</td>\n",
       "      <td>6.00000</td>\n",
       "      <td>0.00000</td>\n",
       "      <td>2</td>\n",
       "      <td>0</td>\n",
       "      <td>1</td>\n",
       "      <td>2559</td>\n",
       "      <td>0</td>\n",
       "      <td>2</td>\n",
       "      <td>0</td>\n",
       "      <td>0</td>\n",
       "    </tr>\n",
       "    <tr>\n",
       "      <th>20014</th>\n",
       "      <td>Snug as a Bug in a Rug</td>\n",
       "      <td>132322</td>\n",
       "      <td>42.0</td>\n",
       "      <td>6.36905</td>\n",
       "      <td>5.52454</td>\n",
       "      <td>13</td>\n",
       "      <td>1</td>\n",
       "      <td>17</td>\n",
       "      <td>9524</td>\n",
       "      <td>0</td>\n",
       "      <td>0</td>\n",
       "      <td>4</td>\n",
       "      <td>0</td>\n",
       "    </tr>\n",
       "    <tr>\n",
       "      <th>20015</th>\n",
       "      <td>Wake up</td>\n",
       "      <td>159452</td>\n",
       "      <td>174.0</td>\n",
       "      <td>5.51477</td>\n",
       "      <td>5.48152</td>\n",
       "      <td>33</td>\n",
       "      <td>0</td>\n",
       "      <td>47</td>\n",
       "      <td>16908</td>\n",
       "      <td>1</td>\n",
       "      <td>0</td>\n",
       "      <td>3</td>\n",
       "      <td>2</td>\n",
       "    </tr>\n",
       "  </tbody>\n",
       "</table>\n",
       "<p>19921 rows × 13 columns</p>\n",
       "</div>"
      ],
      "text/plain": [
       "                                                name  object_id  usersrated  \\\n",
       "0                                         Gloomhaven     174430     31254.0   \n",
       "1                          Pandemic Legacy  Season 1     161936     34729.0   \n",
       "2                                  Terraforming Mars     167791     48339.0   \n",
       "3      Through the Ages  A New Story of Civilization     182028     18269.0   \n",
       "4                                  Brass  Birmingham     224517     10070.0   \n",
       "...                                              ...        ...         ...   \n",
       "20011                                          Tuppi      14765        33.0   \n",
       "20012                                 History of War       8134        96.0   \n",
       "20013                               Hesketh's Legacy       2673         1.0   \n",
       "20014                         Snug as a Bug in a Rug     132322        42.0   \n",
       "20015                                        Wake up     159452       174.0   \n",
       "\n",
       "       average  baverage  numgeeklists  numwanting  numcomments  siteviews  \\\n",
       "0      8.85292   8.58424          3657        1365         5972    8933078   \n",
       "1      8.62499   8.47159          3612         771         5477    2971746   \n",
       "2      8.42299   8.26781          5941        2068         7274    4724387   \n",
       "3      8.49419   8.23513          2083        1049         2660    2448074   \n",
       "4      8.62031   8.20459          1039        1077         1702     894621   \n",
       "...        ...       ...           ...         ...          ...        ...   \n",
       "20011  7.18788   5.53873            15           2           15       8992   \n",
       "20012  5.99240   5.51421            56           4           50      43202   \n",
       "20013  6.00000   0.00000             2           0            1       2559   \n",
       "20014  6.36905   5.52454            13           1           17       9524   \n",
       "20015  5.51477   5.48152            33           0           47      16908   \n",
       "\n",
       "       news  blogs  weblink  podcast  \n",
       "0         7    471       31      139  \n",
       "1         9    597       69      164  \n",
       "2        14   1158       60      148  \n",
       "3         5    185       30       42  \n",
       "4         3    124       13       21  \n",
       "...     ...    ...      ...      ...  \n",
       "20011     0      0        0        0  \n",
       "20012     0      0        2        0  \n",
       "20013     0      2        0        0  \n",
       "20014     0      0        4        0  \n",
       "20015     1      0        3        2  \n",
       "\n",
       "[19921 rows x 13 columns]"
      ]
     },
     "execution_count": 36,
     "metadata": {},
     "output_type": "execute_result"
    }
   ],
   "source": [
    "boardgame_stat = boardgame_stat.fillna(0)\n",
    "boardgame_stat"
   ]
  },
  {
   "cell_type": "code",
   "execution_count": 37,
   "id": "7367fe50",
   "metadata": {},
   "outputs": [
    {
     "data": {
      "text/html": [
       "<div>\n",
       "<style scoped>\n",
       "    .dataframe tbody tr th:only-of-type {\n",
       "        vertical-align: middle;\n",
       "    }\n",
       "\n",
       "    .dataframe tbody tr th {\n",
       "        vertical-align: top;\n",
       "    }\n",
       "\n",
       "    .dataframe thead th {\n",
       "        text-align: right;\n",
       "    }\n",
       "</style>\n",
       "<table border=\"1\" class=\"dataframe\">\n",
       "  <thead>\n",
       "    <tr style=\"text-align: right;\">\n",
       "      <th></th>\n",
       "      <th>name</th>\n",
       "      <th>object_id</th>\n",
       "      <th>usersrated</th>\n",
       "      <th>average</th>\n",
       "      <th>baverage</th>\n",
       "      <th>numgeeklists</th>\n",
       "      <th>numwanting</th>\n",
       "      <th>numcomments</th>\n",
       "      <th>siteviews</th>\n",
       "      <th>news</th>\n",
       "      <th>blogs</th>\n",
       "      <th>weblink</th>\n",
       "      <th>podcast</th>\n",
       "    </tr>\n",
       "  </thead>\n",
       "  <tbody>\n",
       "    <tr>\n",
       "      <th>41</th>\n",
       "      <td>Le Havre</td>\n",
       "      <td>35677</td>\n",
       "      <td>24266.0</td>\n",
       "      <td>7.87980</td>\n",
       "      <td>0.00000</td>\n",
       "      <td>5739</td>\n",
       "      <td>1554</td>\n",
       "      <td>4868</td>\n",
       "      <td>1876534</td>\n",
       "      <td>3</td>\n",
       "      <td>253</td>\n",
       "      <td>67</td>\n",
       "      <td>30</td>\n",
       "    </tr>\n",
       "    <tr>\n",
       "      <th>64</th>\n",
       "      <td>Battlestar Galactica  The Board Game</td>\n",
       "      <td>37111</td>\n",
       "      <td>31058.0</td>\n",
       "      <td>0.00000</td>\n",
       "      <td>7.58289</td>\n",
       "      <td>10878</td>\n",
       "      <td>756</td>\n",
       "      <td>6426</td>\n",
       "      <td>2220403</td>\n",
       "      <td>0</td>\n",
       "      <td>307</td>\n",
       "      <td>100</td>\n",
       "      <td>94</td>\n",
       "    </tr>\n",
       "    <tr>\n",
       "      <th>170</th>\n",
       "      <td>Deception  Murder in Hong Kong</td>\n",
       "      <td>156129</td>\n",
       "      <td>13172.0</td>\n",
       "      <td>7.51194</td>\n",
       "      <td>0.00000</td>\n",
       "      <td>1484</td>\n",
       "      <td>710</td>\n",
       "      <td>2337</td>\n",
       "      <td>748461</td>\n",
       "      <td>2</td>\n",
       "      <td>132</td>\n",
       "      <td>19</td>\n",
       "      <td>44</td>\n",
       "    </tr>\n",
       "    <tr>\n",
       "      <th>209</th>\n",
       "      <td>\\u05e7\\u05d9\\u05e0\\u05d2\\u05d3\\u05d5\\u05de\\u05...</td>\n",
       "      <td>204583</td>\n",
       "      <td>24282.0</td>\n",
       "      <td>0.00000</td>\n",
       "      <td>7.22535</td>\n",
       "      <td>2295</td>\n",
       "      <td>346</td>\n",
       "      <td>3644</td>\n",
       "      <td>824994</td>\n",
       "      <td>7</td>\n",
       "      <td>322</td>\n",
       "      <td>66</td>\n",
       "      <td>59</td>\n",
       "    </tr>\n",
       "    <tr>\n",
       "      <th>218</th>\n",
       "      <td>Sid Meier's Civilization  The Board Game</td>\n",
       "      <td>77130</td>\n",
       "      <td>13748.0</td>\n",
       "      <td>7.43552</td>\n",
       "      <td>0.00000</td>\n",
       "      <td>3559</td>\n",
       "      <td>405</td>\n",
       "      <td>2501</td>\n",
       "      <td>1475436</td>\n",
       "      <td>1</td>\n",
       "      <td>92</td>\n",
       "      <td>66</td>\n",
       "      <td>15</td>\n",
       "    </tr>\n",
       "    <tr>\n",
       "      <th>...</th>\n",
       "      <td>...</td>\n",
       "      <td>...</td>\n",
       "      <td>...</td>\n",
       "      <td>...</td>\n",
       "      <td>...</td>\n",
       "      <td>...</td>\n",
       "      <td>...</td>\n",
       "      <td>...</td>\n",
       "      <td>...</td>\n",
       "      <td>...</td>\n",
       "      <td>...</td>\n",
       "      <td>...</td>\n",
       "      <td>...</td>\n",
       "    </tr>\n",
       "    <tr>\n",
       "      <th>19999</th>\n",
       "      <td>Obsession</td>\n",
       "      <td>5163</td>\n",
       "      <td>5.0</td>\n",
       "      <td>4.60000</td>\n",
       "      <td>0.00000</td>\n",
       "      <td>18</td>\n",
       "      <td>1</td>\n",
       "      <td>4</td>\n",
       "      <td>3806</td>\n",
       "      <td>0</td>\n",
       "      <td>0</td>\n",
       "      <td>0</td>\n",
       "      <td>0</td>\n",
       "    </tr>\n",
       "    <tr>\n",
       "      <th>20006</th>\n",
       "      <td>Cham\\u00e4leon</td>\n",
       "      <td>3104</td>\n",
       "      <td>22.0</td>\n",
       "      <td>6.56818</td>\n",
       "      <td>0.00000</td>\n",
       "      <td>7</td>\n",
       "      <td>1</td>\n",
       "      <td>11</td>\n",
       "      <td>5627</td>\n",
       "      <td>0</td>\n",
       "      <td>0</td>\n",
       "      <td>0</td>\n",
       "      <td>0</td>\n",
       "    </tr>\n",
       "    <tr>\n",
       "      <th>20009</th>\n",
       "      <td>Welcome to the Dungeon</td>\n",
       "      <td>150312</td>\n",
       "      <td>10331.0</td>\n",
       "      <td>0.00000</td>\n",
       "      <td>6.49553</td>\n",
       "      <td>1340</td>\n",
       "      <td>150</td>\n",
       "      <td>1782</td>\n",
       "      <td>433329</td>\n",
       "      <td>7</td>\n",
       "      <td>118</td>\n",
       "      <td>42</td>\n",
       "      <td>16</td>\n",
       "    </tr>\n",
       "    <tr>\n",
       "      <th>20010</th>\n",
       "      <td>Supremacy</td>\n",
       "      <td>5073</td>\n",
       "      <td>6.0</td>\n",
       "      <td>6.66667</td>\n",
       "      <td>0.00000</td>\n",
       "      <td>2</td>\n",
       "      <td>1</td>\n",
       "      <td>1</td>\n",
       "      <td>8206</td>\n",
       "      <td>0</td>\n",
       "      <td>0</td>\n",
       "      <td>0</td>\n",
       "      <td>0</td>\n",
       "    </tr>\n",
       "    <tr>\n",
       "      <th>20013</th>\n",
       "      <td>Hesketh's Legacy</td>\n",
       "      <td>2673</td>\n",
       "      <td>1.0</td>\n",
       "      <td>6.00000</td>\n",
       "      <td>0.00000</td>\n",
       "      <td>2</td>\n",
       "      <td>0</td>\n",
       "      <td>1</td>\n",
       "      <td>2559</td>\n",
       "      <td>0</td>\n",
       "      <td>2</td>\n",
       "      <td>0</td>\n",
       "      <td>0</td>\n",
       "    </tr>\n",
       "  </tbody>\n",
       "</table>\n",
       "<p>1484 rows × 13 columns</p>\n",
       "</div>"
      ],
      "text/plain": [
       "                                                    name  object_id  \\\n",
       "41                                              Le Havre      35677   \n",
       "64                  Battlestar Galactica  The Board Game      37111   \n",
       "170                       Deception  Murder in Hong Kong     156129   \n",
       "209    \\u05e7\\u05d9\\u05e0\\u05d2\\u05d3\\u05d5\\u05de\\u05...     204583   \n",
       "218             Sid Meier's Civilization  The Board Game      77130   \n",
       "...                                                  ...        ...   \n",
       "19999                                          Obsession       5163   \n",
       "20006                                     Cham\\u00e4leon       3104   \n",
       "20009                             Welcome to the Dungeon     150312   \n",
       "20010                                          Supremacy       5073   \n",
       "20013                                   Hesketh's Legacy       2673   \n",
       "\n",
       "       usersrated  average  baverage  numgeeklists  numwanting  numcomments  \\\n",
       "41        24266.0  7.87980   0.00000          5739        1554         4868   \n",
       "64        31058.0  0.00000   7.58289         10878         756         6426   \n",
       "170       13172.0  7.51194   0.00000          1484         710         2337   \n",
       "209       24282.0  0.00000   7.22535          2295         346         3644   \n",
       "218       13748.0  7.43552   0.00000          3559         405         2501   \n",
       "...           ...      ...       ...           ...         ...          ...   \n",
       "19999         5.0  4.60000   0.00000            18           1            4   \n",
       "20006        22.0  6.56818   0.00000             7           1           11   \n",
       "20009     10331.0  0.00000   6.49553          1340         150         1782   \n",
       "20010         6.0  6.66667   0.00000             2           1            1   \n",
       "20013         1.0  6.00000   0.00000             2           0            1   \n",
       "\n",
       "       siteviews  news  blogs  weblink  podcast  \n",
       "41       1876534     3    253       67       30  \n",
       "64       2220403     0    307      100       94  \n",
       "170       748461     2    132       19       44  \n",
       "209       824994     7    322       66       59  \n",
       "218      1475436     1     92       66       15  \n",
       "...          ...   ...    ...      ...      ...  \n",
       "19999       3806     0      0        0        0  \n",
       "20006       5627     0      0        0        0  \n",
       "20009     433329     7    118       42       16  \n",
       "20010       8206     0      0        0        0  \n",
       "20013       2559     0      2        0        0  \n",
       "\n",
       "[1484 rows x 13 columns]"
      ]
     },
     "execution_count": 37,
     "metadata": {},
     "output_type": "execute_result"
    }
   ],
   "source": [
    "boardgame_stat.query('average == 0 | baverage == 0')"
   ]
  },
  {
   "cell_type": "markdown",
   "id": "92d71d15",
   "metadata": {},
   "source": [
    "#### Removendo duplo 0 (average == 0 e baverage == 0)"
   ]
  },
  {
   "cell_type": "code",
   "execution_count": 38,
   "id": "d23f833a",
   "metadata": {},
   "outputs": [],
   "source": [
    "boardgame_stat['average+baverage'] = boardgame_stat['average'] + boardgame_stat['baverage']"
   ]
  },
  {
   "cell_type": "code",
   "execution_count": 39,
   "id": "acbdf5e5",
   "metadata": {},
   "outputs": [],
   "source": [
    "boardgame_stat = boardgame_stat.query('average+baverage != 0').copy()"
   ]
  },
  {
   "cell_type": "markdown",
   "id": "1a913fa4",
   "metadata": {},
   "source": [
    "#### Efetuando o mapeamento"
   ]
  },
  {
   "cell_type": "code",
   "execution_count": 40,
   "id": "4b31dae5",
   "metadata": {},
   "outputs": [
    {
     "data": {
      "text/html": [
       "<div>\n",
       "<style scoped>\n",
       "    .dataframe tbody tr th:only-of-type {\n",
       "        vertical-align: middle;\n",
       "    }\n",
       "\n",
       "    .dataframe tbody tr th {\n",
       "        vertical-align: top;\n",
       "    }\n",
       "\n",
       "    .dataframe thead th {\n",
       "        text-align: right;\n",
       "    }\n",
       "</style>\n",
       "<table border=\"1\" class=\"dataframe\">\n",
       "  <thead>\n",
       "    <tr style=\"text-align: right;\">\n",
       "      <th></th>\n",
       "      <th>name</th>\n",
       "      <th>object_id</th>\n",
       "      <th>usersrated</th>\n",
       "      <th>average</th>\n",
       "      <th>baverage</th>\n",
       "      <th>numgeeklists</th>\n",
       "      <th>numwanting</th>\n",
       "      <th>numcomments</th>\n",
       "      <th>siteviews</th>\n",
       "      <th>news</th>\n",
       "      <th>blogs</th>\n",
       "      <th>weblink</th>\n",
       "      <th>podcast</th>\n",
       "      <th>average+baverage</th>\n",
       "    </tr>\n",
       "  </thead>\n",
       "  <tbody>\n",
       "    <tr>\n",
       "      <th>0</th>\n",
       "      <td>Gloomhaven</td>\n",
       "      <td>174430</td>\n",
       "      <td>31254.0</td>\n",
       "      <td>8.85292</td>\n",
       "      <td>8.58424</td>\n",
       "      <td>3657</td>\n",
       "      <td>1365</td>\n",
       "      <td>5972</td>\n",
       "      <td>8933078</td>\n",
       "      <td>7</td>\n",
       "      <td>471</td>\n",
       "      <td>31</td>\n",
       "      <td>139</td>\n",
       "      <td>17.43716</td>\n",
       "    </tr>\n",
       "    <tr>\n",
       "      <th>1</th>\n",
       "      <td>Pandemic Legacy  Season 1</td>\n",
       "      <td>161936</td>\n",
       "      <td>34729.0</td>\n",
       "      <td>8.62499</td>\n",
       "      <td>8.47159</td>\n",
       "      <td>3612</td>\n",
       "      <td>771</td>\n",
       "      <td>5477</td>\n",
       "      <td>2971746</td>\n",
       "      <td>9</td>\n",
       "      <td>597</td>\n",
       "      <td>69</td>\n",
       "      <td>164</td>\n",
       "      <td>17.09658</td>\n",
       "    </tr>\n",
       "    <tr>\n",
       "      <th>2</th>\n",
       "      <td>Terraforming Mars</td>\n",
       "      <td>167791</td>\n",
       "      <td>48339.0</td>\n",
       "      <td>8.42299</td>\n",
       "      <td>8.26781</td>\n",
       "      <td>5941</td>\n",
       "      <td>2068</td>\n",
       "      <td>7274</td>\n",
       "      <td>4724387</td>\n",
       "      <td>14</td>\n",
       "      <td>1158</td>\n",
       "      <td>60</td>\n",
       "      <td>148</td>\n",
       "      <td>16.69080</td>\n",
       "    </tr>\n",
       "    <tr>\n",
       "      <th>3</th>\n",
       "      <td>Through the Ages  A New Story of Civilization</td>\n",
       "      <td>182028</td>\n",
       "      <td>18269.0</td>\n",
       "      <td>8.49419</td>\n",
       "      <td>8.23513</td>\n",
       "      <td>2083</td>\n",
       "      <td>1049</td>\n",
       "      <td>2660</td>\n",
       "      <td>2448074</td>\n",
       "      <td>5</td>\n",
       "      <td>185</td>\n",
       "      <td>30</td>\n",
       "      <td>42</td>\n",
       "      <td>16.72932</td>\n",
       "    </tr>\n",
       "    <tr>\n",
       "      <th>4</th>\n",
       "      <td>Brass  Birmingham</td>\n",
       "      <td>224517</td>\n",
       "      <td>10070.0</td>\n",
       "      <td>8.62031</td>\n",
       "      <td>8.20459</td>\n",
       "      <td>1039</td>\n",
       "      <td>1077</td>\n",
       "      <td>1702</td>\n",
       "      <td>894621</td>\n",
       "      <td>3</td>\n",
       "      <td>124</td>\n",
       "      <td>13</td>\n",
       "      <td>21</td>\n",
       "      <td>16.82490</td>\n",
       "    </tr>\n",
       "    <tr>\n",
       "      <th>...</th>\n",
       "      <td>...</td>\n",
       "      <td>...</td>\n",
       "      <td>...</td>\n",
       "      <td>...</td>\n",
       "      <td>...</td>\n",
       "      <td>...</td>\n",
       "      <td>...</td>\n",
       "      <td>...</td>\n",
       "      <td>...</td>\n",
       "      <td>...</td>\n",
       "      <td>...</td>\n",
       "      <td>...</td>\n",
       "      <td>...</td>\n",
       "      <td>...</td>\n",
       "    </tr>\n",
       "    <tr>\n",
       "      <th>20011</th>\n",
       "      <td>Tuppi</td>\n",
       "      <td>14765</td>\n",
       "      <td>33.0</td>\n",
       "      <td>7.18788</td>\n",
       "      <td>5.53873</td>\n",
       "      <td>15</td>\n",
       "      <td>2</td>\n",
       "      <td>15</td>\n",
       "      <td>8992</td>\n",
       "      <td>0</td>\n",
       "      <td>0</td>\n",
       "      <td>0</td>\n",
       "      <td>0</td>\n",
       "      <td>12.72661</td>\n",
       "    </tr>\n",
       "    <tr>\n",
       "      <th>20012</th>\n",
       "      <td>History of War</td>\n",
       "      <td>8134</td>\n",
       "      <td>96.0</td>\n",
       "      <td>5.99240</td>\n",
       "      <td>5.51421</td>\n",
       "      <td>56</td>\n",
       "      <td>4</td>\n",
       "      <td>50</td>\n",
       "      <td>43202</td>\n",
       "      <td>0</td>\n",
       "      <td>0</td>\n",
       "      <td>2</td>\n",
       "      <td>0</td>\n",
       "      <td>11.50661</td>\n",
       "    </tr>\n",
       "    <tr>\n",
       "      <th>20013</th>\n",
       "      <td>Hesketh's Legacy</td>\n",
       "      <td>2673</td>\n",
       "      <td>1.0</td>\n",
       "      <td>6.00000</td>\n",
       "      <td>0.00000</td>\n",
       "      <td>2</td>\n",
       "      <td>0</td>\n",
       "      <td>1</td>\n",
       "      <td>2559</td>\n",
       "      <td>0</td>\n",
       "      <td>2</td>\n",
       "      <td>0</td>\n",
       "      <td>0</td>\n",
       "      <td>6.00000</td>\n",
       "    </tr>\n",
       "    <tr>\n",
       "      <th>20014</th>\n",
       "      <td>Snug as a Bug in a Rug</td>\n",
       "      <td>132322</td>\n",
       "      <td>42.0</td>\n",
       "      <td>6.36905</td>\n",
       "      <td>5.52454</td>\n",
       "      <td>13</td>\n",
       "      <td>1</td>\n",
       "      <td>17</td>\n",
       "      <td>9524</td>\n",
       "      <td>0</td>\n",
       "      <td>0</td>\n",
       "      <td>4</td>\n",
       "      <td>0</td>\n",
       "      <td>11.89359</td>\n",
       "    </tr>\n",
       "    <tr>\n",
       "      <th>20015</th>\n",
       "      <td>Wake up</td>\n",
       "      <td>159452</td>\n",
       "      <td>174.0</td>\n",
       "      <td>5.51477</td>\n",
       "      <td>5.48152</td>\n",
       "      <td>33</td>\n",
       "      <td>0</td>\n",
       "      <td>47</td>\n",
       "      <td>16908</td>\n",
       "      <td>1</td>\n",
       "      <td>0</td>\n",
       "      <td>3</td>\n",
       "      <td>2</td>\n",
       "      <td>10.99629</td>\n",
       "    </tr>\n",
       "  </tbody>\n",
       "</table>\n",
       "<p>19916 rows × 14 columns</p>\n",
       "</div>"
      ],
      "text/plain": [
       "                                                name  object_id  usersrated  \\\n",
       "0                                         Gloomhaven     174430     31254.0   \n",
       "1                          Pandemic Legacy  Season 1     161936     34729.0   \n",
       "2                                  Terraforming Mars     167791     48339.0   \n",
       "3      Through the Ages  A New Story of Civilization     182028     18269.0   \n",
       "4                                  Brass  Birmingham     224517     10070.0   \n",
       "...                                              ...        ...         ...   \n",
       "20011                                          Tuppi      14765        33.0   \n",
       "20012                                 History of War       8134        96.0   \n",
       "20013                               Hesketh's Legacy       2673         1.0   \n",
       "20014                         Snug as a Bug in a Rug     132322        42.0   \n",
       "20015                                        Wake up     159452       174.0   \n",
       "\n",
       "       average  baverage  numgeeklists  numwanting  numcomments  siteviews  \\\n",
       "0      8.85292   8.58424          3657        1365         5972    8933078   \n",
       "1      8.62499   8.47159          3612         771         5477    2971746   \n",
       "2      8.42299   8.26781          5941        2068         7274    4724387   \n",
       "3      8.49419   8.23513          2083        1049         2660    2448074   \n",
       "4      8.62031   8.20459          1039        1077         1702     894621   \n",
       "...        ...       ...           ...         ...          ...        ...   \n",
       "20011  7.18788   5.53873            15           2           15       8992   \n",
       "20012  5.99240   5.51421            56           4           50      43202   \n",
       "20013  6.00000   0.00000             2           0            1       2559   \n",
       "20014  6.36905   5.52454            13           1           17       9524   \n",
       "20015  5.51477   5.48152            33           0           47      16908   \n",
       "\n",
       "       news  blogs  weblink  podcast  average+baverage  \n",
       "0         7    471       31      139          17.43716  \n",
       "1         9    597       69      164          17.09658  \n",
       "2        14   1158       60      148          16.69080  \n",
       "3         5    185       30       42          16.72932  \n",
       "4         3    124       13       21          16.82490  \n",
       "...     ...    ...      ...      ...               ...  \n",
       "20011     0      0        0        0          12.72661  \n",
       "20012     0      0        2        0          11.50661  \n",
       "20013     0      2        0        0           6.00000  \n",
       "20014     0      0        4        0          11.89359  \n",
       "20015     1      0        3        2          10.99629  \n",
       "\n",
       "[19916 rows x 14 columns]"
      ]
     },
     "execution_count": 40,
     "metadata": {},
     "output_type": "execute_result"
    }
   ],
   "source": [
    "boardgame_stat"
   ]
  },
  {
   "cell_type": "code",
   "execution_count": 41,
   "id": "62de000b",
   "metadata": {},
   "outputs": [],
   "source": [
    "# Defini duas funções para tratar os dados zerados(que antes eram nulos) das colunas\n",
    "# average e baverage\n",
    "\n",
    "def tratamento_average(linha):\n",
    "    if linha['average'] <= 0.1:\n",
    "        return linha['baverage'] * razao_media\n",
    "    else:\n",
    "        return linha['average']\n",
    "    \n",
    "def tratamento_baverage(linha):\n",
    "    if linha['baverage'] <= 0.1:\n",
    "        return linha['average'] / razao_media\n",
    "    else:\n",
    "        return linha['baverage']"
   ]
  },
  {
   "cell_type": "code",
   "execution_count": 42,
   "id": "3808a877",
   "metadata": {},
   "outputs": [],
   "source": [
    "# Criando uma coluna nova para os novos(e antigos) valores average\n",
    "boardgame_stat['average_tratado'] = boardgame_stat.apply(tratamento_average, axis=1)"
   ]
  },
  {
   "cell_type": "code",
   "execution_count": 43,
   "id": "83f3fab2",
   "metadata": {},
   "outputs": [],
   "source": [
    "# Criando uma coluna nova para os novos(e antigos) valores baverage\n",
    "boardgame_stat['baverage_tratado'] = boardgame_stat.apply(tratamento_baverage, axis=1)"
   ]
  },
  {
   "cell_type": "markdown",
   "id": "e5593be3",
   "metadata": {},
   "source": [
    "## Validação"
   ]
  },
  {
   "cell_type": "markdown",
   "id": "5553ea17",
   "metadata": {},
   "source": [
    "#### Teste 1"
   ]
  },
  {
   "cell_type": "code",
   "execution_count": 44,
   "id": "0b3621ef",
   "metadata": {},
   "outputs": [
    {
     "data": {
      "text/plain": [
       "41    7.421504\n",
       "Name: baverage_tratado, dtype: float64"
      ]
     },
     "execution_count": 44,
     "metadata": {},
     "output_type": "execute_result"
    }
   ],
   "source": [
    "# objectid == 35677 era um dos valores de baverage que eu sabia que estava nulo\n",
    "boardgame_stat.query('object_id == 35677')['baverage_tratado']"
   ]
  },
  {
   "cell_type": "code",
   "execution_count": 45,
   "id": "b4d72316",
   "metadata": {},
   "outputs": [
    {
     "data": {
      "text/plain": [
       "41    7.8798\n",
       "Name: average, dtype: float64"
      ]
     },
     "execution_count": 45,
     "metadata": {},
     "output_type": "execute_result"
    }
   ],
   "source": [
    "boardgame_stat.query('object_id == 35677')['average']"
   ]
  },
  {
   "cell_type": "code",
   "execution_count": 46,
   "id": "9011d277",
   "metadata": {},
   "outputs": [
    {
     "data": {
      "text/plain": [
       "41    7.421504\n",
       "Name: average, dtype: float64"
      ]
     },
     "execution_count": 46,
     "metadata": {},
     "output_type": "execute_result"
    }
   ],
   "source": [
    "boardgame_stat.query('object_id == 35677')['average'] / razao_media"
   ]
  },
  {
   "cell_type": "markdown",
   "id": "71575201",
   "metadata": {},
   "source": [
    "#### Teste 2"
   ]
  },
  {
   "cell_type": "code",
   "execution_count": 47,
   "id": "8f1d1569",
   "metadata": {},
   "outputs": [
    {
     "data": {
      "text/plain": [
       "64    8.051152\n",
       "Name: average_tratado, dtype: float64"
      ]
     },
     "execution_count": 47,
     "metadata": {},
     "output_type": "execute_result"
    }
   ],
   "source": [
    "# Esse objectid é como o outro, já sabia que estava zerado, só que agora na coluna average\n",
    "boardgame_stat.query('object_id == 37111')['average_tratado']"
   ]
  },
  {
   "cell_type": "code",
   "execution_count": 48,
   "id": "c782637b",
   "metadata": {},
   "outputs": [
    {
     "data": {
      "text/plain": [
       "64    7.58289\n",
       "Name: baverage, dtype: float64"
      ]
     },
     "execution_count": 48,
     "metadata": {},
     "output_type": "execute_result"
    }
   ],
   "source": [
    "boardgame_stat.query('object_id == 37111')['baverage']"
   ]
  },
  {
   "cell_type": "code",
   "execution_count": 49,
   "id": "59cddffb",
   "metadata": {},
   "outputs": [
    {
     "data": {
      "text/plain": [
       "64    8.051152\n",
       "Name: baverage, dtype: float64"
      ]
     },
     "execution_count": 49,
     "metadata": {},
     "output_type": "execute_result"
    }
   ],
   "source": [
    "boardgame_stat.query('object_id == 37111')['baverage'] * razao_media"
   ]
  },
  {
   "cell_type": "code",
   "execution_count": 50,
   "id": "629eecd7",
   "metadata": {},
   "outputs": [
    {
     "data": {
      "text/html": [
       "<div>\n",
       "<style scoped>\n",
       "    .dataframe tbody tr th:only-of-type {\n",
       "        vertical-align: middle;\n",
       "    }\n",
       "\n",
       "    .dataframe tbody tr th {\n",
       "        vertical-align: top;\n",
       "    }\n",
       "\n",
       "    .dataframe thead th {\n",
       "        text-align: right;\n",
       "    }\n",
       "</style>\n",
       "<table border=\"1\" class=\"dataframe\">\n",
       "  <thead>\n",
       "    <tr style=\"text-align: right;\">\n",
       "      <th></th>\n",
       "      <th>name</th>\n",
       "      <th>object_id</th>\n",
       "      <th>usersrated</th>\n",
       "      <th>average</th>\n",
       "      <th>baverage</th>\n",
       "      <th>numgeeklists</th>\n",
       "      <th>numwanting</th>\n",
       "      <th>numcomments</th>\n",
       "      <th>siteviews</th>\n",
       "      <th>news</th>\n",
       "      <th>blogs</th>\n",
       "      <th>weblink</th>\n",
       "      <th>podcast</th>\n",
       "      <th>average+baverage</th>\n",
       "      <th>average_tratado</th>\n",
       "      <th>baverage_tratado</th>\n",
       "    </tr>\n",
       "  </thead>\n",
       "  <tbody>\n",
       "    <tr>\n",
       "      <th>0</th>\n",
       "      <td>Gloomhaven</td>\n",
       "      <td>174430</td>\n",
       "      <td>31254.0</td>\n",
       "      <td>8.85292</td>\n",
       "      <td>8.58424</td>\n",
       "      <td>3657</td>\n",
       "      <td>1365</td>\n",
       "      <td>5972</td>\n",
       "      <td>8933078</td>\n",
       "      <td>7</td>\n",
       "      <td>471</td>\n",
       "      <td>31</td>\n",
       "      <td>139</td>\n",
       "      <td>17.43716</td>\n",
       "      <td>8.85292</td>\n",
       "      <td>8.58424</td>\n",
       "    </tr>\n",
       "    <tr>\n",
       "      <th>1</th>\n",
       "      <td>Pandemic Legacy  Season 1</td>\n",
       "      <td>161936</td>\n",
       "      <td>34729.0</td>\n",
       "      <td>8.62499</td>\n",
       "      <td>8.47159</td>\n",
       "      <td>3612</td>\n",
       "      <td>771</td>\n",
       "      <td>5477</td>\n",
       "      <td>2971746</td>\n",
       "      <td>9</td>\n",
       "      <td>597</td>\n",
       "      <td>69</td>\n",
       "      <td>164</td>\n",
       "      <td>17.09658</td>\n",
       "      <td>8.62499</td>\n",
       "      <td>8.47159</td>\n",
       "    </tr>\n",
       "    <tr>\n",
       "      <th>2</th>\n",
       "      <td>Terraforming Mars</td>\n",
       "      <td>167791</td>\n",
       "      <td>48339.0</td>\n",
       "      <td>8.42299</td>\n",
       "      <td>8.26781</td>\n",
       "      <td>5941</td>\n",
       "      <td>2068</td>\n",
       "      <td>7274</td>\n",
       "      <td>4724387</td>\n",
       "      <td>14</td>\n",
       "      <td>1158</td>\n",
       "      <td>60</td>\n",
       "      <td>148</td>\n",
       "      <td>16.69080</td>\n",
       "      <td>8.42299</td>\n",
       "      <td>8.26781</td>\n",
       "    </tr>\n",
       "    <tr>\n",
       "      <th>3</th>\n",
       "      <td>Through the Ages  A New Story of Civilization</td>\n",
       "      <td>182028</td>\n",
       "      <td>18269.0</td>\n",
       "      <td>8.49419</td>\n",
       "      <td>8.23513</td>\n",
       "      <td>2083</td>\n",
       "      <td>1049</td>\n",
       "      <td>2660</td>\n",
       "      <td>2448074</td>\n",
       "      <td>5</td>\n",
       "      <td>185</td>\n",
       "      <td>30</td>\n",
       "      <td>42</td>\n",
       "      <td>16.72932</td>\n",
       "      <td>8.49419</td>\n",
       "      <td>8.23513</td>\n",
       "    </tr>\n",
       "    <tr>\n",
       "      <th>4</th>\n",
       "      <td>Brass  Birmingham</td>\n",
       "      <td>224517</td>\n",
       "      <td>10070.0</td>\n",
       "      <td>8.62031</td>\n",
       "      <td>8.20459</td>\n",
       "      <td>1039</td>\n",
       "      <td>1077</td>\n",
       "      <td>1702</td>\n",
       "      <td>894621</td>\n",
       "      <td>3</td>\n",
       "      <td>124</td>\n",
       "      <td>13</td>\n",
       "      <td>21</td>\n",
       "      <td>16.82490</td>\n",
       "      <td>8.62031</td>\n",
       "      <td>8.20459</td>\n",
       "    </tr>\n",
       "  </tbody>\n",
       "</table>\n",
       "</div>"
      ],
      "text/plain": [
       "                                            name  object_id  usersrated  \\\n",
       "0                                     Gloomhaven     174430     31254.0   \n",
       "1                      Pandemic Legacy  Season 1     161936     34729.0   \n",
       "2                              Terraforming Mars     167791     48339.0   \n",
       "3  Through the Ages  A New Story of Civilization     182028     18269.0   \n",
       "4                              Brass  Birmingham     224517     10070.0   \n",
       "\n",
       "   average  baverage  numgeeklists  numwanting  numcomments  siteviews  news  \\\n",
       "0  8.85292   8.58424          3657        1365         5972    8933078     7   \n",
       "1  8.62499   8.47159          3612         771         5477    2971746     9   \n",
       "2  8.42299   8.26781          5941        2068         7274    4724387    14   \n",
       "3  8.49419   8.23513          2083        1049         2660    2448074     5   \n",
       "4  8.62031   8.20459          1039        1077         1702     894621     3   \n",
       "\n",
       "   blogs  weblink  podcast  average+baverage  average_tratado  \\\n",
       "0    471       31      139          17.43716          8.85292   \n",
       "1    597       69      164          17.09658          8.62499   \n",
       "2   1158       60      148          16.69080          8.42299   \n",
       "3    185       30       42          16.72932          8.49419   \n",
       "4    124       13       21          16.82490          8.62031   \n",
       "\n",
       "   baverage_tratado  \n",
       "0           8.58424  \n",
       "1           8.47159  \n",
       "2           8.26781  \n",
       "3           8.23513  \n",
       "4           8.20459  "
      ]
     },
     "execution_count": 50,
     "metadata": {},
     "output_type": "execute_result"
    }
   ],
   "source": [
    "boardgame_stat.head()"
   ]
  },
  {
   "cell_type": "markdown",
   "id": "ad5ab6b3",
   "metadata": {},
   "source": [
    "# Machine Learning"
   ]
  },
  {
   "cell_type": "markdown",
   "id": "fb4c0ace",
   "metadata": {},
   "source": [
    "#### Usarei o algoritmo de clusterização Kmeans"
   ]
  },
  {
   "cell_type": "markdown",
   "id": "65cebf4e",
   "metadata": {},
   "source": [
    "# Machine Learning"
   ]
  },
  {
   "cell_type": "code",
   "execution_count": 51,
   "id": "b18b8e50",
   "metadata": {},
   "outputs": [],
   "source": [
    "from sklearn.cluster import KMeans\n",
    "from sklearn import metrics"
   ]
  },
  {
   "cell_type": "code",
   "execution_count": 52,
   "id": "0b2533e8",
   "metadata": {},
   "outputs": [],
   "source": [
    "colunas_clusterizadas = ['usersrated', 'numgeeklists', 'numwanting', 'numcomments', \n",
    "                         'siteviews', 'news', 'blogs', 'weblink', 'podcast', 'average_tratado',\n",
    "                          'baverage_tratado']\n",
    "X = boardgame_stat[colunas_clusterizadas].copy()"
   ]
  },
  {
   "cell_type": "code",
   "execution_count": 53,
   "id": "a0a492cd",
   "metadata": {},
   "outputs": [],
   "source": [
    "# Utilziando o algoritmo e percorrendo diferentes valores de k\n",
    "valores_k = []\n",
    "inercias = []\n",
    "\n",
    "for i in range(1,10):\n",
    "    kmeans = KMeans(n_clusters = i, random_state=0, n_init='auto').fit(X)\n",
    "    valores_k.append(i)\n",
    "    inercias.append(kmeans.inertia_)"
   ]
  },
  {
   "cell_type": "code",
   "execution_count": 54,
   "id": "5210b92c",
   "metadata": {},
   "outputs": [
    {
     "data": {
      "application/vnd.plotly.v1+json": {
       "config": {
        "plotlyServerURL": "https://plot.ly"
       },
       "data": [
        {
         "hovertemplate": "x=%{x}<br>y=%{y}<extra></extra>",
         "legendgroup": "",
         "line": {
          "color": "#636efa",
          "dash": "solid"
         },
         "marker": {
          "symbol": "circle"
         },
         "mode": "lines",
         "name": "",
         "orientation": "v",
         "showlegend": false,
         "type": "scatter",
         "x": [
          1,
          2,
          3,
          4,
          5,
          6,
          7,
          8,
          9
         ],
         "xaxis": "x",
         "y": [
          1014497022656536.8,
          436688925057323.8,
          222147308848871.5,
          133021005495954.05,
          100400560751159.33,
          72754497422119.47,
          51174412247288.6,
          39862365516822.47,
          34805916641353.754
         ],
         "yaxis": "y"
        }
       ],
       "layout": {
        "legend": {
         "tracegroupgap": 0
        },
        "margin": {
         "t": 60
        },
        "template": {
         "data": {
          "bar": [
           {
            "error_x": {
             "color": "#2a3f5f"
            },
            "error_y": {
             "color": "#2a3f5f"
            },
            "marker": {
             "line": {
              "color": "#E5ECF6",
              "width": 0.5
             },
             "pattern": {
              "fillmode": "overlay",
              "size": 10,
              "solidity": 0.2
             }
            },
            "type": "bar"
           }
          ],
          "barpolar": [
           {
            "marker": {
             "line": {
              "color": "#E5ECF6",
              "width": 0.5
             },
             "pattern": {
              "fillmode": "overlay",
              "size": 10,
              "solidity": 0.2
             }
            },
            "type": "barpolar"
           }
          ],
          "carpet": [
           {
            "aaxis": {
             "endlinecolor": "#2a3f5f",
             "gridcolor": "white",
             "linecolor": "white",
             "minorgridcolor": "white",
             "startlinecolor": "#2a3f5f"
            },
            "baxis": {
             "endlinecolor": "#2a3f5f",
             "gridcolor": "white",
             "linecolor": "white",
             "minorgridcolor": "white",
             "startlinecolor": "#2a3f5f"
            },
            "type": "carpet"
           }
          ],
          "choropleth": [
           {
            "colorbar": {
             "outlinewidth": 0,
             "ticks": ""
            },
            "type": "choropleth"
           }
          ],
          "contour": [
           {
            "colorbar": {
             "outlinewidth": 0,
             "ticks": ""
            },
            "colorscale": [
             [
              0,
              "#0d0887"
             ],
             [
              0.1111111111111111,
              "#46039f"
             ],
             [
              0.2222222222222222,
              "#7201a8"
             ],
             [
              0.3333333333333333,
              "#9c179e"
             ],
             [
              0.4444444444444444,
              "#bd3786"
             ],
             [
              0.5555555555555556,
              "#d8576b"
             ],
             [
              0.6666666666666666,
              "#ed7953"
             ],
             [
              0.7777777777777778,
              "#fb9f3a"
             ],
             [
              0.8888888888888888,
              "#fdca26"
             ],
             [
              1,
              "#f0f921"
             ]
            ],
            "type": "contour"
           }
          ],
          "contourcarpet": [
           {
            "colorbar": {
             "outlinewidth": 0,
             "ticks": ""
            },
            "type": "contourcarpet"
           }
          ],
          "heatmap": [
           {
            "colorbar": {
             "outlinewidth": 0,
             "ticks": ""
            },
            "colorscale": [
             [
              0,
              "#0d0887"
             ],
             [
              0.1111111111111111,
              "#46039f"
             ],
             [
              0.2222222222222222,
              "#7201a8"
             ],
             [
              0.3333333333333333,
              "#9c179e"
             ],
             [
              0.4444444444444444,
              "#bd3786"
             ],
             [
              0.5555555555555556,
              "#d8576b"
             ],
             [
              0.6666666666666666,
              "#ed7953"
             ],
             [
              0.7777777777777778,
              "#fb9f3a"
             ],
             [
              0.8888888888888888,
              "#fdca26"
             ],
             [
              1,
              "#f0f921"
             ]
            ],
            "type": "heatmap"
           }
          ],
          "heatmapgl": [
           {
            "colorbar": {
             "outlinewidth": 0,
             "ticks": ""
            },
            "colorscale": [
             [
              0,
              "#0d0887"
             ],
             [
              0.1111111111111111,
              "#46039f"
             ],
             [
              0.2222222222222222,
              "#7201a8"
             ],
             [
              0.3333333333333333,
              "#9c179e"
             ],
             [
              0.4444444444444444,
              "#bd3786"
             ],
             [
              0.5555555555555556,
              "#d8576b"
             ],
             [
              0.6666666666666666,
              "#ed7953"
             ],
             [
              0.7777777777777778,
              "#fb9f3a"
             ],
             [
              0.8888888888888888,
              "#fdca26"
             ],
             [
              1,
              "#f0f921"
             ]
            ],
            "type": "heatmapgl"
           }
          ],
          "histogram": [
           {
            "marker": {
             "pattern": {
              "fillmode": "overlay",
              "size": 10,
              "solidity": 0.2
             }
            },
            "type": "histogram"
           }
          ],
          "histogram2d": [
           {
            "colorbar": {
             "outlinewidth": 0,
             "ticks": ""
            },
            "colorscale": [
             [
              0,
              "#0d0887"
             ],
             [
              0.1111111111111111,
              "#46039f"
             ],
             [
              0.2222222222222222,
              "#7201a8"
             ],
             [
              0.3333333333333333,
              "#9c179e"
             ],
             [
              0.4444444444444444,
              "#bd3786"
             ],
             [
              0.5555555555555556,
              "#d8576b"
             ],
             [
              0.6666666666666666,
              "#ed7953"
             ],
             [
              0.7777777777777778,
              "#fb9f3a"
             ],
             [
              0.8888888888888888,
              "#fdca26"
             ],
             [
              1,
              "#f0f921"
             ]
            ],
            "type": "histogram2d"
           }
          ],
          "histogram2dcontour": [
           {
            "colorbar": {
             "outlinewidth": 0,
             "ticks": ""
            },
            "colorscale": [
             [
              0,
              "#0d0887"
             ],
             [
              0.1111111111111111,
              "#46039f"
             ],
             [
              0.2222222222222222,
              "#7201a8"
             ],
             [
              0.3333333333333333,
              "#9c179e"
             ],
             [
              0.4444444444444444,
              "#bd3786"
             ],
             [
              0.5555555555555556,
              "#d8576b"
             ],
             [
              0.6666666666666666,
              "#ed7953"
             ],
             [
              0.7777777777777778,
              "#fb9f3a"
             ],
             [
              0.8888888888888888,
              "#fdca26"
             ],
             [
              1,
              "#f0f921"
             ]
            ],
            "type": "histogram2dcontour"
           }
          ],
          "mesh3d": [
           {
            "colorbar": {
             "outlinewidth": 0,
             "ticks": ""
            },
            "type": "mesh3d"
           }
          ],
          "parcoords": [
           {
            "line": {
             "colorbar": {
              "outlinewidth": 0,
              "ticks": ""
             }
            },
            "type": "parcoords"
           }
          ],
          "pie": [
           {
            "automargin": true,
            "type": "pie"
           }
          ],
          "scatter": [
           {
            "fillpattern": {
             "fillmode": "overlay",
             "size": 10,
             "solidity": 0.2
            },
            "type": "scatter"
           }
          ],
          "scatter3d": [
           {
            "line": {
             "colorbar": {
              "outlinewidth": 0,
              "ticks": ""
             }
            },
            "marker": {
             "colorbar": {
              "outlinewidth": 0,
              "ticks": ""
             }
            },
            "type": "scatter3d"
           }
          ],
          "scattercarpet": [
           {
            "marker": {
             "colorbar": {
              "outlinewidth": 0,
              "ticks": ""
             }
            },
            "type": "scattercarpet"
           }
          ],
          "scattergeo": [
           {
            "marker": {
             "colorbar": {
              "outlinewidth": 0,
              "ticks": ""
             }
            },
            "type": "scattergeo"
           }
          ],
          "scattergl": [
           {
            "marker": {
             "colorbar": {
              "outlinewidth": 0,
              "ticks": ""
             }
            },
            "type": "scattergl"
           }
          ],
          "scattermapbox": [
           {
            "marker": {
             "colorbar": {
              "outlinewidth": 0,
              "ticks": ""
             }
            },
            "type": "scattermapbox"
           }
          ],
          "scatterpolar": [
           {
            "marker": {
             "colorbar": {
              "outlinewidth": 0,
              "ticks": ""
             }
            },
            "type": "scatterpolar"
           }
          ],
          "scatterpolargl": [
           {
            "marker": {
             "colorbar": {
              "outlinewidth": 0,
              "ticks": ""
             }
            },
            "type": "scatterpolargl"
           }
          ],
          "scatterternary": [
           {
            "marker": {
             "colorbar": {
              "outlinewidth": 0,
              "ticks": ""
             }
            },
            "type": "scatterternary"
           }
          ],
          "surface": [
           {
            "colorbar": {
             "outlinewidth": 0,
             "ticks": ""
            },
            "colorscale": [
             [
              0,
              "#0d0887"
             ],
             [
              0.1111111111111111,
              "#46039f"
             ],
             [
              0.2222222222222222,
              "#7201a8"
             ],
             [
              0.3333333333333333,
              "#9c179e"
             ],
             [
              0.4444444444444444,
              "#bd3786"
             ],
             [
              0.5555555555555556,
              "#d8576b"
             ],
             [
              0.6666666666666666,
              "#ed7953"
             ],
             [
              0.7777777777777778,
              "#fb9f3a"
             ],
             [
              0.8888888888888888,
              "#fdca26"
             ],
             [
              1,
              "#f0f921"
             ]
            ],
            "type": "surface"
           }
          ],
          "table": [
           {
            "cells": {
             "fill": {
              "color": "#EBF0F8"
             },
             "line": {
              "color": "white"
             }
            },
            "header": {
             "fill": {
              "color": "#C8D4E3"
             },
             "line": {
              "color": "white"
             }
            },
            "type": "table"
           }
          ]
         },
         "layout": {
          "annotationdefaults": {
           "arrowcolor": "#2a3f5f",
           "arrowhead": 0,
           "arrowwidth": 1
          },
          "autotypenumbers": "strict",
          "coloraxis": {
           "colorbar": {
            "outlinewidth": 0,
            "ticks": ""
           }
          },
          "colorscale": {
           "diverging": [
            [
             0,
             "#8e0152"
            ],
            [
             0.1,
             "#c51b7d"
            ],
            [
             0.2,
             "#de77ae"
            ],
            [
             0.3,
             "#f1b6da"
            ],
            [
             0.4,
             "#fde0ef"
            ],
            [
             0.5,
             "#f7f7f7"
            ],
            [
             0.6,
             "#e6f5d0"
            ],
            [
             0.7,
             "#b8e186"
            ],
            [
             0.8,
             "#7fbc41"
            ],
            [
             0.9,
             "#4d9221"
            ],
            [
             1,
             "#276419"
            ]
           ],
           "sequential": [
            [
             0,
             "#0d0887"
            ],
            [
             0.1111111111111111,
             "#46039f"
            ],
            [
             0.2222222222222222,
             "#7201a8"
            ],
            [
             0.3333333333333333,
             "#9c179e"
            ],
            [
             0.4444444444444444,
             "#bd3786"
            ],
            [
             0.5555555555555556,
             "#d8576b"
            ],
            [
             0.6666666666666666,
             "#ed7953"
            ],
            [
             0.7777777777777778,
             "#fb9f3a"
            ],
            [
             0.8888888888888888,
             "#fdca26"
            ],
            [
             1,
             "#f0f921"
            ]
           ],
           "sequentialminus": [
            [
             0,
             "#0d0887"
            ],
            [
             0.1111111111111111,
             "#46039f"
            ],
            [
             0.2222222222222222,
             "#7201a8"
            ],
            [
             0.3333333333333333,
             "#9c179e"
            ],
            [
             0.4444444444444444,
             "#bd3786"
            ],
            [
             0.5555555555555556,
             "#d8576b"
            ],
            [
             0.6666666666666666,
             "#ed7953"
            ],
            [
             0.7777777777777778,
             "#fb9f3a"
            ],
            [
             0.8888888888888888,
             "#fdca26"
            ],
            [
             1,
             "#f0f921"
            ]
           ]
          },
          "colorway": [
           "#636efa",
           "#EF553B",
           "#00cc96",
           "#ab63fa",
           "#FFA15A",
           "#19d3f3",
           "#FF6692",
           "#B6E880",
           "#FF97FF",
           "#FECB52"
          ],
          "font": {
           "color": "#2a3f5f"
          },
          "geo": {
           "bgcolor": "white",
           "lakecolor": "white",
           "landcolor": "#E5ECF6",
           "showlakes": true,
           "showland": true,
           "subunitcolor": "white"
          },
          "hoverlabel": {
           "align": "left"
          },
          "hovermode": "closest",
          "mapbox": {
           "style": "light"
          },
          "paper_bgcolor": "white",
          "plot_bgcolor": "#E5ECF6",
          "polar": {
           "angularaxis": {
            "gridcolor": "white",
            "linecolor": "white",
            "ticks": ""
           },
           "bgcolor": "#E5ECF6",
           "radialaxis": {
            "gridcolor": "white",
            "linecolor": "white",
            "ticks": ""
           }
          },
          "scene": {
           "xaxis": {
            "backgroundcolor": "#E5ECF6",
            "gridcolor": "white",
            "gridwidth": 2,
            "linecolor": "white",
            "showbackground": true,
            "ticks": "",
            "zerolinecolor": "white"
           },
           "yaxis": {
            "backgroundcolor": "#E5ECF6",
            "gridcolor": "white",
            "gridwidth": 2,
            "linecolor": "white",
            "showbackground": true,
            "ticks": "",
            "zerolinecolor": "white"
           },
           "zaxis": {
            "backgroundcolor": "#E5ECF6",
            "gridcolor": "white",
            "gridwidth": 2,
            "linecolor": "white",
            "showbackground": true,
            "ticks": "",
            "zerolinecolor": "white"
           }
          },
          "shapedefaults": {
           "line": {
            "color": "#2a3f5f"
           }
          },
          "ternary": {
           "aaxis": {
            "gridcolor": "white",
            "linecolor": "white",
            "ticks": ""
           },
           "baxis": {
            "gridcolor": "white",
            "linecolor": "white",
            "ticks": ""
           },
           "bgcolor": "#E5ECF6",
           "caxis": {
            "gridcolor": "white",
            "linecolor": "white",
            "ticks": ""
           }
          },
          "title": {
           "x": 0.05
          },
          "xaxis": {
           "automargin": true,
           "gridcolor": "white",
           "linecolor": "white",
           "ticks": "",
           "title": {
            "standoff": 15
           },
           "zerolinecolor": "white",
           "zerolinewidth": 2
          },
          "yaxis": {
           "automargin": true,
           "gridcolor": "white",
           "linecolor": "white",
           "ticks": "",
           "title": {
            "standoff": 15
           },
           "zerolinecolor": "white",
           "zerolinewidth": 2
          }
         }
        },
        "xaxis": {
         "anchor": "y",
         "domain": [
          0,
          1
         ],
         "title": {
          "text": "Quantidade de clusters"
         }
        },
        "yaxis": {
         "anchor": "x",
         "domain": [
          0,
          1
         ],
         "title": {
          "text": "Inércias"
         }
        }
       }
      }
     },
     "metadata": {},
     "output_type": "display_data"
    }
   ],
   "source": [
    "# Visualizando a relação entre inércia e K\n",
    "fig_cotovelo = px.line(x=valores_k, y=inercias\n",
    ").update_layout(xaxis_title='Quantidade de clusters', yaxis_title='Inércias')\n",
    "                                                                       \n",
    "fig_cotovelo.show()"
   ]
  },
  {
   "cell_type": "code",
   "execution_count": 55,
   "id": "9fbb9059",
   "metadata": {},
   "outputs": [],
   "source": [
    "# Verificando o coeficiente de silhueta para os calores de k\n",
    "valores_ks = []\n",
    "s = []\n",
    "\n",
    "for i in range(2,10):\n",
    "    kmeans = KMeans(n_clusters=i, random_state=0, n_init='auto').fit(X)\n",
    "    valores_ks.append(i)\n",
    "    s.append(metrics.silhouette_score(X, kmeans.labels_))"
   ]
  },
  {
   "cell_type": "code",
   "execution_count": 56,
   "id": "42339b93",
   "metadata": {},
   "outputs": [
    {
     "data": {
      "application/vnd.plotly.v1+json": {
       "config": {
        "plotlyServerURL": "https://plot.ly"
       },
       "data": [
        {
         "hovertemplate": "x=%{x}<br>y=%{y}<extra></extra>",
         "legendgroup": "",
         "line": {
          "color": "#636efa",
          "dash": "solid"
         },
         "marker": {
          "symbol": "circle"
         },
         "mode": "lines",
         "name": "",
         "orientation": "v",
         "showlegend": false,
         "type": "scatter",
         "x": [
          2,
          3,
          4,
          5,
          6,
          7,
          8,
          9
         ],
         "xaxis": "x",
         "y": [
          0.9394230223517777,
          0.9036911366162302,
          0.8426646910421626,
          0.8173318983394896,
          0.8145212463560142,
          0.7598995891184179,
          0.7191322446978964,
          0.670453021138342
         ],
         "yaxis": "y"
        }
       ],
       "layout": {
        "legend": {
         "tracegroupgap": 0
        },
        "margin": {
         "t": 60
        },
        "template": {
         "data": {
          "bar": [
           {
            "error_x": {
             "color": "#2a3f5f"
            },
            "error_y": {
             "color": "#2a3f5f"
            },
            "marker": {
             "line": {
              "color": "#E5ECF6",
              "width": 0.5
             },
             "pattern": {
              "fillmode": "overlay",
              "size": 10,
              "solidity": 0.2
             }
            },
            "type": "bar"
           }
          ],
          "barpolar": [
           {
            "marker": {
             "line": {
              "color": "#E5ECF6",
              "width": 0.5
             },
             "pattern": {
              "fillmode": "overlay",
              "size": 10,
              "solidity": 0.2
             }
            },
            "type": "barpolar"
           }
          ],
          "carpet": [
           {
            "aaxis": {
             "endlinecolor": "#2a3f5f",
             "gridcolor": "white",
             "linecolor": "white",
             "minorgridcolor": "white",
             "startlinecolor": "#2a3f5f"
            },
            "baxis": {
             "endlinecolor": "#2a3f5f",
             "gridcolor": "white",
             "linecolor": "white",
             "minorgridcolor": "white",
             "startlinecolor": "#2a3f5f"
            },
            "type": "carpet"
           }
          ],
          "choropleth": [
           {
            "colorbar": {
             "outlinewidth": 0,
             "ticks": ""
            },
            "type": "choropleth"
           }
          ],
          "contour": [
           {
            "colorbar": {
             "outlinewidth": 0,
             "ticks": ""
            },
            "colorscale": [
             [
              0,
              "#0d0887"
             ],
             [
              0.1111111111111111,
              "#46039f"
             ],
             [
              0.2222222222222222,
              "#7201a8"
             ],
             [
              0.3333333333333333,
              "#9c179e"
             ],
             [
              0.4444444444444444,
              "#bd3786"
             ],
             [
              0.5555555555555556,
              "#d8576b"
             ],
             [
              0.6666666666666666,
              "#ed7953"
             ],
             [
              0.7777777777777778,
              "#fb9f3a"
             ],
             [
              0.8888888888888888,
              "#fdca26"
             ],
             [
              1,
              "#f0f921"
             ]
            ],
            "type": "contour"
           }
          ],
          "contourcarpet": [
           {
            "colorbar": {
             "outlinewidth": 0,
             "ticks": ""
            },
            "type": "contourcarpet"
           }
          ],
          "heatmap": [
           {
            "colorbar": {
             "outlinewidth": 0,
             "ticks": ""
            },
            "colorscale": [
             [
              0,
              "#0d0887"
             ],
             [
              0.1111111111111111,
              "#46039f"
             ],
             [
              0.2222222222222222,
              "#7201a8"
             ],
             [
              0.3333333333333333,
              "#9c179e"
             ],
             [
              0.4444444444444444,
              "#bd3786"
             ],
             [
              0.5555555555555556,
              "#d8576b"
             ],
             [
              0.6666666666666666,
              "#ed7953"
             ],
             [
              0.7777777777777778,
              "#fb9f3a"
             ],
             [
              0.8888888888888888,
              "#fdca26"
             ],
             [
              1,
              "#f0f921"
             ]
            ],
            "type": "heatmap"
           }
          ],
          "heatmapgl": [
           {
            "colorbar": {
             "outlinewidth": 0,
             "ticks": ""
            },
            "colorscale": [
             [
              0,
              "#0d0887"
             ],
             [
              0.1111111111111111,
              "#46039f"
             ],
             [
              0.2222222222222222,
              "#7201a8"
             ],
             [
              0.3333333333333333,
              "#9c179e"
             ],
             [
              0.4444444444444444,
              "#bd3786"
             ],
             [
              0.5555555555555556,
              "#d8576b"
             ],
             [
              0.6666666666666666,
              "#ed7953"
             ],
             [
              0.7777777777777778,
              "#fb9f3a"
             ],
             [
              0.8888888888888888,
              "#fdca26"
             ],
             [
              1,
              "#f0f921"
             ]
            ],
            "type": "heatmapgl"
           }
          ],
          "histogram": [
           {
            "marker": {
             "pattern": {
              "fillmode": "overlay",
              "size": 10,
              "solidity": 0.2
             }
            },
            "type": "histogram"
           }
          ],
          "histogram2d": [
           {
            "colorbar": {
             "outlinewidth": 0,
             "ticks": ""
            },
            "colorscale": [
             [
              0,
              "#0d0887"
             ],
             [
              0.1111111111111111,
              "#46039f"
             ],
             [
              0.2222222222222222,
              "#7201a8"
             ],
             [
              0.3333333333333333,
              "#9c179e"
             ],
             [
              0.4444444444444444,
              "#bd3786"
             ],
             [
              0.5555555555555556,
              "#d8576b"
             ],
             [
              0.6666666666666666,
              "#ed7953"
             ],
             [
              0.7777777777777778,
              "#fb9f3a"
             ],
             [
              0.8888888888888888,
              "#fdca26"
             ],
             [
              1,
              "#f0f921"
             ]
            ],
            "type": "histogram2d"
           }
          ],
          "histogram2dcontour": [
           {
            "colorbar": {
             "outlinewidth": 0,
             "ticks": ""
            },
            "colorscale": [
             [
              0,
              "#0d0887"
             ],
             [
              0.1111111111111111,
              "#46039f"
             ],
             [
              0.2222222222222222,
              "#7201a8"
             ],
             [
              0.3333333333333333,
              "#9c179e"
             ],
             [
              0.4444444444444444,
              "#bd3786"
             ],
             [
              0.5555555555555556,
              "#d8576b"
             ],
             [
              0.6666666666666666,
              "#ed7953"
             ],
             [
              0.7777777777777778,
              "#fb9f3a"
             ],
             [
              0.8888888888888888,
              "#fdca26"
             ],
             [
              1,
              "#f0f921"
             ]
            ],
            "type": "histogram2dcontour"
           }
          ],
          "mesh3d": [
           {
            "colorbar": {
             "outlinewidth": 0,
             "ticks": ""
            },
            "type": "mesh3d"
           }
          ],
          "parcoords": [
           {
            "line": {
             "colorbar": {
              "outlinewidth": 0,
              "ticks": ""
             }
            },
            "type": "parcoords"
           }
          ],
          "pie": [
           {
            "automargin": true,
            "type": "pie"
           }
          ],
          "scatter": [
           {
            "fillpattern": {
             "fillmode": "overlay",
             "size": 10,
             "solidity": 0.2
            },
            "type": "scatter"
           }
          ],
          "scatter3d": [
           {
            "line": {
             "colorbar": {
              "outlinewidth": 0,
              "ticks": ""
             }
            },
            "marker": {
             "colorbar": {
              "outlinewidth": 0,
              "ticks": ""
             }
            },
            "type": "scatter3d"
           }
          ],
          "scattercarpet": [
           {
            "marker": {
             "colorbar": {
              "outlinewidth": 0,
              "ticks": ""
             }
            },
            "type": "scattercarpet"
           }
          ],
          "scattergeo": [
           {
            "marker": {
             "colorbar": {
              "outlinewidth": 0,
              "ticks": ""
             }
            },
            "type": "scattergeo"
           }
          ],
          "scattergl": [
           {
            "marker": {
             "colorbar": {
              "outlinewidth": 0,
              "ticks": ""
             }
            },
            "type": "scattergl"
           }
          ],
          "scattermapbox": [
           {
            "marker": {
             "colorbar": {
              "outlinewidth": 0,
              "ticks": ""
             }
            },
            "type": "scattermapbox"
           }
          ],
          "scatterpolar": [
           {
            "marker": {
             "colorbar": {
              "outlinewidth": 0,
              "ticks": ""
             }
            },
            "type": "scatterpolar"
           }
          ],
          "scatterpolargl": [
           {
            "marker": {
             "colorbar": {
              "outlinewidth": 0,
              "ticks": ""
             }
            },
            "type": "scatterpolargl"
           }
          ],
          "scatterternary": [
           {
            "marker": {
             "colorbar": {
              "outlinewidth": 0,
              "ticks": ""
             }
            },
            "type": "scatterternary"
           }
          ],
          "surface": [
           {
            "colorbar": {
             "outlinewidth": 0,
             "ticks": ""
            },
            "colorscale": [
             [
              0,
              "#0d0887"
             ],
             [
              0.1111111111111111,
              "#46039f"
             ],
             [
              0.2222222222222222,
              "#7201a8"
             ],
             [
              0.3333333333333333,
              "#9c179e"
             ],
             [
              0.4444444444444444,
              "#bd3786"
             ],
             [
              0.5555555555555556,
              "#d8576b"
             ],
             [
              0.6666666666666666,
              "#ed7953"
             ],
             [
              0.7777777777777778,
              "#fb9f3a"
             ],
             [
              0.8888888888888888,
              "#fdca26"
             ],
             [
              1,
              "#f0f921"
             ]
            ],
            "type": "surface"
           }
          ],
          "table": [
           {
            "cells": {
             "fill": {
              "color": "#EBF0F8"
             },
             "line": {
              "color": "white"
             }
            },
            "header": {
             "fill": {
              "color": "#C8D4E3"
             },
             "line": {
              "color": "white"
             }
            },
            "type": "table"
           }
          ]
         },
         "layout": {
          "annotationdefaults": {
           "arrowcolor": "#2a3f5f",
           "arrowhead": 0,
           "arrowwidth": 1
          },
          "autotypenumbers": "strict",
          "coloraxis": {
           "colorbar": {
            "outlinewidth": 0,
            "ticks": ""
           }
          },
          "colorscale": {
           "diverging": [
            [
             0,
             "#8e0152"
            ],
            [
             0.1,
             "#c51b7d"
            ],
            [
             0.2,
             "#de77ae"
            ],
            [
             0.3,
             "#f1b6da"
            ],
            [
             0.4,
             "#fde0ef"
            ],
            [
             0.5,
             "#f7f7f7"
            ],
            [
             0.6,
             "#e6f5d0"
            ],
            [
             0.7,
             "#b8e186"
            ],
            [
             0.8,
             "#7fbc41"
            ],
            [
             0.9,
             "#4d9221"
            ],
            [
             1,
             "#276419"
            ]
           ],
           "sequential": [
            [
             0,
             "#0d0887"
            ],
            [
             0.1111111111111111,
             "#46039f"
            ],
            [
             0.2222222222222222,
             "#7201a8"
            ],
            [
             0.3333333333333333,
             "#9c179e"
            ],
            [
             0.4444444444444444,
             "#bd3786"
            ],
            [
             0.5555555555555556,
             "#d8576b"
            ],
            [
             0.6666666666666666,
             "#ed7953"
            ],
            [
             0.7777777777777778,
             "#fb9f3a"
            ],
            [
             0.8888888888888888,
             "#fdca26"
            ],
            [
             1,
             "#f0f921"
            ]
           ],
           "sequentialminus": [
            [
             0,
             "#0d0887"
            ],
            [
             0.1111111111111111,
             "#46039f"
            ],
            [
             0.2222222222222222,
             "#7201a8"
            ],
            [
             0.3333333333333333,
             "#9c179e"
            ],
            [
             0.4444444444444444,
             "#bd3786"
            ],
            [
             0.5555555555555556,
             "#d8576b"
            ],
            [
             0.6666666666666666,
             "#ed7953"
            ],
            [
             0.7777777777777778,
             "#fb9f3a"
            ],
            [
             0.8888888888888888,
             "#fdca26"
            ],
            [
             1,
             "#f0f921"
            ]
           ]
          },
          "colorway": [
           "#636efa",
           "#EF553B",
           "#00cc96",
           "#ab63fa",
           "#FFA15A",
           "#19d3f3",
           "#FF6692",
           "#B6E880",
           "#FF97FF",
           "#FECB52"
          ],
          "font": {
           "color": "#2a3f5f"
          },
          "geo": {
           "bgcolor": "white",
           "lakecolor": "white",
           "landcolor": "#E5ECF6",
           "showlakes": true,
           "showland": true,
           "subunitcolor": "white"
          },
          "hoverlabel": {
           "align": "left"
          },
          "hovermode": "closest",
          "mapbox": {
           "style": "light"
          },
          "paper_bgcolor": "white",
          "plot_bgcolor": "#E5ECF6",
          "polar": {
           "angularaxis": {
            "gridcolor": "white",
            "linecolor": "white",
            "ticks": ""
           },
           "bgcolor": "#E5ECF6",
           "radialaxis": {
            "gridcolor": "white",
            "linecolor": "white",
            "ticks": ""
           }
          },
          "scene": {
           "xaxis": {
            "backgroundcolor": "#E5ECF6",
            "gridcolor": "white",
            "gridwidth": 2,
            "linecolor": "white",
            "showbackground": true,
            "ticks": "",
            "zerolinecolor": "white"
           },
           "yaxis": {
            "backgroundcolor": "#E5ECF6",
            "gridcolor": "white",
            "gridwidth": 2,
            "linecolor": "white",
            "showbackground": true,
            "ticks": "",
            "zerolinecolor": "white"
           },
           "zaxis": {
            "backgroundcolor": "#E5ECF6",
            "gridcolor": "white",
            "gridwidth": 2,
            "linecolor": "white",
            "showbackground": true,
            "ticks": "",
            "zerolinecolor": "white"
           }
          },
          "shapedefaults": {
           "line": {
            "color": "#2a3f5f"
           }
          },
          "ternary": {
           "aaxis": {
            "gridcolor": "white",
            "linecolor": "white",
            "ticks": ""
           },
           "baxis": {
            "gridcolor": "white",
            "linecolor": "white",
            "ticks": ""
           },
           "bgcolor": "#E5ECF6",
           "caxis": {
            "gridcolor": "white",
            "linecolor": "white",
            "ticks": ""
           }
          },
          "title": {
           "x": 0.05
          },
          "xaxis": {
           "automargin": true,
           "gridcolor": "white",
           "linecolor": "white",
           "ticks": "",
           "title": {
            "standoff": 15
           },
           "zerolinecolor": "white",
           "zerolinewidth": 2
          },
          "yaxis": {
           "automargin": true,
           "gridcolor": "white",
           "linecolor": "white",
           "ticks": "",
           "title": {
            "standoff": 15
           },
           "zerolinecolor": "white",
           "zerolinewidth": 2
          }
         }
        },
        "xaxis": {
         "anchor": "y",
         "domain": [
          0,
          1
         ],
         "title": {
          "text": "Quantidade de clusters"
         }
        },
        "yaxis": {
         "anchor": "x",
         "domain": [
          0,
          1
         ],
         "title": {
          "text": "Coeficiente de silhueta"
         }
        }
       }
      }
     },
     "metadata": {},
     "output_type": "display_data"
    }
   ],
   "source": [
    "fig_silhueta = px.line(x=valores_ks, y=s).update_layout(xaxis_title='Quantidade de clusters',\n",
    "                                                        yaxis_title='Coeficiente de silhueta')\n",
    "fig_silhueta.show()"
   ]
  },
  {
   "cell_type": "markdown",
   "id": "cad11244",
   "metadata": {},
   "source": [
    "# Modelo ajustado: Clusterização dos dados estatísticos"
   ]
  },
  {
   "cell_type": "code",
   "execution_count": 57,
   "id": "6e850cd9",
   "metadata": {},
   "outputs": [
    {
     "data": {
      "text/html": [
       "<div>\n",
       "<style scoped>\n",
       "    .dataframe tbody tr th:only-of-type {\n",
       "        vertical-align: middle;\n",
       "    }\n",
       "\n",
       "    .dataframe tbody tr th {\n",
       "        vertical-align: top;\n",
       "    }\n",
       "\n",
       "    .dataframe thead th {\n",
       "        text-align: right;\n",
       "    }\n",
       "</style>\n",
       "<table border=\"1\" class=\"dataframe\">\n",
       "  <thead>\n",
       "    <tr style=\"text-align: right;\">\n",
       "      <th></th>\n",
       "      <th>usersrated</th>\n",
       "      <th>numgeeklists</th>\n",
       "      <th>numwanting</th>\n",
       "      <th>numcomments</th>\n",
       "      <th>siteviews</th>\n",
       "      <th>news</th>\n",
       "      <th>blogs</th>\n",
       "      <th>weblink</th>\n",
       "      <th>podcast</th>\n",
       "      <th>average_tratado</th>\n",
       "      <th>baverage_tratado</th>\n",
       "      <th>Cluster</th>\n",
       "    </tr>\n",
       "  </thead>\n",
       "  <tbody>\n",
       "    <tr>\n",
       "      <th>0</th>\n",
       "      <td>31254.0</td>\n",
       "      <td>3657</td>\n",
       "      <td>1365</td>\n",
       "      <td>5972</td>\n",
       "      <td>8933078</td>\n",
       "      <td>7</td>\n",
       "      <td>471</td>\n",
       "      <td>31</td>\n",
       "      <td>139</td>\n",
       "      <td>8.85292</td>\n",
       "      <td>8.58424</td>\n",
       "      <td>2</td>\n",
       "    </tr>\n",
       "    <tr>\n",
       "      <th>1</th>\n",
       "      <td>34729.0</td>\n",
       "      <td>3612</td>\n",
       "      <td>771</td>\n",
       "      <td>5477</td>\n",
       "      <td>2971746</td>\n",
       "      <td>9</td>\n",
       "      <td>597</td>\n",
       "      <td>69</td>\n",
       "      <td>164</td>\n",
       "      <td>8.62499</td>\n",
       "      <td>8.47159</td>\n",
       "      <td>2</td>\n",
       "    </tr>\n",
       "    <tr>\n",
       "      <th>2</th>\n",
       "      <td>48339.0</td>\n",
       "      <td>5941</td>\n",
       "      <td>2068</td>\n",
       "      <td>7274</td>\n",
       "      <td>4724387</td>\n",
       "      <td>14</td>\n",
       "      <td>1158</td>\n",
       "      <td>60</td>\n",
       "      <td>148</td>\n",
       "      <td>8.42299</td>\n",
       "      <td>8.26781</td>\n",
       "      <td>2</td>\n",
       "    </tr>\n",
       "    <tr>\n",
       "      <th>3</th>\n",
       "      <td>18269.0</td>\n",
       "      <td>2083</td>\n",
       "      <td>1049</td>\n",
       "      <td>2660</td>\n",
       "      <td>2448074</td>\n",
       "      <td>5</td>\n",
       "      <td>185</td>\n",
       "      <td>30</td>\n",
       "      <td>42</td>\n",
       "      <td>8.49419</td>\n",
       "      <td>8.23513</td>\n",
       "      <td>2</td>\n",
       "    </tr>\n",
       "    <tr>\n",
       "      <th>4</th>\n",
       "      <td>10070.0</td>\n",
       "      <td>1039</td>\n",
       "      <td>1077</td>\n",
       "      <td>1702</td>\n",
       "      <td>894621</td>\n",
       "      <td>3</td>\n",
       "      <td>124</td>\n",
       "      <td>13</td>\n",
       "      <td>21</td>\n",
       "      <td>8.62031</td>\n",
       "      <td>8.20459</td>\n",
       "      <td>1</td>\n",
       "    </tr>\n",
       "  </tbody>\n",
       "</table>\n",
       "</div>"
      ],
      "text/plain": [
       "   usersrated  numgeeklists  numwanting  numcomments  siteviews  news  blogs  \\\n",
       "0     31254.0          3657        1365         5972    8933078     7    471   \n",
       "1     34729.0          3612         771         5477    2971746     9    597   \n",
       "2     48339.0          5941        2068         7274    4724387    14   1158   \n",
       "3     18269.0          2083        1049         2660    2448074     5    185   \n",
       "4     10070.0          1039        1077         1702     894621     3    124   \n",
       "\n",
       "   weblink  podcast  average_tratado  baverage_tratado  Cluster  \n",
       "0       31      139          8.85292           8.58424        2  \n",
       "1       69      164          8.62499           8.47159        2  \n",
       "2       60      148          8.42299           8.26781        2  \n",
       "3       30       42          8.49419           8.23513        2  \n",
       "4       13       21          8.62031           8.20459        1  "
      ]
     },
     "execution_count": 57,
     "metadata": {},
     "output_type": "execute_result"
    }
   ],
   "source": [
    "# Aplicando o algoritmo \n",
    "model_stat = KMeans(n_clusters=3, random_state=0, n_init='auto')\n",
    "df_clusterizado = boardgame_stat[colunas_clusterizadas].copy()\n",
    "labels_stat = model_stat.fit_predict(df_clusterizado)\n",
    "df_clusterizado['Cluster'] = labels_stat\n",
    "df_clusterizado.head()"
   ]
  },
  {
   "cell_type": "markdown",
   "id": "513c2170",
   "metadata": {},
   "source": [
    "Descrição dos clusters:\n"
   ]
  },
  {
   "cell_type": "code",
   "execution_count": 58,
   "id": "97d625db",
   "metadata": {},
   "outputs": [],
   "source": [
    "# Função que agrupa o dataframe clusterizado e cria a coluna com a quantidade total de itens em cada cluster\n",
    "def descricao(df: pd.DataFrame, grupamento: str) -> pd.DataFrame:\n",
    "    descricao = df.groupby(grupamento)\n",
    "    n = descricao.size()\n",
    "    descricao = descricao.mean()\n",
    "    descricao['Quantidade Total'] = n\n",
    "    \n",
    "    return descricao"
   ]
  },
  {
   "cell_type": "code",
   "execution_count": 59,
   "id": "b3af480c",
   "metadata": {},
   "outputs": [
    {
     "data": {
      "text/html": [
       "<div>\n",
       "<style scoped>\n",
       "    .dataframe tbody tr th:only-of-type {\n",
       "        vertical-align: middle;\n",
       "    }\n",
       "\n",
       "    .dataframe tbody tr th {\n",
       "        vertical-align: top;\n",
       "    }\n",
       "\n",
       "    .dataframe thead th {\n",
       "        text-align: right;\n",
       "    }\n",
       "</style>\n",
       "<table border=\"1\" class=\"dataframe\">\n",
       "  <thead>\n",
       "    <tr style=\"text-align: right;\">\n",
       "      <th></th>\n",
       "      <th>usersrated</th>\n",
       "      <th>numgeeklists</th>\n",
       "      <th>numwanting</th>\n",
       "      <th>numcomments</th>\n",
       "      <th>siteviews</th>\n",
       "      <th>news</th>\n",
       "      <th>blogs</th>\n",
       "      <th>weblink</th>\n",
       "      <th>podcast</th>\n",
       "      <th>average_tratado</th>\n",
       "      <th>baverage_tratado</th>\n",
       "      <th>Quantidade Total</th>\n",
       "    </tr>\n",
       "    <tr>\n",
       "      <th>Cluster</th>\n",
       "      <th></th>\n",
       "      <th></th>\n",
       "      <th></th>\n",
       "      <th></th>\n",
       "      <th></th>\n",
       "      <th></th>\n",
       "      <th></th>\n",
       "      <th></th>\n",
       "      <th></th>\n",
       "      <th></th>\n",
       "      <th></th>\n",
       "      <th></th>\n",
       "    </tr>\n",
       "  </thead>\n",
       "  <tbody>\n",
       "    <tr>\n",
       "      <th>0</th>\n",
       "      <td>375.441594</td>\n",
       "      <td>165.987510</td>\n",
       "      <td>25.441283</td>\n",
       "      <td>117.658167</td>\n",
       "      <td>4.754661e+04</td>\n",
       "      <td>0.417133</td>\n",
       "      <td>5.869455</td>\n",
       "      <td>5.111940</td>\n",
       "      <td>1.135676</td>\n",
       "      <td>6.269729</td>\n",
       "      <td>5.603026</td>\n",
       "      <td>19296</td>\n",
       "    </tr>\n",
       "    <tr>\n",
       "      <th>1</th>\n",
       "      <td>10297.480969</td>\n",
       "      <td>2409.205882</td>\n",
       "      <td>446.382353</td>\n",
       "      <td>2211.038062</td>\n",
       "      <td>8.057613e+05</td>\n",
       "      <td>3.423875</td>\n",
       "      <td>121.754325</td>\n",
       "      <td>39.467128</td>\n",
       "      <td>22.813149</td>\n",
       "      <td>7.333213</td>\n",
       "      <td>6.928978</td>\n",
       "      <td>578</td>\n",
       "    </tr>\n",
       "    <tr>\n",
       "      <th>2</th>\n",
       "      <td>37068.880952</td>\n",
       "      <td>6922.952381</td>\n",
       "      <td>924.690476</td>\n",
       "      <td>6758.023810</td>\n",
       "      <td>3.416950e+06</td>\n",
       "      <td>8.238095</td>\n",
       "      <td>463.428571</td>\n",
       "      <td>87.904762</td>\n",
       "      <td>90.214286</td>\n",
       "      <td>7.846775</td>\n",
       "      <td>7.644558</td>\n",
       "      <td>42</td>\n",
       "    </tr>\n",
       "  </tbody>\n",
       "</table>\n",
       "</div>"
      ],
      "text/plain": [
       "           usersrated  numgeeklists  numwanting  numcomments     siteviews  \\\n",
       "Cluster                                                                      \n",
       "0          375.441594    165.987510   25.441283   117.658167  4.754661e+04   \n",
       "1        10297.480969   2409.205882  446.382353  2211.038062  8.057613e+05   \n",
       "2        37068.880952   6922.952381  924.690476  6758.023810  3.416950e+06   \n",
       "\n",
       "             news       blogs    weblink    podcast  average_tratado  \\\n",
       "Cluster                                                                \n",
       "0        0.417133    5.869455   5.111940   1.135676         6.269729   \n",
       "1        3.423875  121.754325  39.467128  22.813149         7.333213   \n",
       "2        8.238095  463.428571  87.904762  90.214286         7.846775   \n",
       "\n",
       "         baverage_tratado  Quantidade Total  \n",
       "Cluster                                      \n",
       "0                5.603026             19296  \n",
       "1                6.928978               578  \n",
       "2                7.644558                42  "
      ]
     },
     "execution_count": 59,
     "metadata": {},
     "output_type": "execute_result"
    }
   ],
   "source": [
    "descricao(df_clusterizado, 'Cluster')"
   ]
  },
  {
   "cell_type": "code",
   "execution_count": 60,
   "id": "fb0ced25",
   "metadata": {},
   "outputs": [],
   "source": [
    "df_clusterizado['name'] = boardgame_stat['name']\n",
    "df_clusterizado['objectid'] = boardgame_stat['object_id']"
   ]
  },
  {
   "cell_type": "code",
   "execution_count": 61,
   "id": "30b26c5d",
   "metadata": {},
   "outputs": [],
   "source": [
    "categoricals_df.drop_duplicates(inplace=True, subset=['objectid'])"
   ]
  },
  {
   "cell_type": "code",
   "execution_count": 62,
   "id": "3ed762bb",
   "metadata": {},
   "outputs": [
    {
     "name": "stdout",
     "output_type": "stream",
     "text": [
      "(19916, 34)\n",
      "(19916, 11)\n"
     ]
    }
   ],
   "source": [
    "df_final = df_clusterizado.merge(categoricals_df, how='left', on='objectid')\n",
    "print(df_final.shape)\n",
    "print(X.shape)"
   ]
  },
  {
   "cell_type": "code",
   "execution_count": 63,
   "id": "e625be9c",
   "metadata": {},
   "outputs": [
    {
     "data": {
      "text/plain": [
       "(42, 34)"
      ]
     },
     "execution_count": 63,
     "metadata": {},
     "output_type": "execute_result"
    }
   ],
   "source": [
    "df_final.query('Cluster == 2').shape"
   ]
  },
  {
   "cell_type": "code",
   "execution_count": 64,
   "id": "745cc3c9",
   "metadata": {},
   "outputs": [
    {
     "data": {
      "text/html": [
       "<div>\n",
       "<style scoped>\n",
       "    .dataframe tbody tr th:only-of-type {\n",
       "        vertical-align: middle;\n",
       "    }\n",
       "\n",
       "    .dataframe tbody tr th {\n",
       "        vertical-align: top;\n",
       "    }\n",
       "\n",
       "    .dataframe thead th {\n",
       "        text-align: right;\n",
       "    }\n",
       "</style>\n",
       "<table border=\"1\" class=\"dataframe\">\n",
       "  <thead>\n",
       "    <tr style=\"text-align: right;\">\n",
       "      <th></th>\n",
       "      <th>usersrated</th>\n",
       "      <th>numgeeklists</th>\n",
       "      <th>numwanting</th>\n",
       "      <th>numcomments</th>\n",
       "      <th>siteviews</th>\n",
       "      <th>news</th>\n",
       "      <th>blogs</th>\n",
       "      <th>weblink</th>\n",
       "      <th>podcast</th>\n",
       "      <th>average_tratado</th>\n",
       "      <th>baverage_tratado</th>\n",
       "      <th>Cluster</th>\n",
       "      <th>name</th>\n",
       "      <th>objectid</th>\n",
       "      <th>label</th>\n",
       "      <th>boardgamedesigner_cnt</th>\n",
       "      <th>boardgameartist_cnt</th>\n",
       "      <th>boardgamepublisher_cnt</th>\n",
       "      <th>boardgamehonor_cnt</th>\n",
       "      <th>boardgamecategory_cnt</th>\n",
       "      <th>boardgamemechanic_cnt</th>\n",
       "      <th>boardgameexpansion_cnt</th>\n",
       "      <th>boardgameversion_cnt</th>\n",
       "      <th>boardgamefamily_cnt</th>\n",
       "      <th>boardgamedesigner</th>\n",
       "      <th>boardgameartist</th>\n",
       "      <th>boardgamepublisher</th>\n",
       "      <th>boardgamehonor</th>\n",
       "      <th>boardgamecategory</th>\n",
       "      <th>boardgameversion</th>\n",
       "      <th>boardgamemechanic</th>\n",
       "      <th>boardgameexpansion</th>\n",
       "      <th>boardgamefamily</th>\n",
       "      <th>gamelink</th>\n",
       "    </tr>\n",
       "  </thead>\n",
       "  <tbody>\n",
       "    <tr>\n",
       "      <th>0</th>\n",
       "      <td>31254.0</td>\n",
       "      <td>3657</td>\n",
       "      <td>1365</td>\n",
       "      <td>5972</td>\n",
       "      <td>8933078</td>\n",
       "      <td>7</td>\n",
       "      <td>471</td>\n",
       "      <td>31</td>\n",
       "      <td>139</td>\n",
       "      <td>8.85292</td>\n",
       "      <td>8.58424</td>\n",
       "      <td>2</td>\n",
       "      <td>Gloomhaven</td>\n",
       "      <td>174430</td>\n",
       "      <td>Board Game</td>\n",
       "      <td>1</td>\n",
       "      <td>3</td>\n",
       "      <td>9</td>\n",
       "      <td>23</td>\n",
       "      <td>5</td>\n",
       "      <td>12</td>\n",
       "      <td>4</td>\n",
       "      <td>19</td>\n",
       "      <td>7</td>\n",
       "      <td>['Isaac Childres\"']</td>\n",
       "      <td>['Alexandr Elichev', 'Josh T. McDowell', 'Alva...</td>\n",
       "      <td>['Cephalofair Games', 'Albi', 'Asmodee', 'Feue...</td>\n",
       "      <td>['2017 Best Science Fiction or Fantasy Board G...</td>\n",
       "      <td>['Adventure', 'Exploration', 'Fantasy', 'Fight...</td>\n",
       "      <td>['Chinese edition', 'Czech edition', 'English ...</td>\n",
       "      <td>['Campaign / Battle Card Driven', 'Cooperative...</td>\n",
       "      <td>['Gloomhaven: Forgotten Circles', 'Gloomhaven:...</td>\n",
       "      <td>['Campaign Games', 'Components: Miniatures', '...</td>\n",
       "      <td>/boardgame/174430/gloomhaven</td>\n",
       "    </tr>\n",
       "    <tr>\n",
       "      <th>1</th>\n",
       "      <td>34729.0</td>\n",
       "      <td>3612</td>\n",
       "      <td>771</td>\n",
       "      <td>5477</td>\n",
       "      <td>2971746</td>\n",
       "      <td>9</td>\n",
       "      <td>597</td>\n",
       "      <td>69</td>\n",
       "      <td>164</td>\n",
       "      <td>8.62499</td>\n",
       "      <td>8.47159</td>\n",
       "      <td>2</td>\n",
       "      <td>Pandemic Legacy  Season 1</td>\n",
       "      <td>161936</td>\n",
       "      <td>Board Game</td>\n",
       "      <td>2</td>\n",
       "      <td>1</td>\n",
       "      <td>11</td>\n",
       "      <td>20</td>\n",
       "      <td>2</td>\n",
       "      <td>8</td>\n",
       "      <td>0</td>\n",
       "      <td>33</td>\n",
       "      <td>3</td>\n",
       "      <td>['Rob Daviau\"', 'Matt Leacock\"']</td>\n",
       "      <td>['Chris Quilliams']</td>\n",
       "      <td>['Z-Man Games', 'Asterion Press', 'Devir', 'Fi...</td>\n",
       "      <td>['2015 Cardboard Republic Immersionist Laurel ...</td>\n",
       "      <td>['Environmental', 'Medical']</td>\n",
       "      <td>['Chinese blue edition', 'Chinese red edition'...</td>\n",
       "      <td>['Action Points', 'Cooperative Game', 'Hand Ma...</td>\n",
       "      <td>['None']</td>\n",
       "      <td>['Campaign Games', 'Legacy', 'Pandemic']</td>\n",
       "      <td>/boardgame/161936/pandemic-legacy-season-1</td>\n",
       "    </tr>\n",
       "    <tr>\n",
       "      <th>2</th>\n",
       "      <td>48339.0</td>\n",
       "      <td>5941</td>\n",
       "      <td>2068</td>\n",
       "      <td>7274</td>\n",
       "      <td>4724387</td>\n",
       "      <td>14</td>\n",
       "      <td>1158</td>\n",
       "      <td>60</td>\n",
       "      <td>148</td>\n",
       "      <td>8.42299</td>\n",
       "      <td>8.26781</td>\n",
       "      <td>2</td>\n",
       "      <td>Terraforming Mars</td>\n",
       "      <td>167791</td>\n",
       "      <td>Board Game</td>\n",
       "      <td>1</td>\n",
       "      <td>1</td>\n",
       "      <td>20</td>\n",
       "      <td>20</td>\n",
       "      <td>6</td>\n",
       "      <td>9</td>\n",
       "      <td>15</td>\n",
       "      <td>29</td>\n",
       "      <td>6</td>\n",
       "      <td>['Jacob Fryxelius\"']</td>\n",
       "      <td>['Isaac Fryxelius']</td>\n",
       "      <td>['FryxGames', 'Arclight', 'Fantasmagoria', 'Gh...</td>\n",
       "      <td>['2016 Cardboard Republic Architect Laurel Nom...</td>\n",
       "      <td>['Economic', 'Environmental', 'Industry / Manu...</td>\n",
       "      <td>['Bulgarian edition', 'Chinese edition', 'Czec...</td>\n",
       "      <td>['Card Drafting', 'End Game Bonuses', 'Hand Ma...</td>\n",
       "      <td>['French Championship Promo Cards (fan expansi...</td>\n",
       "      <td>['Fryxgames Future Timeline', 'Planets: Mars',...</td>\n",
       "      <td>/boardgame/167791/terraforming-mars</td>\n",
       "    </tr>\n",
       "    <tr>\n",
       "      <th>3</th>\n",
       "      <td>18269.0</td>\n",
       "      <td>2083</td>\n",
       "      <td>1049</td>\n",
       "      <td>2660</td>\n",
       "      <td>2448074</td>\n",
       "      <td>5</td>\n",
       "      <td>185</td>\n",
       "      <td>30</td>\n",
       "      <td>42</td>\n",
       "      <td>8.49419</td>\n",
       "      <td>8.23513</td>\n",
       "      <td>2</td>\n",
       "      <td>Through the Ages  A New Story of Civilization</td>\n",
       "      <td>182028</td>\n",
       "      <td>Board Game</td>\n",
       "      <td>1</td>\n",
       "      <td>4</td>\n",
       "      <td>13</td>\n",
       "      <td>3</td>\n",
       "      <td>3</td>\n",
       "      <td>5</td>\n",
       "      <td>1</td>\n",
       "      <td>14</td>\n",
       "      <td>2</td>\n",
       "      <td>['Vlaada Chv\\\\u00e1til\"']</td>\n",
       "      <td>['Filip Murmak', 'Radim Pech', 'Jakub Politzer...</td>\n",
       "      <td>['Czech Games Edition', 'Cranio Creations', 'D...</td>\n",
       "      <td>['2015 Golden Geek Best Strategy Board Game No...</td>\n",
       "      <td>['Card Game', 'Civilization', 'Economic']</td>\n",
       "      <td>['Chinese edition', 'Czech edition', 'English ...</td>\n",
       "      <td>['Action Points', 'Auction/Bidding', 'Auction:...</td>\n",
       "      <td>['Through the Ages: New Leaders and Wonders']</td>\n",
       "      <td>['Tableau Building', 'Through the Ages']</td>\n",
       "      <td>/boardgame/182028/through-ages-new-story-civil...</td>\n",
       "    </tr>\n",
       "    <tr>\n",
       "      <th>6</th>\n",
       "      <td>36644.0</td>\n",
       "      <td>9658</td>\n",
       "      <td>1341</td>\n",
       "      <td>8095</td>\n",
       "      <td>4506683</td>\n",
       "      <td>2</td>\n",
       "      <td>323</td>\n",
       "      <td>84</td>\n",
       "      <td>82</td>\n",
       "      <td>8.31307</td>\n",
       "      <td>8.16138</td>\n",
       "      <td>2</td>\n",
       "      <td>Twilight Struggle</td>\n",
       "      <td>12333</td>\n",
       "      <td>Board Game</td>\n",
       "      <td>2</td>\n",
       "      <td>5</td>\n",
       "      <td>12</td>\n",
       "      <td>13</td>\n",
       "      <td>3</td>\n",
       "      <td>9</td>\n",
       "      <td>9</td>\n",
       "      <td>32</td>\n",
       "      <td>5</td>\n",
       "      <td>['Ananda Gupta\"', 'Jason Matthews\"']</td>\n",
       "      <td>['Viktor Csete', 'Rodger B. MacGowan', 'Chechu...</td>\n",
       "      <td>['GMT Games', '(Self-Published)', 'Asterion Pr...</td>\n",
       "      <td>['2005 Charles S. Roberts Best Modern Era Boar...</td>\n",
       "      <td>['Modern Warfare', 'Political', 'Wargame']</td>\n",
       "      <td>['Bard Centrum Gier Polish deluxe edition', 'B...</td>\n",
       "      <td>['Action/Event', 'Advantage Token', 'Area Majo...</td>\n",
       "      <td>['Twilight Struggle: Anni di Piombo Promo Card...</td>\n",
       "      <td>['Cold War', 'Country: Soviet Union', 'Country...</td>\n",
       "      <td>/boardgame/12333/twilight-struggle</td>\n",
       "    </tr>\n",
       "  </tbody>\n",
       "</table>\n",
       "</div>"
      ],
      "text/plain": [
       "   usersrated  numgeeklists  numwanting  numcomments  siteviews  news  blogs  \\\n",
       "0     31254.0          3657        1365         5972    8933078     7    471   \n",
       "1     34729.0          3612         771         5477    2971746     9    597   \n",
       "2     48339.0          5941        2068         7274    4724387    14   1158   \n",
       "3     18269.0          2083        1049         2660    2448074     5    185   \n",
       "6     36644.0          9658        1341         8095    4506683     2    323   \n",
       "\n",
       "   weblink  podcast  average_tratado  baverage_tratado  Cluster  \\\n",
       "0       31      139          8.85292           8.58424        2   \n",
       "1       69      164          8.62499           8.47159        2   \n",
       "2       60      148          8.42299           8.26781        2   \n",
       "3       30       42          8.49419           8.23513        2   \n",
       "6       84       82          8.31307           8.16138        2   \n",
       "\n",
       "                                            name  objectid       label  \\\n",
       "0                                     Gloomhaven    174430  Board Game   \n",
       "1                      Pandemic Legacy  Season 1    161936  Board Game   \n",
       "2                              Terraforming Mars    167791  Board Game   \n",
       "3  Through the Ages  A New Story of Civilization    182028  Board Game   \n",
       "6                              Twilight Struggle     12333  Board Game   \n",
       "\n",
       "   boardgamedesigner_cnt  boardgameartist_cnt  boardgamepublisher_cnt  \\\n",
       "0                      1                    3                       9   \n",
       "1                      2                    1                      11   \n",
       "2                      1                    1                      20   \n",
       "3                      1                    4                      13   \n",
       "6                      2                    5                      12   \n",
       "\n",
       "   boardgamehonor_cnt  boardgamecategory_cnt  boardgamemechanic_cnt  \\\n",
       "0                  23                      5                     12   \n",
       "1                  20                      2                      8   \n",
       "2                  20                      6                      9   \n",
       "3                   3                      3                      5   \n",
       "6                  13                      3                      9   \n",
       "\n",
       "   boardgameexpansion_cnt  boardgameversion_cnt  boardgamefamily_cnt  \\\n",
       "0                       4                    19                    7   \n",
       "1                       0                    33                    3   \n",
       "2                      15                    29                    6   \n",
       "3                       1                    14                    2   \n",
       "6                       9                    32                    5   \n",
       "\n",
       "                      boardgamedesigner  \\\n",
       "0                   ['Isaac Childres\"']   \n",
       "1      ['Rob Daviau\"', 'Matt Leacock\"']   \n",
       "2                  ['Jacob Fryxelius\"']   \n",
       "3             ['Vlaada Chv\\\\u00e1til\"']   \n",
       "6  ['Ananda Gupta\"', 'Jason Matthews\"']   \n",
       "\n",
       "                                     boardgameartist  \\\n",
       "0  ['Alexandr Elichev', 'Josh T. McDowell', 'Alva...   \n",
       "1                                ['Chris Quilliams']   \n",
       "2                                ['Isaac Fryxelius']   \n",
       "3  ['Filip Murmak', 'Radim Pech', 'Jakub Politzer...   \n",
       "6  ['Viktor Csete', 'Rodger B. MacGowan', 'Chechu...   \n",
       "\n",
       "                                  boardgamepublisher  \\\n",
       "0  ['Cephalofair Games', 'Albi', 'Asmodee', 'Feue...   \n",
       "1  ['Z-Man Games', 'Asterion Press', 'Devir', 'Fi...   \n",
       "2  ['FryxGames', 'Arclight', 'Fantasmagoria', 'Gh...   \n",
       "3  ['Czech Games Edition', 'Cranio Creations', 'D...   \n",
       "6  ['GMT Games', '(Self-Published)', 'Asterion Pr...   \n",
       "\n",
       "                                      boardgamehonor  \\\n",
       "0  ['2017 Best Science Fiction or Fantasy Board G...   \n",
       "1  ['2015 Cardboard Republic Immersionist Laurel ...   \n",
       "2  ['2016 Cardboard Republic Architect Laurel Nom...   \n",
       "3  ['2015 Golden Geek Best Strategy Board Game No...   \n",
       "6  ['2005 Charles S. Roberts Best Modern Era Boar...   \n",
       "\n",
       "                                   boardgamecategory  \\\n",
       "0  ['Adventure', 'Exploration', 'Fantasy', 'Fight...   \n",
       "1                       ['Environmental', 'Medical']   \n",
       "2  ['Economic', 'Environmental', 'Industry / Manu...   \n",
       "3          ['Card Game', 'Civilization', 'Economic']   \n",
       "6         ['Modern Warfare', 'Political', 'Wargame']   \n",
       "\n",
       "                                    boardgameversion  \\\n",
       "0  ['Chinese edition', 'Czech edition', 'English ...   \n",
       "1  ['Chinese blue edition', 'Chinese red edition'...   \n",
       "2  ['Bulgarian edition', 'Chinese edition', 'Czec...   \n",
       "3  ['Chinese edition', 'Czech edition', 'English ...   \n",
       "6  ['Bard Centrum Gier Polish deluxe edition', 'B...   \n",
       "\n",
       "                                   boardgamemechanic  \\\n",
       "0  ['Campaign / Battle Card Driven', 'Cooperative...   \n",
       "1  ['Action Points', 'Cooperative Game', 'Hand Ma...   \n",
       "2  ['Card Drafting', 'End Game Bonuses', 'Hand Ma...   \n",
       "3  ['Action Points', 'Auction/Bidding', 'Auction:...   \n",
       "6  ['Action/Event', 'Advantage Token', 'Area Majo...   \n",
       "\n",
       "                                  boardgameexpansion  \\\n",
       "0  ['Gloomhaven: Forgotten Circles', 'Gloomhaven:...   \n",
       "1                                           ['None']   \n",
       "2  ['French Championship Promo Cards (fan expansi...   \n",
       "3      ['Through the Ages: New Leaders and Wonders']   \n",
       "6  ['Twilight Struggle: Anni di Piombo Promo Card...   \n",
       "\n",
       "                                     boardgamefamily  \\\n",
       "0  ['Campaign Games', 'Components: Miniatures', '...   \n",
       "1           ['Campaign Games', 'Legacy', 'Pandemic']   \n",
       "2  ['Fryxgames Future Timeline', 'Planets: Mars',...   \n",
       "3           ['Tableau Building', 'Through the Ages']   \n",
       "6  ['Cold War', 'Country: Soviet Union', 'Country...   \n",
       "\n",
       "                                            gamelink  \n",
       "0                       /boardgame/174430/gloomhaven  \n",
       "1         /boardgame/161936/pandemic-legacy-season-1  \n",
       "2                /boardgame/167791/terraforming-mars  \n",
       "3  /boardgame/182028/through-ages-new-story-civil...  \n",
       "6                 /boardgame/12333/twilight-struggle  "
      ]
     },
     "execution_count": 64,
     "metadata": {},
     "output_type": "execute_result"
    }
   ],
   "source": [
    "df_final.query('Cluster == 2').head()"
   ]
  },
  {
   "cell_type": "markdown",
   "id": "07914fb5",
   "metadata": {},
   "source": [
    "df_final indica a junção do DataFrame de categorias filtrado com os clusters junto do DataFrame de categorias. Por conta disso, vou remover algumas colunas que considero inúteis do DataFrame de categorias."
   ]
  },
  {
   "cell_type": "code",
   "execution_count": 65,
   "id": "b035bc9d",
   "metadata": {},
   "outputs": [],
   "source": [
    "df_final.drop(labels=['boardgamedesigner_cnt', 'boardgameartist_cnt', 'boardgamepublisher_cnt', 'boardgamehonor_cnt', 'boardgamecategory_cnt', 'boardgamemechanic_cnt', 'boardgameexpansion_cnt'\n",
    "                      , 'boardgameversion_cnt', 'boardgamefamily_cnt', 'label', 'boardgamedesigner', 'boardgameartist', 'boardgamepublisher', 'boardgamehonor', 'boardgameversion'\n",
    "                      , 'boardgameexpansion', 'gamelink'], inplace=True, axis=1)"
   ]
  },
  {
   "cell_type": "code",
   "execution_count": 66,
   "id": "1121c3dc",
   "metadata": {},
   "outputs": [
    {
     "data": {
      "text/html": [
       "<div>\n",
       "<style scoped>\n",
       "    .dataframe tbody tr th:only-of-type {\n",
       "        vertical-align: middle;\n",
       "    }\n",
       "\n",
       "    .dataframe tbody tr th {\n",
       "        vertical-align: top;\n",
       "    }\n",
       "\n",
       "    .dataframe thead th {\n",
       "        text-align: right;\n",
       "    }\n",
       "</style>\n",
       "<table border=\"1\" class=\"dataframe\">\n",
       "  <thead>\n",
       "    <tr style=\"text-align: right;\">\n",
       "      <th></th>\n",
       "      <th>usersrated</th>\n",
       "      <th>numgeeklists</th>\n",
       "      <th>numwanting</th>\n",
       "      <th>numcomments</th>\n",
       "      <th>siteviews</th>\n",
       "      <th>news</th>\n",
       "      <th>blogs</th>\n",
       "      <th>weblink</th>\n",
       "      <th>podcast</th>\n",
       "      <th>average_tratado</th>\n",
       "      <th>baverage_tratado</th>\n",
       "      <th>Cluster</th>\n",
       "      <th>name</th>\n",
       "      <th>objectid</th>\n",
       "      <th>boardgamecategory</th>\n",
       "      <th>boardgamemechanic</th>\n",
       "      <th>boardgamefamily</th>\n",
       "    </tr>\n",
       "  </thead>\n",
       "  <tbody>\n",
       "    <tr>\n",
       "      <th>0</th>\n",
       "      <td>31254.0</td>\n",
       "      <td>3657</td>\n",
       "      <td>1365</td>\n",
       "      <td>5972</td>\n",
       "      <td>8933078</td>\n",
       "      <td>7</td>\n",
       "      <td>471</td>\n",
       "      <td>31</td>\n",
       "      <td>139</td>\n",
       "      <td>8.85292</td>\n",
       "      <td>8.58424</td>\n",
       "      <td>2</td>\n",
       "      <td>Gloomhaven</td>\n",
       "      <td>174430</td>\n",
       "      <td>['Adventure', 'Exploration', 'Fantasy', 'Fight...</td>\n",
       "      <td>['Campaign / Battle Card Driven', 'Cooperative...</td>\n",
       "      <td>['Campaign Games', 'Components: Miniatures', '...</td>\n",
       "    </tr>\n",
       "    <tr>\n",
       "      <th>1</th>\n",
       "      <td>34729.0</td>\n",
       "      <td>3612</td>\n",
       "      <td>771</td>\n",
       "      <td>5477</td>\n",
       "      <td>2971746</td>\n",
       "      <td>9</td>\n",
       "      <td>597</td>\n",
       "      <td>69</td>\n",
       "      <td>164</td>\n",
       "      <td>8.62499</td>\n",
       "      <td>8.47159</td>\n",
       "      <td>2</td>\n",
       "      <td>Pandemic Legacy  Season 1</td>\n",
       "      <td>161936</td>\n",
       "      <td>['Environmental', 'Medical']</td>\n",
       "      <td>['Action Points', 'Cooperative Game', 'Hand Ma...</td>\n",
       "      <td>['Campaign Games', 'Legacy', 'Pandemic']</td>\n",
       "    </tr>\n",
       "    <tr>\n",
       "      <th>2</th>\n",
       "      <td>48339.0</td>\n",
       "      <td>5941</td>\n",
       "      <td>2068</td>\n",
       "      <td>7274</td>\n",
       "      <td>4724387</td>\n",
       "      <td>14</td>\n",
       "      <td>1158</td>\n",
       "      <td>60</td>\n",
       "      <td>148</td>\n",
       "      <td>8.42299</td>\n",
       "      <td>8.26781</td>\n",
       "      <td>2</td>\n",
       "      <td>Terraforming Mars</td>\n",
       "      <td>167791</td>\n",
       "      <td>['Economic', 'Environmental', 'Industry / Manu...</td>\n",
       "      <td>['Card Drafting', 'End Game Bonuses', 'Hand Ma...</td>\n",
       "      <td>['Fryxgames Future Timeline', 'Planets: Mars',...</td>\n",
       "    </tr>\n",
       "    <tr>\n",
       "      <th>3</th>\n",
       "      <td>18269.0</td>\n",
       "      <td>2083</td>\n",
       "      <td>1049</td>\n",
       "      <td>2660</td>\n",
       "      <td>2448074</td>\n",
       "      <td>5</td>\n",
       "      <td>185</td>\n",
       "      <td>30</td>\n",
       "      <td>42</td>\n",
       "      <td>8.49419</td>\n",
       "      <td>8.23513</td>\n",
       "      <td>2</td>\n",
       "      <td>Through the Ages  A New Story of Civilization</td>\n",
       "      <td>182028</td>\n",
       "      <td>['Card Game', 'Civilization', 'Economic']</td>\n",
       "      <td>['Action Points', 'Auction/Bidding', 'Auction:...</td>\n",
       "      <td>['Tableau Building', 'Through the Ages']</td>\n",
       "    </tr>\n",
       "    <tr>\n",
       "      <th>4</th>\n",
       "      <td>10070.0</td>\n",
       "      <td>1039</td>\n",
       "      <td>1077</td>\n",
       "      <td>1702</td>\n",
       "      <td>894621</td>\n",
       "      <td>3</td>\n",
       "      <td>124</td>\n",
       "      <td>13</td>\n",
       "      <td>21</td>\n",
       "      <td>8.62031</td>\n",
       "      <td>8.20459</td>\n",
       "      <td>1</td>\n",
       "      <td>Brass  Birmingham</td>\n",
       "      <td>224517</td>\n",
       "      <td>['Economic', 'Industry / Manufacturing', 'Tran...</td>\n",
       "      <td>['Hand Management', 'Income', 'Loans', 'Market...</td>\n",
       "      <td>['Beer', 'Brass', 'Cities: Birmingham (England...</td>\n",
       "    </tr>\n",
       "  </tbody>\n",
       "</table>\n",
       "</div>"
      ],
      "text/plain": [
       "   usersrated  numgeeklists  numwanting  numcomments  siteviews  news  blogs  \\\n",
       "0     31254.0          3657        1365         5972    8933078     7    471   \n",
       "1     34729.0          3612         771         5477    2971746     9    597   \n",
       "2     48339.0          5941        2068         7274    4724387    14   1158   \n",
       "3     18269.0          2083        1049         2660    2448074     5    185   \n",
       "4     10070.0          1039        1077         1702     894621     3    124   \n",
       "\n",
       "   weblink  podcast  average_tratado  baverage_tratado  Cluster  \\\n",
       "0       31      139          8.85292           8.58424        2   \n",
       "1       69      164          8.62499           8.47159        2   \n",
       "2       60      148          8.42299           8.26781        2   \n",
       "3       30       42          8.49419           8.23513        2   \n",
       "4       13       21          8.62031           8.20459        1   \n",
       "\n",
       "                                            name  objectid  \\\n",
       "0                                     Gloomhaven    174430   \n",
       "1                      Pandemic Legacy  Season 1    161936   \n",
       "2                              Terraforming Mars    167791   \n",
       "3  Through the Ages  A New Story of Civilization    182028   \n",
       "4                              Brass  Birmingham    224517   \n",
       "\n",
       "                                   boardgamecategory  \\\n",
       "0  ['Adventure', 'Exploration', 'Fantasy', 'Fight...   \n",
       "1                       ['Environmental', 'Medical']   \n",
       "2  ['Economic', 'Environmental', 'Industry / Manu...   \n",
       "3          ['Card Game', 'Civilization', 'Economic']   \n",
       "4  ['Economic', 'Industry / Manufacturing', 'Tran...   \n",
       "\n",
       "                                   boardgamemechanic  \\\n",
       "0  ['Campaign / Battle Card Driven', 'Cooperative...   \n",
       "1  ['Action Points', 'Cooperative Game', 'Hand Ma...   \n",
       "2  ['Card Drafting', 'End Game Bonuses', 'Hand Ma...   \n",
       "3  ['Action Points', 'Auction/Bidding', 'Auction:...   \n",
       "4  ['Hand Management', 'Income', 'Loans', 'Market...   \n",
       "\n",
       "                                     boardgamefamily  \n",
       "0  ['Campaign Games', 'Components: Miniatures', '...  \n",
       "1           ['Campaign Games', 'Legacy', 'Pandemic']  \n",
       "2  ['Fryxgames Future Timeline', 'Planets: Mars',...  \n",
       "3           ['Tableau Building', 'Through the Ages']  \n",
       "4  ['Beer', 'Brass', 'Cities: Birmingham (England...  "
      ]
     },
     "execution_count": 66,
     "metadata": {},
     "output_type": "execute_result"
    }
   ],
   "source": [
    "df_final.head()"
   ]
  },
  {
   "cell_type": "code",
   "execution_count": 67,
   "id": "8675c192",
   "metadata": {},
   "outputs": [],
   "source": [
    "# Aqui transformei o tipo dos valores dessas colunas de str para listas\n",
    "df_final['boardgamecategory'] = df_final.boardgamecategory.apply(lambda x: x[1:-1].split(','))\n",
    "df_final['boardgamemechanic'] = df_final.boardgamemechanic.apply(lambda x: x[1:-1].split(','))\n",
    "df_final['boardgamefamily'] = df_final.boardgamefamily.apply(lambda x: x[1:-1].split(','))\n"
   ]
  },
  {
   "cell_type": "code",
   "execution_count": 68,
   "id": "56721e7b",
   "metadata": {},
   "outputs": [],
   "source": [
    "# Defini uma função para formatar a lista que foi transformada na célula anterior\n",
    "def formata_lista(lista_teste):\n",
    "    lista_formatada = []\n",
    "    for elemento in lista_teste:\n",
    "        elemento_formatado = elemento.strip().replace(\"'\", \"\")\n",
    "        lista_formatada.append(elemento_formatado)\n",
    "    return lista_formatada"
   ]
  },
  {
   "cell_type": "code",
   "execution_count": 69,
   "id": "80423851",
   "metadata": {},
   "outputs": [],
   "source": [
    "# Formatando as listas de cada colunas\n",
    "df_final['boardgamecategory'] = df_final.boardgamecategory.apply(formata_lista)\n",
    "df_final['boardgamemechanic'] = df_final.boardgamemechanic.apply(formata_lista)\n",
    "df_final['boardgamefamily'] = df_final.boardgamefamily.apply(formata_lista)"
   ]
  },
  {
   "cell_type": "code",
   "execution_count": 74,
   "id": "43491275",
   "metadata": {},
   "outputs": [
    {
     "data": {
      "text/plain": [
       "(42, 17)"
      ]
     },
     "execution_count": 74,
     "metadata": {},
     "output_type": "execute_result"
    }
   ],
   "source": [
    "# Criei um novo DataFrame com as linhas que estão no cluster 2\n",
    "df_final_cluster2 = df_final.query('Cluster == 2').copy()\n",
    "df_final_cluster2.shape"
   ]
  },
  {
   "cell_type": "code",
   "execution_count": 79,
   "id": "cb83d4a6",
   "metadata": {},
   "outputs": [
    {
     "data": {
      "text/plain": [
       "{'Adventure': 13,\n",
       " 'Exploration': 7,\n",
       " 'Fantasy': 12,\n",
       " 'Fighting': 13,\n",
       " 'Miniatures': 9,\n",
       " 'Environmental': 2,\n",
       " 'Medical': 2,\n",
       " 'Economic': 10,\n",
       " 'Industry / Manufacturing': 2,\n",
       " 'Science Fiction': 11,\n",
       " 'Space Exploration': 5,\n",
       " 'Territory Building': 6,\n",
       " 'Card Game': 9,\n",
       " 'Civilization': 7,\n",
       " 'Modern Warfare': 1,\n",
       " 'Political': 3,\n",
       " 'Wargame': 5,\n",
       " 'Movies / TV / Radio theme': 4,\n",
       " 'Dice': 1,\n",
       " 'Medieval': 3,\n",
       " 'Collectible Components': 3,\n",
       " 'Horror': 7,\n",
       " 'Novel-based': 5,\n",
       " 'City Building': 3,\n",
       " 'Farming': 2,\n",
       " 'Animals': 1,\n",
       " 'Mythology': 2,\n",
       " 'Mature / Adult': 1,\n",
       " 'Bluffing': 4,\n",
       " 'Ancient': 1,\n",
       " 'Negotiation': 2,\n",
       " 'Travel': 1,\n",
       " 'Deduction': 2,\n",
       " 'Aviation / Flight': 1,\n",
       " 'Zombies': 1,\n",
       " 'Comic Book / Strip': 1,\n",
       " 'Trains': 1,\n",
       " 'Childrens Game': 1}"
      ]
     },
     "execution_count": 79,
     "metadata": {},
     "output_type": "execute_result"
    }
   ],
   "source": [
    "category_count = {}\n",
    "for i in df_final_cluster2['boardgamecategory']:\n",
    "    for j in i:\n",
    "        category_count[j] = category_count.get(j, 0) + 1\n",
    "category_count = pd.DataFrame.from_dict(category_count, orient='index')"
   ]
  },
  {
   "cell_type": "code",
   "execution_count": null,
   "id": "645c87bb",
   "metadata": {},
   "outputs": [],
   "source": []
  }
 ],
 "metadata": {
  "kernelspec": {
   "display_name": "Python 3 (ipykernel)",
   "language": "python",
   "name": "python3"
  },
  "language_info": {
   "codemirror_mode": {
    "name": "ipython",
    "version": 3
   },
   "file_extension": ".py",
   "mimetype": "text/x-python",
   "name": "python",
   "nbconvert_exporter": "python",
   "pygments_lexer": "ipython3",
   "version": "3.11.5"
  }
 },
 "nbformat": 4,
 "nbformat_minor": 5
}
