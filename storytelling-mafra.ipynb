{
 "cells": [
  {
   "cell_type": "code",
   "execution_count": 46,
   "metadata": {},
   "outputs": [],
   "source": [
    "import pandas as pd\n",
    "import numpy as np\n",
    "import seaborn as sns\n",
    "import matplotlib.pyplot as plt\n",
    "import plotly.express as px\n",
    "import networkx as nx\n",
    "import plotly.graph_objects as go\n",
    "import ast\n",
    "\n",
    "pd.set_option('display.max_columns', 50)"
   ]
  },
  {
   "cell_type": "markdown",
   "metadata": {},
   "source": [
    "# Introdução"
   ]
  },
  {
   "cell_type": "markdown",
   "metadata": {},
   "source": [
    "Em nossas análises, temos como meta principal o mapeamento dos jogos com maior taxa de engajamento\n"
   ]
  },
  {
   "cell_type": "markdown",
   "metadata": {},
   "source": [
    "Nesse sentido, após analisar as variáveis, decidimos por eliminar algumas delas:\n",
    "\n",
    "'playerage' - Nos parece ter alguns problemas de formatação (problemas com a tabela ascii) e entrega um faixa de idade recomendada pelos jogadores. Consideramos muito subjetivo e prefirimos usar a 'minage', apesar de serem valores próximos na média;\n",
    "\n",
    "'gamelink' - Se quisermos ver o jogo no BGG, basta pesquisá-lo por ser nome;\n",
    "\n",
    "'boardgameexpansion' - Cada jogo tem a sua específica, não faz sentido analisar;\n",
    "\n",
    "'max_community' (Fornecido pela comunidade) - No geral, igual ao 'maxplayers' (fornecido pelos fabricantes), só que com alguns valores faltando; Em geral, dados fornecidos pelo público podem conter problemas, como falta de votos em certo jogo, mas no geral são mais confiáveis.\n",
    "\n",
    "'minplayers' - Fornecido pelos fabricantes, indicam o limite de jogabilidade, mas não garante uma experiência interessante. Sendo assim, vale usar a opinião da comunidade;"
   ]
  },
  {
   "cell_type": "code",
   "execution_count": 13,
   "metadata": {},
   "outputs": [],
   "source": [
    "df = pd.read_excel('df_unificado.xlsx')"
   ]
  },
  {
   "cell_type": "code",
   "execution_count": 14,
   "metadata": {},
   "outputs": [
    {
     "data": {
      "text/html": [
       "<div>\n",
       "<style scoped>\n",
       "    .dataframe tbody tr th:only-of-type {\n",
       "        vertical-align: middle;\n",
       "    }\n",
       "\n",
       "    .dataframe tbody tr th {\n",
       "        vertical-align: top;\n",
       "    }\n",
       "\n",
       "    .dataframe thead th {\n",
       "        text-align: right;\n",
       "    }\n",
       "</style>\n",
       "<table border=\"1\" class=\"dataframe\">\n",
       "  <thead>\n",
       "    <tr style=\"text-align: right;\">\n",
       "      <th></th>\n",
       "      <th>object_id</th>\n",
       "      <th>name</th>\n",
       "      <th>yearpublished</th>\n",
       "      <th>sortindex</th>\n",
       "      <th>minplayers</th>\n",
       "      <th>maxplayers</th>\n",
       "      <th>minplaytime</th>\n",
       "      <th>maxplaytime</th>\n",
       "      <th>minage</th>\n",
       "      <th>min_community</th>\n",
       "      <th>...</th>\n",
       "      <th>boardgameexpansion_cnt</th>\n",
       "      <th>boardgameversion_cnt</th>\n",
       "      <th>boardgamefamily_cnt</th>\n",
       "      <th>boardgamedesigner</th>\n",
       "      <th>boardgameartist</th>\n",
       "      <th>boardgamepublisher</th>\n",
       "      <th>boardgamehonor</th>\n",
       "      <th>boardgamecategory</th>\n",
       "      <th>boardgamemechanic</th>\n",
       "      <th>boardgamefamily</th>\n",
       "    </tr>\n",
       "  </thead>\n",
       "  <tbody>\n",
       "    <tr>\n",
       "      <th>0</th>\n",
       "      <td>174430</td>\n",
       "      <td>Gloomhaven</td>\n",
       "      <td>2017</td>\n",
       "      <td>1</td>\n",
       "      <td>1</td>\n",
       "      <td>4</td>\n",
       "      <td>60</td>\n",
       "      <td>120</td>\n",
       "      <td>12</td>\n",
       "      <td>3.0</td>\n",
       "      <td>...</td>\n",
       "      <td>4</td>\n",
       "      <td>19</td>\n",
       "      <td>7</td>\n",
       "      <td>['Isaac Childres\"']</td>\n",
       "      <td>['Alexandr Elichev', 'Josh T. McDowell', 'Alva...</td>\n",
       "      <td>['Cephalofair Games', 'Albi', 'Asmodee', 'Feue...</td>\n",
       "      <td>['2017 Best Science Fiction or Fantasy Board G...</td>\n",
       "      <td>['Adventure', 'Exploration', 'Fantasy', 'Fight...</td>\n",
       "      <td>['Campaign / Battle Card Driven', 'Cooperative...</td>\n",
       "      <td>['Campaign Games', 'Components: Miniatures', '...</td>\n",
       "    </tr>\n",
       "    <tr>\n",
       "      <th>1</th>\n",
       "      <td>161936</td>\n",
       "      <td>Pandemic Legacy  Season 1</td>\n",
       "      <td>2015</td>\n",
       "      <td>2</td>\n",
       "      <td>2</td>\n",
       "      <td>4</td>\n",
       "      <td>60</td>\n",
       "      <td>60</td>\n",
       "      <td>13</td>\n",
       "      <td>4.0</td>\n",
       "      <td>...</td>\n",
       "      <td>0</td>\n",
       "      <td>33</td>\n",
       "      <td>3</td>\n",
       "      <td>['Rob Daviau\"', 'Matt Leacock\"']</td>\n",
       "      <td>['Chris Quilliams']</td>\n",
       "      <td>['Z-Man Games', 'Asterion Press', 'Devir', 'Fi...</td>\n",
       "      <td>['2015 Cardboard Republic Immersionist Laurel ...</td>\n",
       "      <td>['Environmental', 'Medical']</td>\n",
       "      <td>['Action Points', 'Cooperative Game', 'Hand Ma...</td>\n",
       "      <td>['Campaign Games', 'Legacy', 'Pandemic']</td>\n",
       "    </tr>\n",
       "    <tr>\n",
       "      <th>2</th>\n",
       "      <td>167791</td>\n",
       "      <td>Terraforming Mars</td>\n",
       "      <td>2016</td>\n",
       "      <td>3</td>\n",
       "      <td>1</td>\n",
       "      <td>5</td>\n",
       "      <td>120</td>\n",
       "      <td>120</td>\n",
       "      <td>12</td>\n",
       "      <td>3.0</td>\n",
       "      <td>...</td>\n",
       "      <td>15</td>\n",
       "      <td>29</td>\n",
       "      <td>6</td>\n",
       "      <td>['Jacob Fryxelius\"']</td>\n",
       "      <td>['Isaac Fryxelius']</td>\n",
       "      <td>['FryxGames', 'Arclight', 'Fantasmagoria', 'Gh...</td>\n",
       "      <td>['2016 Cardboard Republic Architect Laurel Nom...</td>\n",
       "      <td>['Economic', 'Environmental', 'Industry / Manu...</td>\n",
       "      <td>['Card Drafting', 'End Game Bonuses', 'Hand Ma...</td>\n",
       "      <td>['Fryxgames Future Timeline', 'Planets: Mars',...</td>\n",
       "    </tr>\n",
       "    <tr>\n",
       "      <th>3</th>\n",
       "      <td>182028</td>\n",
       "      <td>Through the Ages  A New Story of Civilization</td>\n",
       "      <td>2015</td>\n",
       "      <td>4</td>\n",
       "      <td>2</td>\n",
       "      <td>4</td>\n",
       "      <td>120</td>\n",
       "      <td>120</td>\n",
       "      <td>14</td>\n",
       "      <td>3.0</td>\n",
       "      <td>...</td>\n",
       "      <td>1</td>\n",
       "      <td>14</td>\n",
       "      <td>2</td>\n",
       "      <td>['Vlaada Chv\\\\u00e1til\"']</td>\n",
       "      <td>['Filip Murmak', 'Radim Pech', 'Jakub Politzer...</td>\n",
       "      <td>['Czech Games Edition', 'Cranio Creations', 'D...</td>\n",
       "      <td>['2015 Golden Geek Best Strategy Board Game No...</td>\n",
       "      <td>['Card Game', 'Civilization', 'Economic']</td>\n",
       "      <td>['Action Points', 'Auction/Bidding', 'Auction:...</td>\n",
       "      <td>['Tableau Building', 'Through the Ages']</td>\n",
       "    </tr>\n",
       "    <tr>\n",
       "      <th>4</th>\n",
       "      <td>224517</td>\n",
       "      <td>Brass  Birmingham</td>\n",
       "      <td>2018</td>\n",
       "      <td>5</td>\n",
       "      <td>2</td>\n",
       "      <td>4</td>\n",
       "      <td>60</td>\n",
       "      <td>120</td>\n",
       "      <td>14</td>\n",
       "      <td>3.0</td>\n",
       "      <td>...</td>\n",
       "      <td>0</td>\n",
       "      <td>9</td>\n",
       "      <td>6</td>\n",
       "      <td>['Gavan Brown\"', 'Matt Tolman\"', 'Martin Walla...</td>\n",
       "      <td>['Lina Cossette', 'David Forest', 'Damien Mamm...</td>\n",
       "      <td>['Roxley', 'BoardM Factory', 'Conclave Editora...</td>\n",
       "      <td>['2018 Golden Geek Best Board Game Artwork &amp; P...</td>\n",
       "      <td>['Economic', 'Industry / Manufacturing', 'Tran...</td>\n",
       "      <td>['Hand Management', 'Income', 'Loans', 'Market...</td>\n",
       "      <td>['Beer', 'Brass', 'Cities: Birmingham (England...</td>\n",
       "    </tr>\n",
       "  </tbody>\n",
       "</table>\n",
       "<p>5 rows × 45 columns</p>\n",
       "</div>"
      ],
      "text/plain": [
       "   object_id                                           name  yearpublished  \\\n",
       "0     174430                                     Gloomhaven           2017   \n",
       "1     161936                      Pandemic Legacy  Season 1           2015   \n",
       "2     167791                              Terraforming Mars           2016   \n",
       "3     182028  Through the Ages  A New Story of Civilization           2015   \n",
       "4     224517                              Brass  Birmingham           2018   \n",
       "\n",
       "   sortindex  minplayers  maxplayers  minplaytime  maxplaytime  minage  \\\n",
       "0          1           1           4           60          120      12   \n",
       "1          2           2           4           60           60      13   \n",
       "2          3           1           5          120          120      12   \n",
       "3          4           2           4          120          120      14   \n",
       "4          5           2           4           60          120      14   \n",
       "\n",
       "   min_community  ...  boardgameexpansion_cnt  boardgameversion_cnt  \\\n",
       "0            3.0  ...                       4                    19   \n",
       "1            4.0  ...                       0                    33   \n",
       "2            3.0  ...                      15                    29   \n",
       "3            3.0  ...                       1                    14   \n",
       "4            3.0  ...                       0                     9   \n",
       "\n",
       "   boardgamefamily_cnt                                  boardgamedesigner  \\\n",
       "0                    7                                ['Isaac Childres\"']   \n",
       "1                    3                   ['Rob Daviau\"', 'Matt Leacock\"']   \n",
       "2                    6                               ['Jacob Fryxelius\"']   \n",
       "3                    2                          ['Vlaada Chv\\\\u00e1til\"']   \n",
       "4                    6  ['Gavan Brown\"', 'Matt Tolman\"', 'Martin Walla...   \n",
       "\n",
       "                                     boardgameartist  \\\n",
       "0  ['Alexandr Elichev', 'Josh T. McDowell', 'Alva...   \n",
       "1                                ['Chris Quilliams']   \n",
       "2                                ['Isaac Fryxelius']   \n",
       "3  ['Filip Murmak', 'Radim Pech', 'Jakub Politzer...   \n",
       "4  ['Lina Cossette', 'David Forest', 'Damien Mamm...   \n",
       "\n",
       "                                  boardgamepublisher  \\\n",
       "0  ['Cephalofair Games', 'Albi', 'Asmodee', 'Feue...   \n",
       "1  ['Z-Man Games', 'Asterion Press', 'Devir', 'Fi...   \n",
       "2  ['FryxGames', 'Arclight', 'Fantasmagoria', 'Gh...   \n",
       "3  ['Czech Games Edition', 'Cranio Creations', 'D...   \n",
       "4  ['Roxley', 'BoardM Factory', 'Conclave Editora...   \n",
       "\n",
       "                                      boardgamehonor  \\\n",
       "0  ['2017 Best Science Fiction or Fantasy Board G...   \n",
       "1  ['2015 Cardboard Republic Immersionist Laurel ...   \n",
       "2  ['2016 Cardboard Republic Architect Laurel Nom...   \n",
       "3  ['2015 Golden Geek Best Strategy Board Game No...   \n",
       "4  ['2018 Golden Geek Best Board Game Artwork & P...   \n",
       "\n",
       "                                   boardgamecategory  \\\n",
       "0  ['Adventure', 'Exploration', 'Fantasy', 'Fight...   \n",
       "1                       ['Environmental', 'Medical']   \n",
       "2  ['Economic', 'Environmental', 'Industry / Manu...   \n",
       "3          ['Card Game', 'Civilization', 'Economic']   \n",
       "4  ['Economic', 'Industry / Manufacturing', 'Tran...   \n",
       "\n",
       "                                   boardgamemechanic  \\\n",
       "0  ['Campaign / Battle Card Driven', 'Cooperative...   \n",
       "1  ['Action Points', 'Cooperative Game', 'Hand Ma...   \n",
       "2  ['Card Drafting', 'End Game Bonuses', 'Hand Ma...   \n",
       "3  ['Action Points', 'Auction/Bidding', 'Auction:...   \n",
       "4  ['Hand Management', 'Income', 'Loans', 'Market...   \n",
       "\n",
       "                                     boardgamefamily  \n",
       "0  ['Campaign Games', 'Components: Miniatures', '...  \n",
       "1           ['Campaign Games', 'Legacy', 'Pandemic']  \n",
       "2  ['Fryxgames Future Timeline', 'Planets: Mars',...  \n",
       "3           ['Tableau Building', 'Through the Ages']  \n",
       "4  ['Beer', 'Brass', 'Cities: Birmingham (England...  \n",
       "\n",
       "[5 rows x 45 columns]"
      ]
     },
     "execution_count": 14,
     "metadata": {},
     "output_type": "execute_result"
    }
   ],
   "source": [
    "df.head()"
   ]
  },
  {
   "cell_type": "markdown",
   "metadata": {},
   "source": [
    "Após removermos as variáveis que eram explicitamente descartáveis, devemos remover as que contém dados aparentemente ruins e arrumar as que têm má formatação"
   ]
  },
  {
   "cell_type": "code",
   "execution_count": 19,
   "metadata": {},
   "outputs": [
    {
     "data": {
      "text/html": [
       "<div>\n",
       "<style scoped>\n",
       "    .dataframe tbody tr th:only-of-type {\n",
       "        vertical-align: middle;\n",
       "    }\n",
       "\n",
       "    .dataframe tbody tr th {\n",
       "        vertical-align: top;\n",
       "    }\n",
       "\n",
       "    .dataframe thead th {\n",
       "        text-align: right;\n",
       "    }\n",
       "</style>\n",
       "<table border=\"1\" class=\"dataframe\">\n",
       "  <thead>\n",
       "    <tr style=\"text-align: right;\">\n",
       "      <th></th>\n",
       "      <th>minplayers</th>\n",
       "      <th>min_community</th>\n",
       "    </tr>\n",
       "  </thead>\n",
       "  <tbody>\n",
       "    <tr>\n",
       "      <th>count</th>\n",
       "      <td>20016.000000</td>\n",
       "      <td>14149.000000</td>\n",
       "    </tr>\n",
       "    <tr>\n",
       "      <th>mean</th>\n",
       "      <td>2.055256</td>\n",
       "      <td>3.203336</td>\n",
       "    </tr>\n",
       "    <tr>\n",
       "      <th>std</th>\n",
       "      <td>0.745471</td>\n",
       "      <td>1.398786</td>\n",
       "    </tr>\n",
       "    <tr>\n",
       "      <th>min</th>\n",
       "      <td>0.000000</td>\n",
       "      <td>1.000000</td>\n",
       "    </tr>\n",
       "    <tr>\n",
       "      <th>25%</th>\n",
       "      <td>2.000000</td>\n",
       "      <td>2.000000</td>\n",
       "    </tr>\n",
       "    <tr>\n",
       "      <th>50%</th>\n",
       "      <td>2.000000</td>\n",
       "      <td>3.000000</td>\n",
       "    </tr>\n",
       "    <tr>\n",
       "      <th>75%</th>\n",
       "      <td>2.000000</td>\n",
       "      <td>4.000000</td>\n",
       "    </tr>\n",
       "    <tr>\n",
       "      <th>max</th>\n",
       "      <td>10.000000</td>\n",
       "      <td>31.000000</td>\n",
       "    </tr>\n",
       "  </tbody>\n",
       "</table>\n",
       "</div>"
      ],
      "text/plain": [
       "         minplayers  min_community\n",
       "count  20016.000000   14149.000000\n",
       "mean       2.055256       3.203336\n",
       "std        0.745471       1.398786\n",
       "min        0.000000       1.000000\n",
       "25%        2.000000       2.000000\n",
       "50%        2.000000       3.000000\n",
       "75%        2.000000       4.000000\n",
       "max       10.000000      31.000000"
      ]
     },
     "execution_count": 19,
     "metadata": {},
     "output_type": "execute_result"
    }
   ],
   "source": [
    "# 'min_community' possui alguns valores nulos\n",
    "min_df = df[['minplayers', 'min_community']]\n",
    "min_df.dropna()\n",
    "min_df.describe()"
   ]
  },
  {
   "cell_type": "markdown",
   "metadata": {},
   "source": [
    "Vou preencher os valores nulos de 'min_community' com 'minplayers' + 2. Prefirimo os 'min_community' pela maior confiabilidade das opiniões dos avaliadores do BGG."
   ]
  },
  {
   "cell_type": "code",
   "execution_count": 35,
   "metadata": {},
   "outputs": [],
   "source": [
    "#decidimos por subistituir os valores nulos de 'min_community' por 'minplayers' + 2\n",
    "df['min_community'].fillna(df['minplayers']+2, inplace=True)\n",
    "df = df.drop(\"minplayers\", axis=1)"
   ]
  },
  {
   "cell_type": "code",
   "execution_count": 38,
   "metadata": {},
   "outputs": [
    {
     "data": {
      "text/html": [
       "<div>\n",
       "<style scoped>\n",
       "    .dataframe tbody tr th:only-of-type {\n",
       "        vertical-align: middle;\n",
       "    }\n",
       "\n",
       "    .dataframe tbody tr th {\n",
       "        vertical-align: top;\n",
       "    }\n",
       "\n",
       "    .dataframe thead th {\n",
       "        text-align: right;\n",
       "    }\n",
       "</style>\n",
       "<table border=\"1\" class=\"dataframe\">\n",
       "  <thead>\n",
       "    <tr style=\"text-align: right;\">\n",
       "      <th></th>\n",
       "      <th>totalvotes</th>\n",
       "      <th>usersrated</th>\n",
       "    </tr>\n",
       "  </thead>\n",
       "  <tbody>\n",
       "    <tr>\n",
       "      <th>count</th>\n",
       "      <td>20016.000000</td>\n",
       "      <td>20016.000000</td>\n",
       "    </tr>\n",
       "    <tr>\n",
       "      <th>mean</th>\n",
       "      <td>13.453664</td>\n",
       "      <td>739.363636</td>\n",
       "    </tr>\n",
       "    <tr>\n",
       "      <th>std</th>\n",
       "      <td>57.153155</td>\n",
       "      <td>3095.427307</td>\n",
       "    </tr>\n",
       "    <tr>\n",
       "      <th>min</th>\n",
       "      <td>0.000000</td>\n",
       "      <td>0.000000</td>\n",
       "    </tr>\n",
       "    <tr>\n",
       "      <th>25%</th>\n",
       "      <td>1.000000</td>\n",
       "      <td>47.000000</td>\n",
       "    </tr>\n",
       "    <tr>\n",
       "      <th>50%</th>\n",
       "      <td>3.000000</td>\n",
       "      <td>105.000000</td>\n",
       "    </tr>\n",
       "    <tr>\n",
       "      <th>75%</th>\n",
       "      <td>7.000000</td>\n",
       "      <td>333.250000</td>\n",
       "    </tr>\n",
       "    <tr>\n",
       "      <th>max</th>\n",
       "      <td>1868.000000</td>\n",
       "      <td>90730.000000</td>\n",
       "    </tr>\n",
       "  </tbody>\n",
       "</table>\n",
       "</div>"
      ],
      "text/plain": [
       "         totalvotes    usersrated\n",
       "count  20016.000000  20016.000000\n",
       "mean      13.453664    739.363636\n",
       "std       57.153155   3095.427307\n",
       "min        0.000000      0.000000\n",
       "25%        1.000000     47.000000\n",
       "50%        3.000000    105.000000\n",
       "75%        7.000000    333.250000\n",
       "max     1868.000000  90730.000000"
      ]
     },
     "execution_count": 38,
     "metadata": {},
     "output_type": "execute_result"
    }
   ],
   "source": [
    "#'usersrated' e 'totalvotes' são muito similares gráficamente, então usaremos a razão média entre eles para preencher os nulos\n",
    "#provavelmente usaremos ambos em cluster no futuro\n",
    "df['totalvotes'].fillna(df['usersrated']*df['totalvotes'].mean()/df['usersrated'].mean(), inplace=True)\n",
    "df['usersrated'].fillna(df['totalvotes']*df['usersrated'].mean()/df['totalvotes'].mean(), inplace=True)\n",
    "df[['totalvotes', 'usersrated']].describe()"
   ]
  },
  {
   "cell_type": "code",
   "execution_count": 43,
   "metadata": {},
   "outputs": [
    {
     "data": {
      "text/html": [
       "<div>\n",
       "<style scoped>\n",
       "    .dataframe tbody tr th:only-of-type {\n",
       "        vertical-align: middle;\n",
       "    }\n",
       "\n",
       "    .dataframe tbody tr th {\n",
       "        vertical-align: top;\n",
       "    }\n",
       "\n",
       "    .dataframe thead th {\n",
       "        text-align: right;\n",
       "    }\n",
       "</style>\n",
       "<table border=\"1\" class=\"dataframe\">\n",
       "  <thead>\n",
       "    <tr style=\"text-align: right;\">\n",
       "      <th></th>\n",
       "      <th>average</th>\n",
       "      <th>baverage</th>\n",
       "    </tr>\n",
       "  </thead>\n",
       "  <tbody>\n",
       "    <tr>\n",
       "      <th>count</th>\n",
       "      <td>20014.000000</td>\n",
       "      <td>20014.000000</td>\n",
       "    </tr>\n",
       "    <tr>\n",
       "      <th>mean</th>\n",
       "      <td>6.276287</td>\n",
       "      <td>5.296803</td>\n",
       "    </tr>\n",
       "    <tr>\n",
       "      <th>std</th>\n",
       "      <td>1.066911</td>\n",
       "      <td>1.493120</td>\n",
       "    </tr>\n",
       "    <tr>\n",
       "      <th>min</th>\n",
       "      <td>0.000000</td>\n",
       "      <td>0.000000</td>\n",
       "    </tr>\n",
       "    <tr>\n",
       "      <th>25%</th>\n",
       "      <td>5.715585</td>\n",
       "      <td>5.502662</td>\n",
       "    </tr>\n",
       "    <tr>\n",
       "      <th>50%</th>\n",
       "      <td>6.357130</td>\n",
       "      <td>5.544965</td>\n",
       "    </tr>\n",
       "    <tr>\n",
       "      <th>75%</th>\n",
       "      <td>6.955065</td>\n",
       "      <td>5.675688</td>\n",
       "    </tr>\n",
       "    <tr>\n",
       "      <th>max</th>\n",
       "      <td>9.442860</td>\n",
       "      <td>8.584240</td>\n",
       "    </tr>\n",
       "  </tbody>\n",
       "</table>\n",
       "</div>"
      ],
      "text/plain": [
       "            average      baverage\n",
       "count  20014.000000  20014.000000\n",
       "mean       6.276287      5.296803\n",
       "std        1.066911      1.493120\n",
       "min        0.000000      0.000000\n",
       "25%        5.715585      5.502662\n",
       "50%        6.357130      5.544965\n",
       "75%        6.955065      5.675688\n",
       "max        9.442860      8.584240"
      ]
     },
     "execution_count": 43,
     "metadata": {},
     "output_type": "execute_result"
    }
   ],
   "source": [
    "#'average' e 'baverage' também são muito parecidos e aparentam possuir uma razão média constante. Trataremos da mesma forma que anteriormente com 'usersrated' e 'totalvotes'\n",
    "df['average'].fillna(df['baverage']*df['average'].mean()/df['baverage'].mean(), inplace=True)\n",
    "df['baverage'].fillna(df['average']*df['baverage'].mean()/df['average'].mean(), inplace=True)\n",
    "#agora vamos remover os que são nulos em ambos\n",
    "df = df[df['average'].isnull() == False]\n",
    "df[['average', 'baverage']].describe()"
   ]
  },
  {
   "cell_type": "markdown",
   "metadata": {},
   "source": [
    "A partir daqui, o nosso DF não possui mais nenhum coluna com valores nulos ou desformatados"
   ]
  },
  {
   "cell_type": "code",
   "execution_count": 51,
   "metadata": {},
   "outputs": [],
   "source": [
    "#vamos separar nossos dados para podermos progredir melhor\n",
    "df_popularidade = df[['object_id','name','totalvotes','usersrated','numgeeklists','numtrading','numwanting','numcomments','siteviews','numplays','numplays_month','news','blogs','weblink','podcast']]\n",
    "df_qualidade = df[['object_id','name','average','baverage','stddev','boardgamehonor_cnt']]\n",
    "#as outras colunas são todas descrições dos jogos, que usaremos depois"
   ]
  },
  {
   "cell_type": "markdown",
   "metadata": {},
   "source": [
    "# Clusterização\n"
   ]
  },
  {
   "cell_type": "code",
   "execution_count": 64,
   "metadata": {},
   "outputs": [
    {
     "data": {
      "text/html": [
       "<div>\n",
       "<style scoped>\n",
       "    .dataframe tbody tr th:only-of-type {\n",
       "        vertical-align: middle;\n",
       "    }\n",
       "\n",
       "    .dataframe tbody tr th {\n",
       "        vertical-align: top;\n",
       "    }\n",
       "\n",
       "    .dataframe thead th {\n",
       "        text-align: right;\n",
       "    }\n",
       "</style>\n",
       "<table border=\"1\" class=\"dataframe\">\n",
       "  <thead>\n",
       "    <tr style=\"text-align: right;\">\n",
       "      <th></th>\n",
       "      <th>object_id</th>\n",
       "      <th>name</th>\n",
       "      <th>yearpublished</th>\n",
       "      <th>sortindex</th>\n",
       "      <th>maxplayers</th>\n",
       "      <th>minplaytime</th>\n",
       "      <th>maxplaytime</th>\n",
       "      <th>minage</th>\n",
       "      <th>min_community</th>\n",
       "      <th>totalvotes</th>\n",
       "      <th>languagedependence</th>\n",
       "      <th>usersrated</th>\n",
       "      <th>average</th>\n",
       "      <th>baverage</th>\n",
       "      <th>stddev</th>\n",
       "      <th>avgweight</th>\n",
       "      <th>numweights</th>\n",
       "      <th>numgeeklists</th>\n",
       "      <th>numtrading</th>\n",
       "      <th>numwanting</th>\n",
       "      <th>numcomments</th>\n",
       "      <th>siteviews</th>\n",
       "      <th>numplays</th>\n",
       "      <th>numplays_month</th>\n",
       "      <th>news</th>\n",
       "      <th>blogs</th>\n",
       "      <th>weblink</th>\n",
       "      <th>podcast</th>\n",
       "      <th>boardgamedesigner_cnt</th>\n",
       "      <th>boardgameartist_cnt</th>\n",
       "      <th>boardgamepublisher_cnt</th>\n",
       "      <th>boardgamehonor_cnt</th>\n",
       "      <th>boardgamecategory_cnt</th>\n",
       "      <th>boardgamemechanic_cnt</th>\n",
       "      <th>boardgameexpansion_cnt</th>\n",
       "      <th>boardgameversion_cnt</th>\n",
       "      <th>boardgamefamily_cnt</th>\n",
       "      <th>boardgamedesigner</th>\n",
       "      <th>boardgameartist</th>\n",
       "      <th>boardgamepublisher</th>\n",
       "      <th>boardgamehonor</th>\n",
       "      <th>boardgamecategory</th>\n",
       "      <th>boardgamemechanic</th>\n",
       "      <th>boardgamefamily</th>\n",
       "    </tr>\n",
       "  </thead>\n",
       "  <tbody>\n",
       "    <tr>\n",
       "      <th>0</th>\n",
       "      <td>174430</td>\n",
       "      <td>Gloomhaven</td>\n",
       "      <td>2017</td>\n",
       "      <td>1</td>\n",
       "      <td>4</td>\n",
       "      <td>60</td>\n",
       "      <td>120</td>\n",
       "      <td>12</td>\n",
       "      <td>3.0</td>\n",
       "      <td>827.0</td>\n",
       "      <td>4</td>\n",
       "      <td>31254.0</td>\n",
       "      <td>8.85292</td>\n",
       "      <td>8.58424</td>\n",
       "      <td>1.59819</td>\n",
       "      <td>3.8078</td>\n",
       "      <td>1311</td>\n",
       "      <td>3657</td>\n",
       "      <td>313</td>\n",
       "      <td>1365</td>\n",
       "      <td>5972</td>\n",
       "      <td>8933078</td>\n",
       "      <td>230213</td>\n",
       "      <td>3478</td>\n",
       "      <td>7</td>\n",
       "      <td>471</td>\n",
       "      <td>31</td>\n",
       "      <td>139</td>\n",
       "      <td>1</td>\n",
       "      <td>3</td>\n",
       "      <td>9</td>\n",
       "      <td>23</td>\n",
       "      <td>5</td>\n",
       "      <td>12</td>\n",
       "      <td>4</td>\n",
       "      <td>19</td>\n",
       "      <td>7</td>\n",
       "      <td>['Isaac Childres\"']</td>\n",
       "      <td>['Alexandr Elichev', 'Josh T. McDowell', 'Alva...</td>\n",
       "      <td>['Cephalofair Games', 'Albi', 'Asmodee', 'Feue...</td>\n",
       "      <td>['2017 Best Science Fiction or Fantasy Board G...</td>\n",
       "      <td>['Adventure', 'Exploration', 'Fantasy', 'Fight...</td>\n",
       "      <td>['Campaign / Battle Card Driven', 'Cooperative...</td>\n",
       "      <td>['Campaign Games', 'Components: Miniatures', '...</td>\n",
       "    </tr>\n",
       "    <tr>\n",
       "      <th>1</th>\n",
       "      <td>161936</td>\n",
       "      <td>Pandemic Legacy  Season 1</td>\n",
       "      <td>2015</td>\n",
       "      <td>2</td>\n",
       "      <td>4</td>\n",
       "      <td>60</td>\n",
       "      <td>60</td>\n",
       "      <td>13</td>\n",
       "      <td>4.0</td>\n",
       "      <td>549.0</td>\n",
       "      <td>4</td>\n",
       "      <td>34729.0</td>\n",
       "      <td>8.62499</td>\n",
       "      <td>8.47159</td>\n",
       "      <td>1.59463</td>\n",
       "      <td>2.8301</td>\n",
       "      <td>971</td>\n",
       "      <td>3612</td>\n",
       "      <td>272</td>\n",
       "      <td>771</td>\n",
       "      <td>5477</td>\n",
       "      <td>2971746</td>\n",
       "      <td>196621</td>\n",
       "      <td>1090</td>\n",
       "      <td>9</td>\n",
       "      <td>597</td>\n",
       "      <td>69</td>\n",
       "      <td>164</td>\n",
       "      <td>2</td>\n",
       "      <td>1</td>\n",
       "      <td>11</td>\n",
       "      <td>20</td>\n",
       "      <td>2</td>\n",
       "      <td>8</td>\n",
       "      <td>0</td>\n",
       "      <td>33</td>\n",
       "      <td>3</td>\n",
       "      <td>['Rob Daviau\"', 'Matt Leacock\"']</td>\n",
       "      <td>['Chris Quilliams']</td>\n",
       "      <td>['Z-Man Games', 'Asterion Press', 'Devir', 'Fi...</td>\n",
       "      <td>['2015 Cardboard Republic Immersionist Laurel ...</td>\n",
       "      <td>['Environmental', 'Medical']</td>\n",
       "      <td>['Action Points', 'Cooperative Game', 'Hand Ma...</td>\n",
       "      <td>['Campaign Games', 'Legacy', 'Pandemic']</td>\n",
       "    </tr>\n",
       "    <tr>\n",
       "      <th>2</th>\n",
       "      <td>167791</td>\n",
       "      <td>Terraforming Mars</td>\n",
       "      <td>2016</td>\n",
       "      <td>3</td>\n",
       "      <td>5</td>\n",
       "      <td>120</td>\n",
       "      <td>120</td>\n",
       "      <td>12</td>\n",
       "      <td>3.0</td>\n",
       "      <td>1252.0</td>\n",
       "      <td>3</td>\n",
       "      <td>48339.0</td>\n",
       "      <td>8.42299</td>\n",
       "      <td>8.26781</td>\n",
       "      <td>1.36938</td>\n",
       "      <td>3.2313</td>\n",
       "      <td>1863</td>\n",
       "      <td>5941</td>\n",
       "      <td>277</td>\n",
       "      <td>2068</td>\n",
       "      <td>7274</td>\n",
       "      <td>4724387</td>\n",
       "      <td>245997</td>\n",
       "      <td>4380</td>\n",
       "      <td>14</td>\n",
       "      <td>1158</td>\n",
       "      <td>60</td>\n",
       "      <td>148</td>\n",
       "      <td>1</td>\n",
       "      <td>1</td>\n",
       "      <td>20</td>\n",
       "      <td>20</td>\n",
       "      <td>6</td>\n",
       "      <td>9</td>\n",
       "      <td>15</td>\n",
       "      <td>29</td>\n",
       "      <td>6</td>\n",
       "      <td>['Jacob Fryxelius\"']</td>\n",
       "      <td>['Isaac Fryxelius']</td>\n",
       "      <td>['FryxGames', 'Arclight', 'Fantasmagoria', 'Gh...</td>\n",
       "      <td>['2016 Cardboard Republic Architect Laurel Nom...</td>\n",
       "      <td>['Economic', 'Environmental', 'Industry / Manu...</td>\n",
       "      <td>['Card Drafting', 'End Game Bonuses', 'Hand Ma...</td>\n",
       "      <td>['Fryxgames Future Timeline', 'Planets: Mars',...</td>\n",
       "    </tr>\n",
       "    <tr>\n",
       "      <th>3</th>\n",
       "      <td>182028</td>\n",
       "      <td>Through the Ages  A New Story of Civilization</td>\n",
       "      <td>2015</td>\n",
       "      <td>4</td>\n",
       "      <td>4</td>\n",
       "      <td>120</td>\n",
       "      <td>120</td>\n",
       "      <td>14</td>\n",
       "      <td>3.0</td>\n",
       "      <td>436.0</td>\n",
       "      <td>4</td>\n",
       "      <td>18269.0</td>\n",
       "      <td>8.49419</td>\n",
       "      <td>8.23513</td>\n",
       "      <td>1.49542</td>\n",
       "      <td>4.3850</td>\n",
       "      <td>891</td>\n",
       "      <td>2083</td>\n",
       "      <td>280</td>\n",
       "      <td>1049</td>\n",
       "      <td>2660</td>\n",
       "      <td>2448074</td>\n",
       "      <td>54284</td>\n",
       "      <td>511</td>\n",
       "      <td>5</td>\n",
       "      <td>185</td>\n",
       "      <td>30</td>\n",
       "      <td>42</td>\n",
       "      <td>1</td>\n",
       "      <td>4</td>\n",
       "      <td>13</td>\n",
       "      <td>3</td>\n",
       "      <td>3</td>\n",
       "      <td>5</td>\n",
       "      <td>1</td>\n",
       "      <td>14</td>\n",
       "      <td>2</td>\n",
       "      <td>['Vlaada Chv\\\\u00e1til\"']</td>\n",
       "      <td>['Filip Murmak', 'Radim Pech', 'Jakub Politzer...</td>\n",
       "      <td>['Czech Games Edition', 'Cranio Creations', 'D...</td>\n",
       "      <td>['2015 Golden Geek Best Strategy Board Game No...</td>\n",
       "      <td>['Card Game', 'Civilization', 'Economic']</td>\n",
       "      <td>['Action Points', 'Auction/Bidding', 'Auction:...</td>\n",
       "      <td>['Tableau Building', 'Through the Ages']</td>\n",
       "    </tr>\n",
       "    <tr>\n",
       "      <th>6</th>\n",
       "      <td>12333</td>\n",
       "      <td>Twilight Struggle</td>\n",
       "      <td>2005</td>\n",
       "      <td>7</td>\n",
       "      <td>2</td>\n",
       "      <td>120</td>\n",
       "      <td>180</td>\n",
       "      <td>13</td>\n",
       "      <td>2.0</td>\n",
       "      <td>695.0</td>\n",
       "      <td>4</td>\n",
       "      <td>36644.0</td>\n",
       "      <td>8.31307</td>\n",
       "      <td>8.16138</td>\n",
       "      <td>1.58290</td>\n",
       "      <td>3.5724</td>\n",
       "      <td>3344</td>\n",
       "      <td>9658</td>\n",
       "      <td>800</td>\n",
       "      <td>1341</td>\n",
       "      <td>8095</td>\n",
       "      <td>4506683</td>\n",
       "      <td>95106</td>\n",
       "      <td>291</td>\n",
       "      <td>2</td>\n",
       "      <td>323</td>\n",
       "      <td>84</td>\n",
       "      <td>82</td>\n",
       "      <td>2</td>\n",
       "      <td>5</td>\n",
       "      <td>12</td>\n",
       "      <td>13</td>\n",
       "      <td>3</td>\n",
       "      <td>9</td>\n",
       "      <td>9</td>\n",
       "      <td>32</td>\n",
       "      <td>5</td>\n",
       "      <td>['Ananda Gupta\"', 'Jason Matthews\"']</td>\n",
       "      <td>['Viktor Csete', 'Rodger B. MacGowan', 'Chechu...</td>\n",
       "      <td>['GMT Games', '(Self-Published)', 'Asterion Pr...</td>\n",
       "      <td>['2005 Charles S. Roberts Best Modern Era Boar...</td>\n",
       "      <td>['Modern Warfare', 'Political', 'Wargame']</td>\n",
       "      <td>['Action/Event', 'Advantage Token', 'Area Majo...</td>\n",
       "      <td>['Cold War', 'Country: Soviet Union', 'Country...</td>\n",
       "    </tr>\n",
       "    <tr>\n",
       "      <th>...</th>\n",
       "      <td>...</td>\n",
       "      <td>...</td>\n",
       "      <td>...</td>\n",
       "      <td>...</td>\n",
       "      <td>...</td>\n",
       "      <td>...</td>\n",
       "      <td>...</td>\n",
       "      <td>...</td>\n",
       "      <td>...</td>\n",
       "      <td>...</td>\n",
       "      <td>...</td>\n",
       "      <td>...</td>\n",
       "      <td>...</td>\n",
       "      <td>...</td>\n",
       "      <td>...</td>\n",
       "      <td>...</td>\n",
       "      <td>...</td>\n",
       "      <td>...</td>\n",
       "      <td>...</td>\n",
       "      <td>...</td>\n",
       "      <td>...</td>\n",
       "      <td>...</td>\n",
       "      <td>...</td>\n",
       "      <td>...</td>\n",
       "      <td>...</td>\n",
       "      <td>...</td>\n",
       "      <td>...</td>\n",
       "      <td>...</td>\n",
       "      <td>...</td>\n",
       "      <td>...</td>\n",
       "      <td>...</td>\n",
       "      <td>...</td>\n",
       "      <td>...</td>\n",
       "      <td>...</td>\n",
       "      <td>...</td>\n",
       "      <td>...</td>\n",
       "      <td>...</td>\n",
       "      <td>...</td>\n",
       "      <td>...</td>\n",
       "      <td>...</td>\n",
       "      <td>...</td>\n",
       "      <td>...</td>\n",
       "      <td>...</td>\n",
       "      <td>...</td>\n",
       "    </tr>\n",
       "    <tr>\n",
       "      <th>140</th>\n",
       "      <td>199561</td>\n",
       "      <td>Sagrada</td>\n",
       "      <td>2017</td>\n",
       "      <td>141</td>\n",
       "      <td>4</td>\n",
       "      <td>30</td>\n",
       "      <td>45</td>\n",
       "      <td>14</td>\n",
       "      <td>2.0</td>\n",
       "      <td>235.0</td>\n",
       "      <td>2</td>\n",
       "      <td>19016.0</td>\n",
       "      <td>7.54653</td>\n",
       "      <td>7.36492</td>\n",
       "      <td>1.16228</td>\n",
       "      <td>1.9114</td>\n",
       "      <td>350</td>\n",
       "      <td>2100</td>\n",
       "      <td>254</td>\n",
       "      <td>910</td>\n",
       "      <td>2858</td>\n",
       "      <td>808842</td>\n",
       "      <td>105595</td>\n",
       "      <td>1450</td>\n",
       "      <td>3</td>\n",
       "      <td>298</td>\n",
       "      <td>35</td>\n",
       "      <td>55</td>\n",
       "      <td>2</td>\n",
       "      <td>3</td>\n",
       "      <td>15</td>\n",
       "      <td>9</td>\n",
       "      <td>2</td>\n",
       "      <td>4</td>\n",
       "      <td>11</td>\n",
       "      <td>21</td>\n",
       "      <td>6</td>\n",
       "      <td>['Adrian Adamescu\"', 'Daryl Andrews\"']</td>\n",
       "      <td>['Adrian Adamescu', 'Daryl Andrews', 'Peter Wo...</td>\n",
       "      <td>['Floodgate Games', 'Cranio Creations', 'CrowD...</td>\n",
       "      <td>['2017 Cardboard Republic Architect Laurel Nom...</td>\n",
       "      <td>['Dice', 'Puzzle']</td>\n",
       "      <td>['Card Drafting', 'Dice Rolling', 'Pattern Bui...</td>\n",
       "      <td>['Cities: Barcelona (Spain)', 'Crowdfunding: K...</td>\n",
       "    </tr>\n",
       "    <tr>\n",
       "      <th>148</th>\n",
       "      <td>129437</td>\n",
       "      <td>Legendary  A Marvel Deck Building Game</td>\n",
       "      <td>2012</td>\n",
       "      <td>149</td>\n",
       "      <td>5</td>\n",
       "      <td>30</td>\n",
       "      <td>60</td>\n",
       "      <td>14</td>\n",
       "      <td>3.0</td>\n",
       "      <td>388.0</td>\n",
       "      <td>4</td>\n",
       "      <td>18107.0</td>\n",
       "      <td>7.59345</td>\n",
       "      <td>7.34278</td>\n",
       "      <td>1.48038</td>\n",
       "      <td>2.4493</td>\n",
       "      <td>750</td>\n",
       "      <td>4135</td>\n",
       "      <td>566</td>\n",
       "      <td>560</td>\n",
       "      <td>3249</td>\n",
       "      <td>2706319</td>\n",
       "      <td>121670</td>\n",
       "      <td>603</td>\n",
       "      <td>11</td>\n",
       "      <td>225</td>\n",
       "      <td>52</td>\n",
       "      <td>52</td>\n",
       "      <td>1</td>\n",
       "      <td>11</td>\n",
       "      <td>1</td>\n",
       "      <td>2</td>\n",
       "      <td>2</td>\n",
       "      <td>5</td>\n",
       "      <td>28</td>\n",
       "      <td>1</td>\n",
       "      <td>4</td>\n",
       "      <td>['Devin Low\"']</td>\n",
       "      <td>['Julius Abrea', 'Will Conrad', 'Bien Flores',...</td>\n",
       "      <td>['Upper Deck Entertainment']</td>\n",
       "      <td>['2013 Golden Geek Best Card Game Nominee', '2...</td>\n",
       "      <td>['Card Game', 'Comic Book / Strip']</td>\n",
       "      <td>['Deck', 'Events', 'Semi-Cooperative Game', 'S...</td>\n",
       "      <td>['Comics: Marvel Universe', 'Legendary', 'Soli...</td>\n",
       "    </tr>\n",
       "    <tr>\n",
       "      <th>159</th>\n",
       "      <td>54998</td>\n",
       "      <td>Cyclades</td>\n",
       "      <td>2009</td>\n",
       "      <td>160</td>\n",
       "      <td>5</td>\n",
       "      <td>60</td>\n",
       "      <td>90</td>\n",
       "      <td>13</td>\n",
       "      <td>4.0</td>\n",
       "      <td>353.0</td>\n",
       "      <td>1</td>\n",
       "      <td>16355.0</td>\n",
       "      <td>7.52257</td>\n",
       "      <td>7.31837</td>\n",
       "      <td>1.32994</td>\n",
       "      <td>2.8300</td>\n",
       "      <td>888</td>\n",
       "      <td>3045</td>\n",
       "      <td>274</td>\n",
       "      <td>1106</td>\n",
       "      <td>3066</td>\n",
       "      <td>1202102</td>\n",
       "      <td>28328</td>\n",
       "      <td>118</td>\n",
       "      <td>9</td>\n",
       "      <td>109</td>\n",
       "      <td>75</td>\n",
       "      <td>18</td>\n",
       "      <td>2</td>\n",
       "      <td>1</td>\n",
       "      <td>12</td>\n",
       "      <td>9</td>\n",
       "      <td>7</td>\n",
       "      <td>7</td>\n",
       "      <td>7</td>\n",
       "      <td>18</td>\n",
       "      <td>4</td>\n",
       "      <td>['Bruno Cathala\"', 'Ludovic Maublanc\"']</td>\n",
       "      <td>['Miguel Coimbra']</td>\n",
       "      <td>['Matagot', 'Asmodee', 'Asterion Press', 'Bure...</td>\n",
       "      <td>['2010 Boardgames Australia Awards Best Intern...</td>\n",
       "      <td>['Ancient', 'City Building', 'Civilization', '...</td>\n",
       "      <td>['Area Majority / Influence', 'Area Movement',...</td>\n",
       "      <td>['Components: Miniatures', 'Country: Greece', ...</td>\n",
       "    </tr>\n",
       "    <tr>\n",
       "      <th>209</th>\n",
       "      <td>204583</td>\n",
       "      <td>\\u05e7\\u05d9\\u05e0\\u05d2\\u05d3\\u05d5\\u05de\\u05...</td>\n",
       "      <td>2016</td>\n",
       "      <td>210</td>\n",
       "      <td>4</td>\n",
       "      <td>15</td>\n",
       "      <td>20</td>\n",
       "      <td>8</td>\n",
       "      <td>2.0</td>\n",
       "      <td>337.0</td>\n",
       "      <td>1</td>\n",
       "      <td>24282.0</td>\n",
       "      <td>8.55954</td>\n",
       "      <td>7.22535</td>\n",
       "      <td>1.12666</td>\n",
       "      <td>1.2078</td>\n",
       "      <td>486</td>\n",
       "      <td>2295</td>\n",
       "      <td>442</td>\n",
       "      <td>346</td>\n",
       "      <td>3644</td>\n",
       "      <td>824994</td>\n",
       "      <td>159387</td>\n",
       "      <td>1878</td>\n",
       "      <td>7</td>\n",
       "      <td>322</td>\n",
       "      <td>66</td>\n",
       "      <td>59</td>\n",
       "      <td>1</td>\n",
       "      <td>1</td>\n",
       "      <td>21</td>\n",
       "      <td>12</td>\n",
       "      <td>4</td>\n",
       "      <td>3</td>\n",
       "      <td>2</td>\n",
       "      <td>32</td>\n",
       "      <td>2</td>\n",
       "      <td>['Bruno Cathala\"']</td>\n",
       "      <td>['Cyril Bouquet']</td>\n",
       "      <td>['Blue Orange (EU)', 'Blue Orange Games', 'Fan...</td>\n",
       "      <td>['2016 Golden Geek Best Family Board Game Nomi...</td>\n",
       "      <td>['City Building', 'Fantasy', 'Medieval', 'Terr...</td>\n",
       "      <td>['Card Drafting', 'Pattern Building', 'Tile Pl...</td>\n",
       "      <td>['Blue Orange Games Europe Collection', 'Kingd...</td>\n",
       "    </tr>\n",
       "    <tr>\n",
       "      <th>19051</th>\n",
       "      <td>2993</td>\n",
       "      <td>Carcassonne  The Expansion</td>\n",
       "      <td>2002</td>\n",
       "      <td>19052</td>\n",
       "      <td>6</td>\n",
       "      <td>60</td>\n",
       "      <td>60</td>\n",
       "      <td>8</td>\n",
       "      <td>2.0</td>\n",
       "      <td>154.0</td>\n",
       "      <td>1</td>\n",
       "      <td>18541.0</td>\n",
       "      <td>7.61567</td>\n",
       "      <td>7.42647</td>\n",
       "      <td>1.12223</td>\n",
       "      <td>1.9291</td>\n",
       "      <td>1297</td>\n",
       "      <td>828</td>\n",
       "      <td>236</td>\n",
       "      <td>205</td>\n",
       "      <td>4372</td>\n",
       "      <td>438067</td>\n",
       "      <td>38926</td>\n",
       "      <td>72</td>\n",
       "      <td>0</td>\n",
       "      <td>52</td>\n",
       "      <td>47</td>\n",
       "      <td>4</td>\n",
       "      <td>1</td>\n",
       "      <td>4</td>\n",
       "      <td>22</td>\n",
       "      <td>0</td>\n",
       "      <td>4</td>\n",
       "      <td>2</td>\n",
       "      <td>0</td>\n",
       "      <td>40</td>\n",
       "      <td>2</td>\n",
       "      <td>['Klaus-J\\\\u00fcrgen Wrede\"']</td>\n",
       "      <td>['Doris Matthu00e4us', 'Anne Pu00e4tzke', 'Chr...</td>\n",
       "      <td>['Hans im Glu00fcck', '999 Games', 'Albi', 'Ba...</td>\n",
       "      <td>['None']</td>\n",
       "      <td>['City Building', 'Expansion for Base-game', '...</td>\n",
       "      <td>['Area Majority / Influence', 'Tile Placement']</td>\n",
       "      <td>['Carcassonne', 'Country: France']</td>\n",
       "    </tr>\n",
       "  </tbody>\n",
       "</table>\n",
       "<p>78 rows × 44 columns</p>\n",
       "</div>"
      ],
      "text/plain": [
       "       object_id                                               name  \\\n",
       "0         174430                                         Gloomhaven   \n",
       "1         161936                          Pandemic Legacy  Season 1   \n",
       "2         167791                                  Terraforming Mars   \n",
       "3         182028      Through the Ages  A New Story of Civilization   \n",
       "6          12333                                  Twilight Struggle   \n",
       "...          ...                                                ...   \n",
       "140       199561                                            Sagrada   \n",
       "148       129437             Legendary  A Marvel Deck Building Game   \n",
       "159        54998                                           Cyclades   \n",
       "209       204583  \\u05e7\\u05d9\\u05e0\\u05d2\\u05d3\\u05d5\\u05de\\u05...   \n",
       "19051       2993                         Carcassonne  The Expansion   \n",
       "\n",
       "       yearpublished  sortindex  maxplayers  minplaytime  maxplaytime  minage  \\\n",
       "0               2017          1           4           60          120      12   \n",
       "1               2015          2           4           60           60      13   \n",
       "2               2016          3           5          120          120      12   \n",
       "3               2015          4           4          120          120      14   \n",
       "6               2005          7           2          120          180      13   \n",
       "...              ...        ...         ...          ...          ...     ...   \n",
       "140             2017        141           4           30           45      14   \n",
       "148             2012        149           5           30           60      14   \n",
       "159             2009        160           5           60           90      13   \n",
       "209             2016        210           4           15           20       8   \n",
       "19051           2002      19052           6           60           60       8   \n",
       "\n",
       "       min_community  totalvotes  languagedependence  usersrated  average  \\\n",
       "0                3.0       827.0                   4     31254.0  8.85292   \n",
       "1                4.0       549.0                   4     34729.0  8.62499   \n",
       "2                3.0      1252.0                   3     48339.0  8.42299   \n",
       "3                3.0       436.0                   4     18269.0  8.49419   \n",
       "6                2.0       695.0                   4     36644.0  8.31307   \n",
       "...              ...         ...                 ...         ...      ...   \n",
       "140              2.0       235.0                   2     19016.0  7.54653   \n",
       "148              3.0       388.0                   4     18107.0  7.59345   \n",
       "159              4.0       353.0                   1     16355.0  7.52257   \n",
       "209              2.0       337.0                   1     24282.0  8.55954   \n",
       "19051            2.0       154.0                   1     18541.0  7.61567   \n",
       "\n",
       "       baverage   stddev  avgweight  numweights  numgeeklists  numtrading  \\\n",
       "0       8.58424  1.59819     3.8078        1311          3657         313   \n",
       "1       8.47159  1.59463     2.8301         971          3612         272   \n",
       "2       8.26781  1.36938     3.2313        1863          5941         277   \n",
       "3       8.23513  1.49542     4.3850         891          2083         280   \n",
       "6       8.16138  1.58290     3.5724        3344          9658         800   \n",
       "...         ...      ...        ...         ...           ...         ...   \n",
       "140     7.36492  1.16228     1.9114         350          2100         254   \n",
       "148     7.34278  1.48038     2.4493         750          4135         566   \n",
       "159     7.31837  1.32994     2.8300         888          3045         274   \n",
       "209     7.22535  1.12666     1.2078         486          2295         442   \n",
       "19051   7.42647  1.12223     1.9291        1297           828         236   \n",
       "\n",
       "       numwanting  numcomments  siteviews  numplays  numplays_month  news  \\\n",
       "0            1365         5972    8933078    230213            3478     7   \n",
       "1             771         5477    2971746    196621            1090     9   \n",
       "2            2068         7274    4724387    245997            4380    14   \n",
       "3            1049         2660    2448074     54284             511     5   \n",
       "6            1341         8095    4506683     95106             291     2   \n",
       "...           ...          ...        ...       ...             ...   ...   \n",
       "140           910         2858     808842    105595            1450     3   \n",
       "148           560         3249    2706319    121670             603    11   \n",
       "159          1106         3066    1202102     28328             118     9   \n",
       "209           346         3644     824994    159387            1878     7   \n",
       "19051         205         4372     438067     38926              72     0   \n",
       "\n",
       "       blogs  weblink  podcast  boardgamedesigner_cnt  boardgameartist_cnt  \\\n",
       "0        471       31      139                      1                    3   \n",
       "1        597       69      164                      2                    1   \n",
       "2       1158       60      148                      1                    1   \n",
       "3        185       30       42                      1                    4   \n",
       "6        323       84       82                      2                    5   \n",
       "...      ...      ...      ...                    ...                  ...   \n",
       "140      298       35       55                      2                    3   \n",
       "148      225       52       52                      1                   11   \n",
       "159      109       75       18                      2                    1   \n",
       "209      322       66       59                      1                    1   \n",
       "19051     52       47        4                      1                    4   \n",
       "\n",
       "       boardgamepublisher_cnt  boardgamehonor_cnt  boardgamecategory_cnt  \\\n",
       "0                           9                  23                      5   \n",
       "1                          11                  20                      2   \n",
       "2                          20                  20                      6   \n",
       "3                          13                   3                      3   \n",
       "6                          12                  13                      3   \n",
       "...                       ...                 ...                    ...   \n",
       "140                        15                   9                      2   \n",
       "148                         1                   2                      2   \n",
       "159                        12                   9                      7   \n",
       "209                        21                  12                      4   \n",
       "19051                      22                   0                      4   \n",
       "\n",
       "       boardgamemechanic_cnt  boardgameexpansion_cnt  boardgameversion_cnt  \\\n",
       "0                         12                       4                    19   \n",
       "1                          8                       0                    33   \n",
       "2                          9                      15                    29   \n",
       "3                          5                       1                    14   \n",
       "6                          9                       9                    32   \n",
       "...                      ...                     ...                   ...   \n",
       "140                        4                      11                    21   \n",
       "148                        5                      28                     1   \n",
       "159                        7                       7                    18   \n",
       "209                        3                       2                    32   \n",
       "19051                      2                       0                    40   \n",
       "\n",
       "       boardgamefamily_cnt                        boardgamedesigner  \\\n",
       "0                        7                      ['Isaac Childres\"']   \n",
       "1                        3         ['Rob Daviau\"', 'Matt Leacock\"']   \n",
       "2                        6                     ['Jacob Fryxelius\"']   \n",
       "3                        2                ['Vlaada Chv\\\\u00e1til\"']   \n",
       "6                        5     ['Ananda Gupta\"', 'Jason Matthews\"']   \n",
       "...                    ...                                      ...   \n",
       "140                      6   ['Adrian Adamescu\"', 'Daryl Andrews\"']   \n",
       "148                      4                           ['Devin Low\"']   \n",
       "159                      4  ['Bruno Cathala\"', 'Ludovic Maublanc\"']   \n",
       "209                      2                       ['Bruno Cathala\"']   \n",
       "19051                    2            ['Klaus-J\\\\u00fcrgen Wrede\"']   \n",
       "\n",
       "                                         boardgameartist  \\\n",
       "0      ['Alexandr Elichev', 'Josh T. McDowell', 'Alva...   \n",
       "1                                    ['Chris Quilliams']   \n",
       "2                                    ['Isaac Fryxelius']   \n",
       "3      ['Filip Murmak', 'Radim Pech', 'Jakub Politzer...   \n",
       "6      ['Viktor Csete', 'Rodger B. MacGowan', 'Chechu...   \n",
       "...                                                  ...   \n",
       "140    ['Adrian Adamescu', 'Daryl Andrews', 'Peter Wo...   \n",
       "148    ['Julius Abrea', 'Will Conrad', 'Bien Flores',...   \n",
       "159                                   ['Miguel Coimbra']   \n",
       "209                                    ['Cyril Bouquet']   \n",
       "19051  ['Doris Matthu00e4us', 'Anne Pu00e4tzke', 'Chr...   \n",
       "\n",
       "                                      boardgamepublisher  \\\n",
       "0      ['Cephalofair Games', 'Albi', 'Asmodee', 'Feue...   \n",
       "1      ['Z-Man Games', 'Asterion Press', 'Devir', 'Fi...   \n",
       "2      ['FryxGames', 'Arclight', 'Fantasmagoria', 'Gh...   \n",
       "3      ['Czech Games Edition', 'Cranio Creations', 'D...   \n",
       "6      ['GMT Games', '(Self-Published)', 'Asterion Pr...   \n",
       "...                                                  ...   \n",
       "140    ['Floodgate Games', 'Cranio Creations', 'CrowD...   \n",
       "148                         ['Upper Deck Entertainment']   \n",
       "159    ['Matagot', 'Asmodee', 'Asterion Press', 'Bure...   \n",
       "209    ['Blue Orange (EU)', 'Blue Orange Games', 'Fan...   \n",
       "19051  ['Hans im Glu00fcck', '999 Games', 'Albi', 'Ba...   \n",
       "\n",
       "                                          boardgamehonor  \\\n",
       "0      ['2017 Best Science Fiction or Fantasy Board G...   \n",
       "1      ['2015 Cardboard Republic Immersionist Laurel ...   \n",
       "2      ['2016 Cardboard Republic Architect Laurel Nom...   \n",
       "3      ['2015 Golden Geek Best Strategy Board Game No...   \n",
       "6      ['2005 Charles S. Roberts Best Modern Era Boar...   \n",
       "...                                                  ...   \n",
       "140    ['2017 Cardboard Republic Architect Laurel Nom...   \n",
       "148    ['2013 Golden Geek Best Card Game Nominee', '2...   \n",
       "159    ['2010 Boardgames Australia Awards Best Intern...   \n",
       "209    ['2016 Golden Geek Best Family Board Game Nomi...   \n",
       "19051                                           ['None']   \n",
       "\n",
       "                                       boardgamecategory  \\\n",
       "0      ['Adventure', 'Exploration', 'Fantasy', 'Fight...   \n",
       "1                           ['Environmental', 'Medical']   \n",
       "2      ['Economic', 'Environmental', 'Industry / Manu...   \n",
       "3              ['Card Game', 'Civilization', 'Economic']   \n",
       "6             ['Modern Warfare', 'Political', 'Wargame']   \n",
       "...                                                  ...   \n",
       "140                                   ['Dice', 'Puzzle']   \n",
       "148                  ['Card Game', 'Comic Book / Strip']   \n",
       "159    ['Ancient', 'City Building', 'Civilization', '...   \n",
       "209    ['City Building', 'Fantasy', 'Medieval', 'Terr...   \n",
       "19051  ['City Building', 'Expansion for Base-game', '...   \n",
       "\n",
       "                                       boardgamemechanic  \\\n",
       "0      ['Campaign / Battle Card Driven', 'Cooperative...   \n",
       "1      ['Action Points', 'Cooperative Game', 'Hand Ma...   \n",
       "2      ['Card Drafting', 'End Game Bonuses', 'Hand Ma...   \n",
       "3      ['Action Points', 'Auction/Bidding', 'Auction:...   \n",
       "6      ['Action/Event', 'Advantage Token', 'Area Majo...   \n",
       "...                                                  ...   \n",
       "140    ['Card Drafting', 'Dice Rolling', 'Pattern Bui...   \n",
       "148    ['Deck', 'Events', 'Semi-Cooperative Game', 'S...   \n",
       "159    ['Area Majority / Influence', 'Area Movement',...   \n",
       "209    ['Card Drafting', 'Pattern Building', 'Tile Pl...   \n",
       "19051    ['Area Majority / Influence', 'Tile Placement']   \n",
       "\n",
       "                                         boardgamefamily  \n",
       "0      ['Campaign Games', 'Components: Miniatures', '...  \n",
       "1               ['Campaign Games', 'Legacy', 'Pandemic']  \n",
       "2      ['Fryxgames Future Timeline', 'Planets: Mars',...  \n",
       "3               ['Tableau Building', 'Through the Ages']  \n",
       "6      ['Cold War', 'Country: Soviet Union', 'Country...  \n",
       "...                                                  ...  \n",
       "140    ['Cities: Barcelona (Spain)', 'Crowdfunding: K...  \n",
       "148    ['Comics: Marvel Universe', 'Legendary', 'Soli...  \n",
       "159    ['Components: Miniatures', 'Country: Greece', ...  \n",
       "209    ['Blue Orange Games Europe Collection', 'Kingd...  \n",
       "19051                 ['Carcassonne', 'Country: France']  \n",
       "\n",
       "[78 rows x 44 columns]"
      ]
     },
     "execution_count": 64,
     "metadata": {},
     "output_type": "execute_result"
    }
   ],
   "source": [
    "#cluster fictício, apenas para organizar o raciocínio\n",
    "cluster_df = df\n",
    "cluster_df = cluster_df[cluster_df['average']>7.5] #métrica de qualidade (fidelização)\n",
    "cluster_df = cluster_df[cluster_df['usersrated']>15000] #métrica de popularidade ()\n",
    "cluster_df"
   ]
  },
  {
   "cell_type": "markdown",
   "metadata": {},
   "source": [
    "Agora temos pouco menos de 80 jogos, e começaremos a análise"
   ]
  },
  {
   "cell_type": "markdown",
   "metadata": {},
   "source": [
    "# Análise 1"
   ]
  },
  {
   "cell_type": "code",
   "execution_count": 80,
   "metadata": {},
   "outputs": [
    {
     "data": {
      "application/vnd.plotly.v1+json": {
       "config": {
        "plotlyServerURL": "https://plot.ly"
       },
       "data": [
        {
         "hovertemplate": "age_class=young teens<br>average=%{x}<br>totalvotes=%{y}<br>boardgamehonor_cnt=%{marker.size}<extra></extra>",
         "legendgroup": "young teens",
         "marker": {
          "color": "#636efa",
          "size": [
           23,
           20,
           20,
           13,
           18,
           10,
           22,
           10,
           7,
           0,
           18,
           13,
           6,
           32,
           17,
           11,
           21,
           20,
           15,
           16,
           10,
           17,
           10,
           14,
           9,
           4,
           8,
           13,
           6,
           3,
           41,
           11,
           11,
           9,
           11,
           13,
           3,
           7,
           8,
           2,
           21,
           9
          ],
          "sizemode": "area",
          "sizeref": 0.125,
          "symbol": "circle"
         },
         "mode": "markers",
         "name": "young teens",
         "orientation": "v",
         "showlegend": true,
         "type": "scatter",
         "x": [
          8.852920000000001,
          8.62499,
          8.42299,
          8.31307,
          8.28272,
          8.32434,
          8.17255,
          8.12741,
          8.11021,
          8.1167,
          8.02082,
          8.08174,
          8.0456,
          7.97387,
          7.87953,
          7.97122,
          7.91679,
          7.8798,
          7.92532,
          7.7628,
          7.83658,
          7.79875,
          7.76062,
          7.77088,
          7.80783,
          7.76578,
          7.73324,
          7.764860000000001,
          7.7039,
          7.70272,
          7.63451,
          7.67362,
          7.634,
          7.69133,
          7.60028,
          7.59941,
          7.60662,
          7.63572,
          7.51641,
          7.54488,
          7.53635,
          7.52257
         ],
         "xaxis": "x",
         "y": [
          827,
          549,
          1252,
          695,
          521,
          580,
          789,
          1037,
          374,
          311,
          1380,
          222,
          411,
          1771,
          1107,
          666,
          409,
          683,
          340,
          997,
          324,
          694,
          610,
          577,
          318,
          511,
          288,
          400,
          290,
          532,
          1594,
          297,
          537,
          285,
          317,
          278,
          361,
          613,
          281,
          541,
          275,
          353
         ],
         "yaxis": "y"
        },
        {
         "hovertemplate": "age_class=late teens<br>average=%{x}<br>totalvotes=%{y}<br>boardgamehonor_cnt=%{marker.size}<extra></extra>",
         "legendgroup": "late teens",
         "marker": {
          "color": "#EF553B",
          "size": [
           3,
           12,
           23,
           7,
           13,
           8,
           6,
           12,
           7,
           17,
           8,
           9,
           9,
           2,
           2,
           12,
           27,
           11,
           1,
           2,
           9,
           2
          ],
          "sizemode": "area",
          "sizeref": 0.125,
          "symbol": "circle"
         },
         "mode": "markers",
         "name": "late teens",
         "orientation": "v",
         "showlegend": true,
         "type": "scatter",
         "x": [
          8.49419,
          8.42602,
          8.26056,
          8.14857,
          8.19296,
          8.10013,
          8.11713,
          8.0064,
          8.04603,
          7.92324,
          7.88173,
          7.88273,
          7.84917,
          7.85887,
          7.83617,
          8.983101504647681,
          7.66889,
          7.72744,
          7.71381,
          7.63935,
          7.54653,
          7.59345
         ],
         "xaxis": "x",
         "y": [
          436,
          369,
          834,
          439,
          511,
          1004,
          232,
          560,
          318,
          583,
          665,
          366,
          447,
          474,
          646,
          959,
          837,
          334,
          383,
          822,
          235,
          388
         ],
         "yaxis": "y"
        },
        {
         "hovertemplate": "age_class=late child<br>average=%{x}<br>totalvotes=%{y}<br>boardgamehonor_cnt=%{marker.size}<extra></extra>",
         "legendgroup": "late child",
         "marker": {
          "color": "#00cc96",
          "size": [
           16,
           5,
           28,
           50,
           9,
           34,
           26,
           12,
           6,
           2,
           4,
           6,
           12,
           0
          ],
          "sizemode": "area",
          "sizeref": 0.125,
          "symbol": "circle"
         },
         "mode": "markers",
         "name": "late child",
         "orientation": "v",
         "showlegend": true,
         "type": "scatter",
         "x": [
          8.10825,
          8.10343,
          7.87079,
          7.77014,
          7.68609,
          7.62214,
          7.58793,
          7.59753,
          7.55324,
          7.54926,
          7.57212,
          7.55646,
          8.559540288281397,
          7.61567
         ],
         "xaxis": "x",
         "y": [
          564,
          494,
          613,
          1834,
          298,
          1514,
          803,
          264,
          678,
          296,
          277,
          283,
          337,
          154
         ],
         "yaxis": "y"
        }
       ],
       "layout": {
        "legend": {
         "itemsizing": "constant",
         "title": {
          "text": "age_class"
         },
         "tracegroupgap": 0
        },
        "margin": {
         "t": 60
        },
        "template": {
         "data": {
          "bar": [
           {
            "error_x": {
             "color": "#2a3f5f"
            },
            "error_y": {
             "color": "#2a3f5f"
            },
            "marker": {
             "line": {
              "color": "#E5ECF6",
              "width": 0.5
             },
             "pattern": {
              "fillmode": "overlay",
              "size": 10,
              "solidity": 0.2
             }
            },
            "type": "bar"
           }
          ],
          "barpolar": [
           {
            "marker": {
             "line": {
              "color": "#E5ECF6",
              "width": 0.5
             },
             "pattern": {
              "fillmode": "overlay",
              "size": 10,
              "solidity": 0.2
             }
            },
            "type": "barpolar"
           }
          ],
          "carpet": [
           {
            "aaxis": {
             "endlinecolor": "#2a3f5f",
             "gridcolor": "white",
             "linecolor": "white",
             "minorgridcolor": "white",
             "startlinecolor": "#2a3f5f"
            },
            "baxis": {
             "endlinecolor": "#2a3f5f",
             "gridcolor": "white",
             "linecolor": "white",
             "minorgridcolor": "white",
             "startlinecolor": "#2a3f5f"
            },
            "type": "carpet"
           }
          ],
          "choropleth": [
           {
            "colorbar": {
             "outlinewidth": 0,
             "ticks": ""
            },
            "type": "choropleth"
           }
          ],
          "contour": [
           {
            "colorbar": {
             "outlinewidth": 0,
             "ticks": ""
            },
            "colorscale": [
             [
              0,
              "#0d0887"
             ],
             [
              0.1111111111111111,
              "#46039f"
             ],
             [
              0.2222222222222222,
              "#7201a8"
             ],
             [
              0.3333333333333333,
              "#9c179e"
             ],
             [
              0.4444444444444444,
              "#bd3786"
             ],
             [
              0.5555555555555556,
              "#d8576b"
             ],
             [
              0.6666666666666666,
              "#ed7953"
             ],
             [
              0.7777777777777778,
              "#fb9f3a"
             ],
             [
              0.8888888888888888,
              "#fdca26"
             ],
             [
              1,
              "#f0f921"
             ]
            ],
            "type": "contour"
           }
          ],
          "contourcarpet": [
           {
            "colorbar": {
             "outlinewidth": 0,
             "ticks": ""
            },
            "type": "contourcarpet"
           }
          ],
          "heatmap": [
           {
            "colorbar": {
             "outlinewidth": 0,
             "ticks": ""
            },
            "colorscale": [
             [
              0,
              "#0d0887"
             ],
             [
              0.1111111111111111,
              "#46039f"
             ],
             [
              0.2222222222222222,
              "#7201a8"
             ],
             [
              0.3333333333333333,
              "#9c179e"
             ],
             [
              0.4444444444444444,
              "#bd3786"
             ],
             [
              0.5555555555555556,
              "#d8576b"
             ],
             [
              0.6666666666666666,
              "#ed7953"
             ],
             [
              0.7777777777777778,
              "#fb9f3a"
             ],
             [
              0.8888888888888888,
              "#fdca26"
             ],
             [
              1,
              "#f0f921"
             ]
            ],
            "type": "heatmap"
           }
          ],
          "heatmapgl": [
           {
            "colorbar": {
             "outlinewidth": 0,
             "ticks": ""
            },
            "colorscale": [
             [
              0,
              "#0d0887"
             ],
             [
              0.1111111111111111,
              "#46039f"
             ],
             [
              0.2222222222222222,
              "#7201a8"
             ],
             [
              0.3333333333333333,
              "#9c179e"
             ],
             [
              0.4444444444444444,
              "#bd3786"
             ],
             [
              0.5555555555555556,
              "#d8576b"
             ],
             [
              0.6666666666666666,
              "#ed7953"
             ],
             [
              0.7777777777777778,
              "#fb9f3a"
             ],
             [
              0.8888888888888888,
              "#fdca26"
             ],
             [
              1,
              "#f0f921"
             ]
            ],
            "type": "heatmapgl"
           }
          ],
          "histogram": [
           {
            "marker": {
             "pattern": {
              "fillmode": "overlay",
              "size": 10,
              "solidity": 0.2
             }
            },
            "type": "histogram"
           }
          ],
          "histogram2d": [
           {
            "colorbar": {
             "outlinewidth": 0,
             "ticks": ""
            },
            "colorscale": [
             [
              0,
              "#0d0887"
             ],
             [
              0.1111111111111111,
              "#46039f"
             ],
             [
              0.2222222222222222,
              "#7201a8"
             ],
             [
              0.3333333333333333,
              "#9c179e"
             ],
             [
              0.4444444444444444,
              "#bd3786"
             ],
             [
              0.5555555555555556,
              "#d8576b"
             ],
             [
              0.6666666666666666,
              "#ed7953"
             ],
             [
              0.7777777777777778,
              "#fb9f3a"
             ],
             [
              0.8888888888888888,
              "#fdca26"
             ],
             [
              1,
              "#f0f921"
             ]
            ],
            "type": "histogram2d"
           }
          ],
          "histogram2dcontour": [
           {
            "colorbar": {
             "outlinewidth": 0,
             "ticks": ""
            },
            "colorscale": [
             [
              0,
              "#0d0887"
             ],
             [
              0.1111111111111111,
              "#46039f"
             ],
             [
              0.2222222222222222,
              "#7201a8"
             ],
             [
              0.3333333333333333,
              "#9c179e"
             ],
             [
              0.4444444444444444,
              "#bd3786"
             ],
             [
              0.5555555555555556,
              "#d8576b"
             ],
             [
              0.6666666666666666,
              "#ed7953"
             ],
             [
              0.7777777777777778,
              "#fb9f3a"
             ],
             [
              0.8888888888888888,
              "#fdca26"
             ],
             [
              1,
              "#f0f921"
             ]
            ],
            "type": "histogram2dcontour"
           }
          ],
          "mesh3d": [
           {
            "colorbar": {
             "outlinewidth": 0,
             "ticks": ""
            },
            "type": "mesh3d"
           }
          ],
          "parcoords": [
           {
            "line": {
             "colorbar": {
              "outlinewidth": 0,
              "ticks": ""
             }
            },
            "type": "parcoords"
           }
          ],
          "pie": [
           {
            "automargin": true,
            "type": "pie"
           }
          ],
          "scatter": [
           {
            "fillpattern": {
             "fillmode": "overlay",
             "size": 10,
             "solidity": 0.2
            },
            "type": "scatter"
           }
          ],
          "scatter3d": [
           {
            "line": {
             "colorbar": {
              "outlinewidth": 0,
              "ticks": ""
             }
            },
            "marker": {
             "colorbar": {
              "outlinewidth": 0,
              "ticks": ""
             }
            },
            "type": "scatter3d"
           }
          ],
          "scattercarpet": [
           {
            "marker": {
             "colorbar": {
              "outlinewidth": 0,
              "ticks": ""
             }
            },
            "type": "scattercarpet"
           }
          ],
          "scattergeo": [
           {
            "marker": {
             "colorbar": {
              "outlinewidth": 0,
              "ticks": ""
             }
            },
            "type": "scattergeo"
           }
          ],
          "scattergl": [
           {
            "marker": {
             "colorbar": {
              "outlinewidth": 0,
              "ticks": ""
             }
            },
            "type": "scattergl"
           }
          ],
          "scattermapbox": [
           {
            "marker": {
             "colorbar": {
              "outlinewidth": 0,
              "ticks": ""
             }
            },
            "type": "scattermapbox"
           }
          ],
          "scatterpolar": [
           {
            "marker": {
             "colorbar": {
              "outlinewidth": 0,
              "ticks": ""
             }
            },
            "type": "scatterpolar"
           }
          ],
          "scatterpolargl": [
           {
            "marker": {
             "colorbar": {
              "outlinewidth": 0,
              "ticks": ""
             }
            },
            "type": "scatterpolargl"
           }
          ],
          "scatterternary": [
           {
            "marker": {
             "colorbar": {
              "outlinewidth": 0,
              "ticks": ""
             }
            },
            "type": "scatterternary"
           }
          ],
          "surface": [
           {
            "colorbar": {
             "outlinewidth": 0,
             "ticks": ""
            },
            "colorscale": [
             [
              0,
              "#0d0887"
             ],
             [
              0.1111111111111111,
              "#46039f"
             ],
             [
              0.2222222222222222,
              "#7201a8"
             ],
             [
              0.3333333333333333,
              "#9c179e"
             ],
             [
              0.4444444444444444,
              "#bd3786"
             ],
             [
              0.5555555555555556,
              "#d8576b"
             ],
             [
              0.6666666666666666,
              "#ed7953"
             ],
             [
              0.7777777777777778,
              "#fb9f3a"
             ],
             [
              0.8888888888888888,
              "#fdca26"
             ],
             [
              1,
              "#f0f921"
             ]
            ],
            "type": "surface"
           }
          ],
          "table": [
           {
            "cells": {
             "fill": {
              "color": "#EBF0F8"
             },
             "line": {
              "color": "white"
             }
            },
            "header": {
             "fill": {
              "color": "#C8D4E3"
             },
             "line": {
              "color": "white"
             }
            },
            "type": "table"
           }
          ]
         },
         "layout": {
          "annotationdefaults": {
           "arrowcolor": "#2a3f5f",
           "arrowhead": 0,
           "arrowwidth": 1
          },
          "autotypenumbers": "strict",
          "coloraxis": {
           "colorbar": {
            "outlinewidth": 0,
            "ticks": ""
           }
          },
          "colorscale": {
           "diverging": [
            [
             0,
             "#8e0152"
            ],
            [
             0.1,
             "#c51b7d"
            ],
            [
             0.2,
             "#de77ae"
            ],
            [
             0.3,
             "#f1b6da"
            ],
            [
             0.4,
             "#fde0ef"
            ],
            [
             0.5,
             "#f7f7f7"
            ],
            [
             0.6,
             "#e6f5d0"
            ],
            [
             0.7,
             "#b8e186"
            ],
            [
             0.8,
             "#7fbc41"
            ],
            [
             0.9,
             "#4d9221"
            ],
            [
             1,
             "#276419"
            ]
           ],
           "sequential": [
            [
             0,
             "#0d0887"
            ],
            [
             0.1111111111111111,
             "#46039f"
            ],
            [
             0.2222222222222222,
             "#7201a8"
            ],
            [
             0.3333333333333333,
             "#9c179e"
            ],
            [
             0.4444444444444444,
             "#bd3786"
            ],
            [
             0.5555555555555556,
             "#d8576b"
            ],
            [
             0.6666666666666666,
             "#ed7953"
            ],
            [
             0.7777777777777778,
             "#fb9f3a"
            ],
            [
             0.8888888888888888,
             "#fdca26"
            ],
            [
             1,
             "#f0f921"
            ]
           ],
           "sequentialminus": [
            [
             0,
             "#0d0887"
            ],
            [
             0.1111111111111111,
             "#46039f"
            ],
            [
             0.2222222222222222,
             "#7201a8"
            ],
            [
             0.3333333333333333,
             "#9c179e"
            ],
            [
             0.4444444444444444,
             "#bd3786"
            ],
            [
             0.5555555555555556,
             "#d8576b"
            ],
            [
             0.6666666666666666,
             "#ed7953"
            ],
            [
             0.7777777777777778,
             "#fb9f3a"
            ],
            [
             0.8888888888888888,
             "#fdca26"
            ],
            [
             1,
             "#f0f921"
            ]
           ]
          },
          "colorway": [
           "#636efa",
           "#EF553B",
           "#00cc96",
           "#ab63fa",
           "#FFA15A",
           "#19d3f3",
           "#FF6692",
           "#B6E880",
           "#FF97FF",
           "#FECB52"
          ],
          "font": {
           "color": "#2a3f5f"
          },
          "geo": {
           "bgcolor": "white",
           "lakecolor": "white",
           "landcolor": "#E5ECF6",
           "showlakes": true,
           "showland": true,
           "subunitcolor": "white"
          },
          "hoverlabel": {
           "align": "left"
          },
          "hovermode": "closest",
          "mapbox": {
           "style": "light"
          },
          "paper_bgcolor": "white",
          "plot_bgcolor": "#E5ECF6",
          "polar": {
           "angularaxis": {
            "gridcolor": "white",
            "linecolor": "white",
            "ticks": ""
           },
           "bgcolor": "#E5ECF6",
           "radialaxis": {
            "gridcolor": "white",
            "linecolor": "white",
            "ticks": ""
           }
          },
          "scene": {
           "xaxis": {
            "backgroundcolor": "#E5ECF6",
            "gridcolor": "white",
            "gridwidth": 2,
            "linecolor": "white",
            "showbackground": true,
            "ticks": "",
            "zerolinecolor": "white"
           },
           "yaxis": {
            "backgroundcolor": "#E5ECF6",
            "gridcolor": "white",
            "gridwidth": 2,
            "linecolor": "white",
            "showbackground": true,
            "ticks": "",
            "zerolinecolor": "white"
           },
           "zaxis": {
            "backgroundcolor": "#E5ECF6",
            "gridcolor": "white",
            "gridwidth": 2,
            "linecolor": "white",
            "showbackground": true,
            "ticks": "",
            "zerolinecolor": "white"
           }
          },
          "shapedefaults": {
           "line": {
            "color": "#2a3f5f"
           }
          },
          "ternary": {
           "aaxis": {
            "gridcolor": "white",
            "linecolor": "white",
            "ticks": ""
           },
           "baxis": {
            "gridcolor": "white",
            "linecolor": "white",
            "ticks": ""
           },
           "bgcolor": "#E5ECF6",
           "caxis": {
            "gridcolor": "white",
            "linecolor": "white",
            "ticks": ""
           }
          },
          "title": {
           "x": 0.05
          },
          "xaxis": {
           "automargin": true,
           "gridcolor": "white",
           "linecolor": "white",
           "ticks": "",
           "title": {
            "standoff": 15
           },
           "zerolinecolor": "white",
           "zerolinewidth": 2
          },
          "yaxis": {
           "automargin": true,
           "gridcolor": "white",
           "linecolor": "white",
           "ticks": "",
           "title": {
            "standoff": 15
           },
           "zerolinecolor": "white",
           "zerolinewidth": 2
          }
         }
        },
        "xaxis": {
         "anchor": "y",
         "domain": [
          0,
          1
         ],
         "title": {
          "text": "average"
         }
        },
        "yaxis": {
         "anchor": "x",
         "domain": [
          0,
          1
         ],
         "title": {
          "text": "totalvotes"
         }
        }
       }
      }
     },
     "metadata": {},
     "output_type": "display_data"
    }
   ],
   "source": [
    "#criando as classes de idade\n",
    "for index, row in cluster_df.iterrows():\n",
    "    if row['minage'] <= 6:\n",
    "        cluster_df.loc[index,'age_class'] =  'early child'\n",
    "    if row['minage'] >= 7:\n",
    "        cluster_df.loc[index,'age_class'] =  'late child'\n",
    "    if row['minage'] >= 12:\n",
    "        cluster_df.loc[index,'age_class'] =  'young teens'\n",
    "    if row['minage'] >= 14:\n",
    "        cluster_df.loc[index,'age_class'] =  'late teens' \n",
    "        \n",
    "fig = px.scatter(cluster_df, x=\"average\", y=\"totalvotes\", color=\"age_class\",\n",
    "                 size=\"boardgamehonor_cnt\")\n",
    "fig.show()"
   ]
  },
  {
   "cell_type": "markdown",
   "metadata": {},
   "source": [
    "'young teens' (12 aos 13 anos) parece ser a classe de idade mais interessante do ponto de vista qualidade/popularidade\n",
    "\n",
    "São crianças que já sabem ler, possuem algum conhecimento de mundo, provavelmente já praticam algum tipo de atividade esportiva, também interagem muito na escola, sendo influenciados por amigos e desenhos animados"
   ]
  },
  {
   "cell_type": "markdown",
   "metadata": {},
   "source": [
    "# Análise 2"
   ]
  },
  {
   "cell_type": "code",
   "execution_count": 81,
   "metadata": {},
   "outputs": [
    {
     "data": {
      "application/vnd.plotly.v1+json": {
       "config": {
        "plotlyServerURL": "https://plot.ly"
       },
       "data": [
        {
         "hovertemplate": "age_class=young teens<br>average=%{x}<br>totalvotes=%{y}<br>boardgamehonor_cnt=%{marker.size}<extra></extra>",
         "legendgroup": "young teens",
         "marker": {
          "color": "#636efa",
          "size": [
           23,
           20,
           20,
           13,
           18,
           10,
           22,
           10,
           7,
           0,
           18,
           13,
           6,
           32,
           17,
           11,
           21,
           20,
           15,
           16,
           10,
           17,
           10,
           14,
           9,
           4,
           8,
           13,
           6,
           3,
           41,
           11,
           11,
           9,
           11,
           13,
           3,
           7,
           8,
           2,
           21,
           9
          ],
          "sizemode": "area",
          "sizeref": 0.125,
          "symbol": "circle"
         },
         "mode": "markers",
         "name": "young teens",
         "orientation": "v",
         "showlegend": true,
         "type": "scatter",
         "x": [
          8.852920000000001,
          8.62499,
          8.42299,
          8.31307,
          8.28272,
          8.32434,
          8.17255,
          8.12741,
          8.11021,
          8.1167,
          8.02082,
          8.08174,
          8.0456,
          7.97387,
          7.87953,
          7.97122,
          7.91679,
          7.8798,
          7.92532,
          7.7628,
          7.83658,
          7.79875,
          7.76062,
          7.77088,
          7.80783,
          7.76578,
          7.73324,
          7.764860000000001,
          7.7039,
          7.70272,
          7.63451,
          7.67362,
          7.634,
          7.69133,
          7.60028,
          7.59941,
          7.60662,
          7.63572,
          7.51641,
          7.54488,
          7.53635,
          7.52257
         ],
         "xaxis": "x",
         "y": [
          827,
          549,
          1252,
          695,
          521,
          580,
          789,
          1037,
          374,
          311,
          1380,
          222,
          411,
          1771,
          1107,
          666,
          409,
          683,
          340,
          997,
          324,
          694,
          610,
          577,
          318,
          511,
          288,
          400,
          290,
          532,
          1594,
          297,
          537,
          285,
          317,
          278,
          361,
          613,
          281,
          541,
          275,
          353
         ],
         "yaxis": "y"
        },
        {
         "hovertemplate": "age_class=late teens<br>average=%{x}<br>totalvotes=%{y}<br>boardgamehonor_cnt=%{marker.size}<extra></extra>",
         "legendgroup": "late teens",
         "marker": {
          "color": "#EF553B",
          "size": [
           3,
           12,
           23,
           7,
           13,
           8,
           6,
           12,
           7,
           17,
           8,
           9,
           9,
           2,
           2,
           12,
           27,
           11,
           1,
           2,
           9,
           2
          ],
          "sizemode": "area",
          "sizeref": 0.125,
          "symbol": "circle"
         },
         "mode": "markers",
         "name": "late teens",
         "orientation": "v",
         "showlegend": true,
         "type": "scatter",
         "x": [
          8.49419,
          8.42602,
          8.26056,
          8.14857,
          8.19296,
          8.10013,
          8.11713,
          8.0064,
          8.04603,
          7.92324,
          7.88173,
          7.88273,
          7.84917,
          7.85887,
          7.83617,
          8.983101504647681,
          7.66889,
          7.72744,
          7.71381,
          7.63935,
          7.54653,
          7.59345
         ],
         "xaxis": "x",
         "y": [
          436,
          369,
          834,
          439,
          511,
          1004,
          232,
          560,
          318,
          583,
          665,
          366,
          447,
          474,
          646,
          959,
          837,
          334,
          383,
          822,
          235,
          388
         ],
         "yaxis": "y"
        },
        {
         "hovertemplate": "age_class=late child<br>average=%{x}<br>totalvotes=%{y}<br>boardgamehonor_cnt=%{marker.size}<extra></extra>",
         "legendgroup": "late child",
         "marker": {
          "color": "#00cc96",
          "size": [
           16,
           5,
           28,
           50,
           9,
           34,
           26,
           12,
           6,
           2,
           4,
           6,
           12,
           0
          ],
          "sizemode": "area",
          "sizeref": 0.125,
          "symbol": "circle"
         },
         "mode": "markers",
         "name": "late child",
         "orientation": "v",
         "showlegend": true,
         "type": "scatter",
         "x": [
          8.10825,
          8.10343,
          7.87079,
          7.77014,
          7.68609,
          7.62214,
          7.58793,
          7.59753,
          7.55324,
          7.54926,
          7.57212,
          7.55646,
          8.559540288281397,
          7.61567
         ],
         "xaxis": "x",
         "y": [
          564,
          494,
          613,
          1834,
          298,
          1514,
          803,
          264,
          678,
          296,
          277,
          283,
          337,
          154
         ],
         "yaxis": "y"
        }
       ],
       "layout": {
        "legend": {
         "itemsizing": "constant",
         "title": {
          "text": "age_class"
         },
         "tracegroupgap": 0
        },
        "margin": {
         "t": 60
        },
        "template": {
         "data": {
          "bar": [
           {
            "error_x": {
             "color": "#2a3f5f"
            },
            "error_y": {
             "color": "#2a3f5f"
            },
            "marker": {
             "line": {
              "color": "#E5ECF6",
              "width": 0.5
             },
             "pattern": {
              "fillmode": "overlay",
              "size": 10,
              "solidity": 0.2
             }
            },
            "type": "bar"
           }
          ],
          "barpolar": [
           {
            "marker": {
             "line": {
              "color": "#E5ECF6",
              "width": 0.5
             },
             "pattern": {
              "fillmode": "overlay",
              "size": 10,
              "solidity": 0.2
             }
            },
            "type": "barpolar"
           }
          ],
          "carpet": [
           {
            "aaxis": {
             "endlinecolor": "#2a3f5f",
             "gridcolor": "white",
             "linecolor": "white",
             "minorgridcolor": "white",
             "startlinecolor": "#2a3f5f"
            },
            "baxis": {
             "endlinecolor": "#2a3f5f",
             "gridcolor": "white",
             "linecolor": "white",
             "minorgridcolor": "white",
             "startlinecolor": "#2a3f5f"
            },
            "type": "carpet"
           }
          ],
          "choropleth": [
           {
            "colorbar": {
             "outlinewidth": 0,
             "ticks": ""
            },
            "type": "choropleth"
           }
          ],
          "contour": [
           {
            "colorbar": {
             "outlinewidth": 0,
             "ticks": ""
            },
            "colorscale": [
             [
              0,
              "#0d0887"
             ],
             [
              0.1111111111111111,
              "#46039f"
             ],
             [
              0.2222222222222222,
              "#7201a8"
             ],
             [
              0.3333333333333333,
              "#9c179e"
             ],
             [
              0.4444444444444444,
              "#bd3786"
             ],
             [
              0.5555555555555556,
              "#d8576b"
             ],
             [
              0.6666666666666666,
              "#ed7953"
             ],
             [
              0.7777777777777778,
              "#fb9f3a"
             ],
             [
              0.8888888888888888,
              "#fdca26"
             ],
             [
              1,
              "#f0f921"
             ]
            ],
            "type": "contour"
           }
          ],
          "contourcarpet": [
           {
            "colorbar": {
             "outlinewidth": 0,
             "ticks": ""
            },
            "type": "contourcarpet"
           }
          ],
          "heatmap": [
           {
            "colorbar": {
             "outlinewidth": 0,
             "ticks": ""
            },
            "colorscale": [
             [
              0,
              "#0d0887"
             ],
             [
              0.1111111111111111,
              "#46039f"
             ],
             [
              0.2222222222222222,
              "#7201a8"
             ],
             [
              0.3333333333333333,
              "#9c179e"
             ],
             [
              0.4444444444444444,
              "#bd3786"
             ],
             [
              0.5555555555555556,
              "#d8576b"
             ],
             [
              0.6666666666666666,
              "#ed7953"
             ],
             [
              0.7777777777777778,
              "#fb9f3a"
             ],
             [
              0.8888888888888888,
              "#fdca26"
             ],
             [
              1,
              "#f0f921"
             ]
            ],
            "type": "heatmap"
           }
          ],
          "heatmapgl": [
           {
            "colorbar": {
             "outlinewidth": 0,
             "ticks": ""
            },
            "colorscale": [
             [
              0,
              "#0d0887"
             ],
             [
              0.1111111111111111,
              "#46039f"
             ],
             [
              0.2222222222222222,
              "#7201a8"
             ],
             [
              0.3333333333333333,
              "#9c179e"
             ],
             [
              0.4444444444444444,
              "#bd3786"
             ],
             [
              0.5555555555555556,
              "#d8576b"
             ],
             [
              0.6666666666666666,
              "#ed7953"
             ],
             [
              0.7777777777777778,
              "#fb9f3a"
             ],
             [
              0.8888888888888888,
              "#fdca26"
             ],
             [
              1,
              "#f0f921"
             ]
            ],
            "type": "heatmapgl"
           }
          ],
          "histogram": [
           {
            "marker": {
             "pattern": {
              "fillmode": "overlay",
              "size": 10,
              "solidity": 0.2
             }
            },
            "type": "histogram"
           }
          ],
          "histogram2d": [
           {
            "colorbar": {
             "outlinewidth": 0,
             "ticks": ""
            },
            "colorscale": [
             [
              0,
              "#0d0887"
             ],
             [
              0.1111111111111111,
              "#46039f"
             ],
             [
              0.2222222222222222,
              "#7201a8"
             ],
             [
              0.3333333333333333,
              "#9c179e"
             ],
             [
              0.4444444444444444,
              "#bd3786"
             ],
             [
              0.5555555555555556,
              "#d8576b"
             ],
             [
              0.6666666666666666,
              "#ed7953"
             ],
             [
              0.7777777777777778,
              "#fb9f3a"
             ],
             [
              0.8888888888888888,
              "#fdca26"
             ],
             [
              1,
              "#f0f921"
             ]
            ],
            "type": "histogram2d"
           }
          ],
          "histogram2dcontour": [
           {
            "colorbar": {
             "outlinewidth": 0,
             "ticks": ""
            },
            "colorscale": [
             [
              0,
              "#0d0887"
             ],
             [
              0.1111111111111111,
              "#46039f"
             ],
             [
              0.2222222222222222,
              "#7201a8"
             ],
             [
              0.3333333333333333,
              "#9c179e"
             ],
             [
              0.4444444444444444,
              "#bd3786"
             ],
             [
              0.5555555555555556,
              "#d8576b"
             ],
             [
              0.6666666666666666,
              "#ed7953"
             ],
             [
              0.7777777777777778,
              "#fb9f3a"
             ],
             [
              0.8888888888888888,
              "#fdca26"
             ],
             [
              1,
              "#f0f921"
             ]
            ],
            "type": "histogram2dcontour"
           }
          ],
          "mesh3d": [
           {
            "colorbar": {
             "outlinewidth": 0,
             "ticks": ""
            },
            "type": "mesh3d"
           }
          ],
          "parcoords": [
           {
            "line": {
             "colorbar": {
              "outlinewidth": 0,
              "ticks": ""
             }
            },
            "type": "parcoords"
           }
          ],
          "pie": [
           {
            "automargin": true,
            "type": "pie"
           }
          ],
          "scatter": [
           {
            "fillpattern": {
             "fillmode": "overlay",
             "size": 10,
             "solidity": 0.2
            },
            "type": "scatter"
           }
          ],
          "scatter3d": [
           {
            "line": {
             "colorbar": {
              "outlinewidth": 0,
              "ticks": ""
             }
            },
            "marker": {
             "colorbar": {
              "outlinewidth": 0,
              "ticks": ""
             }
            },
            "type": "scatter3d"
           }
          ],
          "scattercarpet": [
           {
            "marker": {
             "colorbar": {
              "outlinewidth": 0,
              "ticks": ""
             }
            },
            "type": "scattercarpet"
           }
          ],
          "scattergeo": [
           {
            "marker": {
             "colorbar": {
              "outlinewidth": 0,
              "ticks": ""
             }
            },
            "type": "scattergeo"
           }
          ],
          "scattergl": [
           {
            "marker": {
             "colorbar": {
              "outlinewidth": 0,
              "ticks": ""
             }
            },
            "type": "scattergl"
           }
          ],
          "scattermapbox": [
           {
            "marker": {
             "colorbar": {
              "outlinewidth": 0,
              "ticks": ""
             }
            },
            "type": "scattermapbox"
           }
          ],
          "scatterpolar": [
           {
            "marker": {
             "colorbar": {
              "outlinewidth": 0,
              "ticks": ""
             }
            },
            "type": "scatterpolar"
           }
          ],
          "scatterpolargl": [
           {
            "marker": {
             "colorbar": {
              "outlinewidth": 0,
              "ticks": ""
             }
            },
            "type": "scatterpolargl"
           }
          ],
          "scatterternary": [
           {
            "marker": {
             "colorbar": {
              "outlinewidth": 0,
              "ticks": ""
             }
            },
            "type": "scatterternary"
           }
          ],
          "surface": [
           {
            "colorbar": {
             "outlinewidth": 0,
             "ticks": ""
            },
            "colorscale": [
             [
              0,
              "#0d0887"
             ],
             [
              0.1111111111111111,
              "#46039f"
             ],
             [
              0.2222222222222222,
              "#7201a8"
             ],
             [
              0.3333333333333333,
              "#9c179e"
             ],
             [
              0.4444444444444444,
              "#bd3786"
             ],
             [
              0.5555555555555556,
              "#d8576b"
             ],
             [
              0.6666666666666666,
              "#ed7953"
             ],
             [
              0.7777777777777778,
              "#fb9f3a"
             ],
             [
              0.8888888888888888,
              "#fdca26"
             ],
             [
              1,
              "#f0f921"
             ]
            ],
            "type": "surface"
           }
          ],
          "table": [
           {
            "cells": {
             "fill": {
              "color": "#EBF0F8"
             },
             "line": {
              "color": "white"
             }
            },
            "header": {
             "fill": {
              "color": "#C8D4E3"
             },
             "line": {
              "color": "white"
             }
            },
            "type": "table"
           }
          ]
         },
         "layout": {
          "annotationdefaults": {
           "arrowcolor": "#2a3f5f",
           "arrowhead": 0,
           "arrowwidth": 1
          },
          "autotypenumbers": "strict",
          "coloraxis": {
           "colorbar": {
            "outlinewidth": 0,
            "ticks": ""
           }
          },
          "colorscale": {
           "diverging": [
            [
             0,
             "#8e0152"
            ],
            [
             0.1,
             "#c51b7d"
            ],
            [
             0.2,
             "#de77ae"
            ],
            [
             0.3,
             "#f1b6da"
            ],
            [
             0.4,
             "#fde0ef"
            ],
            [
             0.5,
             "#f7f7f7"
            ],
            [
             0.6,
             "#e6f5d0"
            ],
            [
             0.7,
             "#b8e186"
            ],
            [
             0.8,
             "#7fbc41"
            ],
            [
             0.9,
             "#4d9221"
            ],
            [
             1,
             "#276419"
            ]
           ],
           "sequential": [
            [
             0,
             "#0d0887"
            ],
            [
             0.1111111111111111,
             "#46039f"
            ],
            [
             0.2222222222222222,
             "#7201a8"
            ],
            [
             0.3333333333333333,
             "#9c179e"
            ],
            [
             0.4444444444444444,
             "#bd3786"
            ],
            [
             0.5555555555555556,
             "#d8576b"
            ],
            [
             0.6666666666666666,
             "#ed7953"
            ],
            [
             0.7777777777777778,
             "#fb9f3a"
            ],
            [
             0.8888888888888888,
             "#fdca26"
            ],
            [
             1,
             "#f0f921"
            ]
           ],
           "sequentialminus": [
            [
             0,
             "#0d0887"
            ],
            [
             0.1111111111111111,
             "#46039f"
            ],
            [
             0.2222222222222222,
             "#7201a8"
            ],
            [
             0.3333333333333333,
             "#9c179e"
            ],
            [
             0.4444444444444444,
             "#bd3786"
            ],
            [
             0.5555555555555556,
             "#d8576b"
            ],
            [
             0.6666666666666666,
             "#ed7953"
            ],
            [
             0.7777777777777778,
             "#fb9f3a"
            ],
            [
             0.8888888888888888,
             "#fdca26"
            ],
            [
             1,
             "#f0f921"
            ]
           ]
          },
          "colorway": [
           "#636efa",
           "#EF553B",
           "#00cc96",
           "#ab63fa",
           "#FFA15A",
           "#19d3f3",
           "#FF6692",
           "#B6E880",
           "#FF97FF",
           "#FECB52"
          ],
          "font": {
           "color": "#2a3f5f"
          },
          "geo": {
           "bgcolor": "white",
           "lakecolor": "white",
           "landcolor": "#E5ECF6",
           "showlakes": true,
           "showland": true,
           "subunitcolor": "white"
          },
          "hoverlabel": {
           "align": "left"
          },
          "hovermode": "closest",
          "mapbox": {
           "style": "light"
          },
          "paper_bgcolor": "white",
          "plot_bgcolor": "#E5ECF6",
          "polar": {
           "angularaxis": {
            "gridcolor": "white",
            "linecolor": "white",
            "ticks": ""
           },
           "bgcolor": "#E5ECF6",
           "radialaxis": {
            "gridcolor": "white",
            "linecolor": "white",
            "ticks": ""
           }
          },
          "scene": {
           "xaxis": {
            "backgroundcolor": "#E5ECF6",
            "gridcolor": "white",
            "gridwidth": 2,
            "linecolor": "white",
            "showbackground": true,
            "ticks": "",
            "zerolinecolor": "white"
           },
           "yaxis": {
            "backgroundcolor": "#E5ECF6",
            "gridcolor": "white",
            "gridwidth": 2,
            "linecolor": "white",
            "showbackground": true,
            "ticks": "",
            "zerolinecolor": "white"
           },
           "zaxis": {
            "backgroundcolor": "#E5ECF6",
            "gridcolor": "white",
            "gridwidth": 2,
            "linecolor": "white",
            "showbackground": true,
            "ticks": "",
            "zerolinecolor": "white"
           }
          },
          "shapedefaults": {
           "line": {
            "color": "#2a3f5f"
           }
          },
          "ternary": {
           "aaxis": {
            "gridcolor": "white",
            "linecolor": "white",
            "ticks": ""
           },
           "baxis": {
            "gridcolor": "white",
            "linecolor": "white",
            "ticks": ""
           },
           "bgcolor": "#E5ECF6",
           "caxis": {
            "gridcolor": "white",
            "linecolor": "white",
            "ticks": ""
           }
          },
          "title": {
           "x": 0.05
          },
          "xaxis": {
           "automargin": true,
           "gridcolor": "white",
           "linecolor": "white",
           "ticks": "",
           "title": {
            "standoff": 15
           },
           "zerolinecolor": "white",
           "zerolinewidth": 2
          },
          "yaxis": {
           "automargin": true,
           "gridcolor": "white",
           "linecolor": "white",
           "ticks": "",
           "title": {
            "standoff": 15
           },
           "zerolinecolor": "white",
           "zerolinewidth": 2
          }
         }
        },
        "xaxis": {
         "anchor": "y",
         "domain": [
          0,
          1
         ],
         "title": {
          "text": "average"
         }
        },
        "yaxis": {
         "anchor": "x",
         "domain": [
          0,
          1
         ],
         "title": {
          "text": "totalvotes"
         }
        }
       }
      }
     },
     "metadata": {},
     "output_type": "display_data"
    }
   ],
   "source": [
    "#criando as classes de idade\n",
    "for index, row in cluster_df.iterrows():\n",
    "    if row['minage'] <= 6:\n",
    "        cluster_df.loc[index,'age_class'] =  'early child'\n",
    "    if row['minage'] >= 7:\n",
    "        cluster_df.loc[index,'age_class'] =  'late child'\n",
    "    if row['minage'] >= 12:\n",
    "        cluster_df.loc[index,'age_class'] =  'young teens'\n",
    "    if row['minage'] >= 14:\n",
    "        cluster_df.loc[index,'age_class'] =  'late teens' \n",
    "        \n",
    "fig = px.scatter(cluster_df, x=\"average\", y=\"totalvotes\", color=\"age_class\",\n",
    "                 size=\"boardgamehonor_cnt\")\n",
    "fig.show()"
   ]
  },
  {
   "cell_type": "markdown",
   "metadata": {},
   "source": [
    "'young teens' (12 aos 13 anos) parece ser a classe de idade mais interessante do ponto de vista qualidade/popularidade\n",
    "\n",
    "São crianças que já sabem ler, possuem algum conhecimento de mundo, provavelmente já praticam algum tipo de atividade esportiva, também interagem muito na escola, sendo influenciados por amigos e desenhos animados"
   ]
  },
  {
   "cell_type": "markdown",
   "metadata": {},
   "source": [
    "# Análise 3"
   ]
  },
  {
   "cell_type": "code",
   "execution_count": 82,
   "metadata": {},
   "outputs": [
    {
     "data": {
      "application/vnd.plotly.v1+json": {
       "config": {
        "plotlyServerURL": "https://plot.ly"
       },
       "data": [
        {
         "hovertemplate": "age_class=young teens<br>average=%{x}<br>totalvotes=%{y}<br>boardgamehonor_cnt=%{marker.size}<extra></extra>",
         "legendgroup": "young teens",
         "marker": {
          "color": "#636efa",
          "size": [
           23,
           20,
           20,
           13,
           18,
           10,
           22,
           10,
           7,
           0,
           18,
           13,
           6,
           32,
           17,
           11,
           21,
           20,
           15,
           16,
           10,
           17,
           10,
           14,
           9,
           4,
           8,
           13,
           6,
           3,
           41,
           11,
           11,
           9,
           11,
           13,
           3,
           7,
           8,
           2,
           21,
           9
          ],
          "sizemode": "area",
          "sizeref": 0.125,
          "symbol": "circle"
         },
         "mode": "markers",
         "name": "young teens",
         "orientation": "v",
         "showlegend": true,
         "type": "scatter",
         "x": [
          8.852920000000001,
          8.62499,
          8.42299,
          8.31307,
          8.28272,
          8.32434,
          8.17255,
          8.12741,
          8.11021,
          8.1167,
          8.02082,
          8.08174,
          8.0456,
          7.97387,
          7.87953,
          7.97122,
          7.91679,
          7.8798,
          7.92532,
          7.7628,
          7.83658,
          7.79875,
          7.76062,
          7.77088,
          7.80783,
          7.76578,
          7.73324,
          7.764860000000001,
          7.7039,
          7.70272,
          7.63451,
          7.67362,
          7.634,
          7.69133,
          7.60028,
          7.59941,
          7.60662,
          7.63572,
          7.51641,
          7.54488,
          7.53635,
          7.52257
         ],
         "xaxis": "x",
         "y": [
          827,
          549,
          1252,
          695,
          521,
          580,
          789,
          1037,
          374,
          311,
          1380,
          222,
          411,
          1771,
          1107,
          666,
          409,
          683,
          340,
          997,
          324,
          694,
          610,
          577,
          318,
          511,
          288,
          400,
          290,
          532,
          1594,
          297,
          537,
          285,
          317,
          278,
          361,
          613,
          281,
          541,
          275,
          353
         ],
         "yaxis": "y"
        },
        {
         "hovertemplate": "age_class=late teens<br>average=%{x}<br>totalvotes=%{y}<br>boardgamehonor_cnt=%{marker.size}<extra></extra>",
         "legendgroup": "late teens",
         "marker": {
          "color": "#EF553B",
          "size": [
           3,
           12,
           23,
           7,
           13,
           8,
           6,
           12,
           7,
           17,
           8,
           9,
           9,
           2,
           2,
           12,
           27,
           11,
           1,
           2,
           9,
           2
          ],
          "sizemode": "area",
          "sizeref": 0.125,
          "symbol": "circle"
         },
         "mode": "markers",
         "name": "late teens",
         "orientation": "v",
         "showlegend": true,
         "type": "scatter",
         "x": [
          8.49419,
          8.42602,
          8.26056,
          8.14857,
          8.19296,
          8.10013,
          8.11713,
          8.0064,
          8.04603,
          7.92324,
          7.88173,
          7.88273,
          7.84917,
          7.85887,
          7.83617,
          8.983101504647681,
          7.66889,
          7.72744,
          7.71381,
          7.63935,
          7.54653,
          7.59345
         ],
         "xaxis": "x",
         "y": [
          436,
          369,
          834,
          439,
          511,
          1004,
          232,
          560,
          318,
          583,
          665,
          366,
          447,
          474,
          646,
          959,
          837,
          334,
          383,
          822,
          235,
          388
         ],
         "yaxis": "y"
        },
        {
         "hovertemplate": "age_class=late child<br>average=%{x}<br>totalvotes=%{y}<br>boardgamehonor_cnt=%{marker.size}<extra></extra>",
         "legendgroup": "late child",
         "marker": {
          "color": "#00cc96",
          "size": [
           16,
           5,
           28,
           50,
           9,
           34,
           26,
           12,
           6,
           2,
           4,
           6,
           12,
           0
          ],
          "sizemode": "area",
          "sizeref": 0.125,
          "symbol": "circle"
         },
         "mode": "markers",
         "name": "late child",
         "orientation": "v",
         "showlegend": true,
         "type": "scatter",
         "x": [
          8.10825,
          8.10343,
          7.87079,
          7.77014,
          7.68609,
          7.62214,
          7.58793,
          7.59753,
          7.55324,
          7.54926,
          7.57212,
          7.55646,
          8.559540288281397,
          7.61567
         ],
         "xaxis": "x",
         "y": [
          564,
          494,
          613,
          1834,
          298,
          1514,
          803,
          264,
          678,
          296,
          277,
          283,
          337,
          154
         ],
         "yaxis": "y"
        }
       ],
       "layout": {
        "legend": {
         "itemsizing": "constant",
         "title": {
          "text": "age_class"
         },
         "tracegroupgap": 0
        },
        "margin": {
         "t": 60
        },
        "template": {
         "data": {
          "bar": [
           {
            "error_x": {
             "color": "#2a3f5f"
            },
            "error_y": {
             "color": "#2a3f5f"
            },
            "marker": {
             "line": {
              "color": "#E5ECF6",
              "width": 0.5
             },
             "pattern": {
              "fillmode": "overlay",
              "size": 10,
              "solidity": 0.2
             }
            },
            "type": "bar"
           }
          ],
          "barpolar": [
           {
            "marker": {
             "line": {
              "color": "#E5ECF6",
              "width": 0.5
             },
             "pattern": {
              "fillmode": "overlay",
              "size": 10,
              "solidity": 0.2
             }
            },
            "type": "barpolar"
           }
          ],
          "carpet": [
           {
            "aaxis": {
             "endlinecolor": "#2a3f5f",
             "gridcolor": "white",
             "linecolor": "white",
             "minorgridcolor": "white",
             "startlinecolor": "#2a3f5f"
            },
            "baxis": {
             "endlinecolor": "#2a3f5f",
             "gridcolor": "white",
             "linecolor": "white",
             "minorgridcolor": "white",
             "startlinecolor": "#2a3f5f"
            },
            "type": "carpet"
           }
          ],
          "choropleth": [
           {
            "colorbar": {
             "outlinewidth": 0,
             "ticks": ""
            },
            "type": "choropleth"
           }
          ],
          "contour": [
           {
            "colorbar": {
             "outlinewidth": 0,
             "ticks": ""
            },
            "colorscale": [
             [
              0,
              "#0d0887"
             ],
             [
              0.1111111111111111,
              "#46039f"
             ],
             [
              0.2222222222222222,
              "#7201a8"
             ],
             [
              0.3333333333333333,
              "#9c179e"
             ],
             [
              0.4444444444444444,
              "#bd3786"
             ],
             [
              0.5555555555555556,
              "#d8576b"
             ],
             [
              0.6666666666666666,
              "#ed7953"
             ],
             [
              0.7777777777777778,
              "#fb9f3a"
             ],
             [
              0.8888888888888888,
              "#fdca26"
             ],
             [
              1,
              "#f0f921"
             ]
            ],
            "type": "contour"
           }
          ],
          "contourcarpet": [
           {
            "colorbar": {
             "outlinewidth": 0,
             "ticks": ""
            },
            "type": "contourcarpet"
           }
          ],
          "heatmap": [
           {
            "colorbar": {
             "outlinewidth": 0,
             "ticks": ""
            },
            "colorscale": [
             [
              0,
              "#0d0887"
             ],
             [
              0.1111111111111111,
              "#46039f"
             ],
             [
              0.2222222222222222,
              "#7201a8"
             ],
             [
              0.3333333333333333,
              "#9c179e"
             ],
             [
              0.4444444444444444,
              "#bd3786"
             ],
             [
              0.5555555555555556,
              "#d8576b"
             ],
             [
              0.6666666666666666,
              "#ed7953"
             ],
             [
              0.7777777777777778,
              "#fb9f3a"
             ],
             [
              0.8888888888888888,
              "#fdca26"
             ],
             [
              1,
              "#f0f921"
             ]
            ],
            "type": "heatmap"
           }
          ],
          "heatmapgl": [
           {
            "colorbar": {
             "outlinewidth": 0,
             "ticks": ""
            },
            "colorscale": [
             [
              0,
              "#0d0887"
             ],
             [
              0.1111111111111111,
              "#46039f"
             ],
             [
              0.2222222222222222,
              "#7201a8"
             ],
             [
              0.3333333333333333,
              "#9c179e"
             ],
             [
              0.4444444444444444,
              "#bd3786"
             ],
             [
              0.5555555555555556,
              "#d8576b"
             ],
             [
              0.6666666666666666,
              "#ed7953"
             ],
             [
              0.7777777777777778,
              "#fb9f3a"
             ],
             [
              0.8888888888888888,
              "#fdca26"
             ],
             [
              1,
              "#f0f921"
             ]
            ],
            "type": "heatmapgl"
           }
          ],
          "histogram": [
           {
            "marker": {
             "pattern": {
              "fillmode": "overlay",
              "size": 10,
              "solidity": 0.2
             }
            },
            "type": "histogram"
           }
          ],
          "histogram2d": [
           {
            "colorbar": {
             "outlinewidth": 0,
             "ticks": ""
            },
            "colorscale": [
             [
              0,
              "#0d0887"
             ],
             [
              0.1111111111111111,
              "#46039f"
             ],
             [
              0.2222222222222222,
              "#7201a8"
             ],
             [
              0.3333333333333333,
              "#9c179e"
             ],
             [
              0.4444444444444444,
              "#bd3786"
             ],
             [
              0.5555555555555556,
              "#d8576b"
             ],
             [
              0.6666666666666666,
              "#ed7953"
             ],
             [
              0.7777777777777778,
              "#fb9f3a"
             ],
             [
              0.8888888888888888,
              "#fdca26"
             ],
             [
              1,
              "#f0f921"
             ]
            ],
            "type": "histogram2d"
           }
          ],
          "histogram2dcontour": [
           {
            "colorbar": {
             "outlinewidth": 0,
             "ticks": ""
            },
            "colorscale": [
             [
              0,
              "#0d0887"
             ],
             [
              0.1111111111111111,
              "#46039f"
             ],
             [
              0.2222222222222222,
              "#7201a8"
             ],
             [
              0.3333333333333333,
              "#9c179e"
             ],
             [
              0.4444444444444444,
              "#bd3786"
             ],
             [
              0.5555555555555556,
              "#d8576b"
             ],
             [
              0.6666666666666666,
              "#ed7953"
             ],
             [
              0.7777777777777778,
              "#fb9f3a"
             ],
             [
              0.8888888888888888,
              "#fdca26"
             ],
             [
              1,
              "#f0f921"
             ]
            ],
            "type": "histogram2dcontour"
           }
          ],
          "mesh3d": [
           {
            "colorbar": {
             "outlinewidth": 0,
             "ticks": ""
            },
            "type": "mesh3d"
           }
          ],
          "parcoords": [
           {
            "line": {
             "colorbar": {
              "outlinewidth": 0,
              "ticks": ""
             }
            },
            "type": "parcoords"
           }
          ],
          "pie": [
           {
            "automargin": true,
            "type": "pie"
           }
          ],
          "scatter": [
           {
            "fillpattern": {
             "fillmode": "overlay",
             "size": 10,
             "solidity": 0.2
            },
            "type": "scatter"
           }
          ],
          "scatter3d": [
           {
            "line": {
             "colorbar": {
              "outlinewidth": 0,
              "ticks": ""
             }
            },
            "marker": {
             "colorbar": {
              "outlinewidth": 0,
              "ticks": ""
             }
            },
            "type": "scatter3d"
           }
          ],
          "scattercarpet": [
           {
            "marker": {
             "colorbar": {
              "outlinewidth": 0,
              "ticks": ""
             }
            },
            "type": "scattercarpet"
           }
          ],
          "scattergeo": [
           {
            "marker": {
             "colorbar": {
              "outlinewidth": 0,
              "ticks": ""
             }
            },
            "type": "scattergeo"
           }
          ],
          "scattergl": [
           {
            "marker": {
             "colorbar": {
              "outlinewidth": 0,
              "ticks": ""
             }
            },
            "type": "scattergl"
           }
          ],
          "scattermapbox": [
           {
            "marker": {
             "colorbar": {
              "outlinewidth": 0,
              "ticks": ""
             }
            },
            "type": "scattermapbox"
           }
          ],
          "scatterpolar": [
           {
            "marker": {
             "colorbar": {
              "outlinewidth": 0,
              "ticks": ""
             }
            },
            "type": "scatterpolar"
           }
          ],
          "scatterpolargl": [
           {
            "marker": {
             "colorbar": {
              "outlinewidth": 0,
              "ticks": ""
             }
            },
            "type": "scatterpolargl"
           }
          ],
          "scatterternary": [
           {
            "marker": {
             "colorbar": {
              "outlinewidth": 0,
              "ticks": ""
             }
            },
            "type": "scatterternary"
           }
          ],
          "surface": [
           {
            "colorbar": {
             "outlinewidth": 0,
             "ticks": ""
            },
            "colorscale": [
             [
              0,
              "#0d0887"
             ],
             [
              0.1111111111111111,
              "#46039f"
             ],
             [
              0.2222222222222222,
              "#7201a8"
             ],
             [
              0.3333333333333333,
              "#9c179e"
             ],
             [
              0.4444444444444444,
              "#bd3786"
             ],
             [
              0.5555555555555556,
              "#d8576b"
             ],
             [
              0.6666666666666666,
              "#ed7953"
             ],
             [
              0.7777777777777778,
              "#fb9f3a"
             ],
             [
              0.8888888888888888,
              "#fdca26"
             ],
             [
              1,
              "#f0f921"
             ]
            ],
            "type": "surface"
           }
          ],
          "table": [
           {
            "cells": {
             "fill": {
              "color": "#EBF0F8"
             },
             "line": {
              "color": "white"
             }
            },
            "header": {
             "fill": {
              "color": "#C8D4E3"
             },
             "line": {
              "color": "white"
             }
            },
            "type": "table"
           }
          ]
         },
         "layout": {
          "annotationdefaults": {
           "arrowcolor": "#2a3f5f",
           "arrowhead": 0,
           "arrowwidth": 1
          },
          "autotypenumbers": "strict",
          "coloraxis": {
           "colorbar": {
            "outlinewidth": 0,
            "ticks": ""
           }
          },
          "colorscale": {
           "diverging": [
            [
             0,
             "#8e0152"
            ],
            [
             0.1,
             "#c51b7d"
            ],
            [
             0.2,
             "#de77ae"
            ],
            [
             0.3,
             "#f1b6da"
            ],
            [
             0.4,
             "#fde0ef"
            ],
            [
             0.5,
             "#f7f7f7"
            ],
            [
             0.6,
             "#e6f5d0"
            ],
            [
             0.7,
             "#b8e186"
            ],
            [
             0.8,
             "#7fbc41"
            ],
            [
             0.9,
             "#4d9221"
            ],
            [
             1,
             "#276419"
            ]
           ],
           "sequential": [
            [
             0,
             "#0d0887"
            ],
            [
             0.1111111111111111,
             "#46039f"
            ],
            [
             0.2222222222222222,
             "#7201a8"
            ],
            [
             0.3333333333333333,
             "#9c179e"
            ],
            [
             0.4444444444444444,
             "#bd3786"
            ],
            [
             0.5555555555555556,
             "#d8576b"
            ],
            [
             0.6666666666666666,
             "#ed7953"
            ],
            [
             0.7777777777777778,
             "#fb9f3a"
            ],
            [
             0.8888888888888888,
             "#fdca26"
            ],
            [
             1,
             "#f0f921"
            ]
           ],
           "sequentialminus": [
            [
             0,
             "#0d0887"
            ],
            [
             0.1111111111111111,
             "#46039f"
            ],
            [
             0.2222222222222222,
             "#7201a8"
            ],
            [
             0.3333333333333333,
             "#9c179e"
            ],
            [
             0.4444444444444444,
             "#bd3786"
            ],
            [
             0.5555555555555556,
             "#d8576b"
            ],
            [
             0.6666666666666666,
             "#ed7953"
            ],
            [
             0.7777777777777778,
             "#fb9f3a"
            ],
            [
             0.8888888888888888,
             "#fdca26"
            ],
            [
             1,
             "#f0f921"
            ]
           ]
          },
          "colorway": [
           "#636efa",
           "#EF553B",
           "#00cc96",
           "#ab63fa",
           "#FFA15A",
           "#19d3f3",
           "#FF6692",
           "#B6E880",
           "#FF97FF",
           "#FECB52"
          ],
          "font": {
           "color": "#2a3f5f"
          },
          "geo": {
           "bgcolor": "white",
           "lakecolor": "white",
           "landcolor": "#E5ECF6",
           "showlakes": true,
           "showland": true,
           "subunitcolor": "white"
          },
          "hoverlabel": {
           "align": "left"
          },
          "hovermode": "closest",
          "mapbox": {
           "style": "light"
          },
          "paper_bgcolor": "white",
          "plot_bgcolor": "#E5ECF6",
          "polar": {
           "angularaxis": {
            "gridcolor": "white",
            "linecolor": "white",
            "ticks": ""
           },
           "bgcolor": "#E5ECF6",
           "radialaxis": {
            "gridcolor": "white",
            "linecolor": "white",
            "ticks": ""
           }
          },
          "scene": {
           "xaxis": {
            "backgroundcolor": "#E5ECF6",
            "gridcolor": "white",
            "gridwidth": 2,
            "linecolor": "white",
            "showbackground": true,
            "ticks": "",
            "zerolinecolor": "white"
           },
           "yaxis": {
            "backgroundcolor": "#E5ECF6",
            "gridcolor": "white",
            "gridwidth": 2,
            "linecolor": "white",
            "showbackground": true,
            "ticks": "",
            "zerolinecolor": "white"
           },
           "zaxis": {
            "backgroundcolor": "#E5ECF6",
            "gridcolor": "white",
            "gridwidth": 2,
            "linecolor": "white",
            "showbackground": true,
            "ticks": "",
            "zerolinecolor": "white"
           }
          },
          "shapedefaults": {
           "line": {
            "color": "#2a3f5f"
           }
          },
          "ternary": {
           "aaxis": {
            "gridcolor": "white",
            "linecolor": "white",
            "ticks": ""
           },
           "baxis": {
            "gridcolor": "white",
            "linecolor": "white",
            "ticks": ""
           },
           "bgcolor": "#E5ECF6",
           "caxis": {
            "gridcolor": "white",
            "linecolor": "white",
            "ticks": ""
           }
          },
          "title": {
           "x": 0.05
          },
          "xaxis": {
           "automargin": true,
           "gridcolor": "white",
           "linecolor": "white",
           "ticks": "",
           "title": {
            "standoff": 15
           },
           "zerolinecolor": "white",
           "zerolinewidth": 2
          },
          "yaxis": {
           "automargin": true,
           "gridcolor": "white",
           "linecolor": "white",
           "ticks": "",
           "title": {
            "standoff": 15
           },
           "zerolinecolor": "white",
           "zerolinewidth": 2
          }
         }
        },
        "xaxis": {
         "anchor": "y",
         "domain": [
          0,
          1
         ],
         "title": {
          "text": "average"
         }
        },
        "yaxis": {
         "anchor": "x",
         "domain": [
          0,
          1
         ],
         "title": {
          "text": "totalvotes"
         }
        }
       }
      }
     },
     "metadata": {},
     "output_type": "display_data"
    }
   ],
   "source": [
    "#criando as classes de idade\n",
    "for index, row in cluster_df.iterrows():\n",
    "    if row['minage'] <= 6:\n",
    "        cluster_df.loc[index,'age_class'] =  'early child'\n",
    "    if row['minage'] >= 7:\n",
    "        cluster_df.loc[index,'age_class'] =  'late child'\n",
    "    if row['minage'] >= 12:\n",
    "        cluster_df.loc[index,'age_class'] =  'young teens'\n",
    "    if row['minage'] >= 14:\n",
    "        cluster_df.loc[index,'age_class'] =  'late teens' \n",
    "        \n",
    "fig = px.scatter(cluster_df, x=\"average\", y=\"totalvotes\", color=\"age_class\",\n",
    "                 size=\"boardgamehonor_cnt\")\n",
    "fig.show()"
   ]
  },
  {
   "cell_type": "markdown",
   "metadata": {},
   "source": [
    "'young teens' (12 aos 13 anos) parece ser a classe de idade mais interessante do ponto de vista qualidade/popularidade\n",
    "\n",
    "São crianças que já sabem ler, possuem algum conhecimento de mundo, provavelmente já praticam algum tipo de atividade esportiva, também interagem muito na escola, sendo influenciados por amigos e desenhos animados"
   ]
  },
  {
   "cell_type": "markdown",
   "metadata": {},
   "source": [
    "# Modelo Preditivo"
   ]
  },
  {
   "cell_type": "markdown",
   "metadata": {},
   "source": [
    "Com base nas análises, traçamos 3 perfis de jogos que possuem maior potencial de retorno\n"
   ]
  },
  {
   "cell_type": "code",
   "execution_count": 83,
   "metadata": {},
   "outputs": [
    {
     "ename": "NameError",
     "evalue": "name 'train_test_split' is not defined",
     "output_type": "error",
     "traceback": [
      "\u001b[1;31m---------------------------------------------------------------------------\u001b[0m",
      "\u001b[1;31mNameError\u001b[0m                                 Traceback (most recent call last)",
      "Cell \u001b[1;32mIn[83], line 4\u001b[0m\n\u001b[0;32m      1\u001b[0m X \u001b[38;5;241m=\u001b[39m df\u001b[38;5;241m.\u001b[39mdrop([\u001b[38;5;124m'\u001b[39m\u001b[38;5;124maverage\u001b[39m\u001b[38;5;124m'\u001b[39m,\u001b[38;5;124m'\u001b[39m\u001b[38;5;124mobject_id\u001b[39m\u001b[38;5;124m'\u001b[39m,\u001b[38;5;124m'\u001b[39m\u001b[38;5;124mname\u001b[39m\u001b[38;5;124m'\u001b[39m,\u001b[38;5;124m'\u001b[39m\u001b[38;5;124mtotalvotes\u001b[39m\u001b[38;5;124m'\u001b[39m,\u001b[38;5;124m'\u001b[39m\u001b[38;5;124musersrated\u001b[39m\u001b[38;5;124m'\u001b[39m,\u001b[38;5;124m'\u001b[39m\u001b[38;5;124mnumgeeklists\u001b[39m\u001b[38;5;124m'\u001b[39m,\u001b[38;5;124m'\u001b[39m\u001b[38;5;124mnumtrading\u001b[39m\u001b[38;5;124m'\u001b[39m,\u001b[38;5;124m'\u001b[39m\u001b[38;5;124mnumwanting\u001b[39m\u001b[38;5;124m'\u001b[39m,\u001b[38;5;124m'\u001b[39m\u001b[38;5;124mnumcomments\u001b[39m\u001b[38;5;124m'\u001b[39m,\u001b[38;5;124m'\u001b[39m\u001b[38;5;124msiteviews\u001b[39m\u001b[38;5;124m'\u001b[39m,\u001b[38;5;124m'\u001b[39m\u001b[38;5;124mnumplays\u001b[39m\u001b[38;5;124m'\u001b[39m,\u001b[38;5;124m'\u001b[39m\u001b[38;5;124mnumplays_month\u001b[39m\u001b[38;5;124m'\u001b[39m,\u001b[38;5;124m'\u001b[39m\u001b[38;5;124mnews\u001b[39m\u001b[38;5;124m'\u001b[39m,\u001b[38;5;124m'\u001b[39m\u001b[38;5;124mblogs\u001b[39m\u001b[38;5;124m'\u001b[39m,\u001b[38;5;124m'\u001b[39m\u001b[38;5;124mweblink\u001b[39m\u001b[38;5;124m'\u001b[39m,\u001b[38;5;124m'\u001b[39m\u001b[38;5;124mpodcast\u001b[39m\u001b[38;5;124m'\u001b[39m,\u001b[38;5;124m'\u001b[39m\u001b[38;5;124mbaverage\u001b[39m\u001b[38;5;124m'\u001b[39m,\u001b[38;5;124m'\u001b[39m\u001b[38;5;124mstddev\u001b[39m\u001b[38;5;124m'\u001b[39m,\u001b[38;5;124m'\u001b[39m\u001b[38;5;124mboardgamehonor_cnt\u001b[39m\u001b[38;5;124m'\u001b[39m,\u001b[38;5;124m'\u001b[39m\u001b[38;5;124mboardgamedesigner\u001b[39m\u001b[38;5;124m'\u001b[39m,\u001b[38;5;124m'\u001b[39m\u001b[38;5;124mboardgameartist\u001b[39m\u001b[38;5;124m'\u001b[39m,\u001b[38;5;124m'\u001b[39m\u001b[38;5;124mboardgamepublisher\u001b[39m\u001b[38;5;124m'\u001b[39m,\u001b[38;5;124m'\u001b[39m\u001b[38;5;124mboardgamehonor\u001b[39m\u001b[38;5;124m'\u001b[39m,\u001b[38;5;124m'\u001b[39m\u001b[38;5;124mboardgamecategory\u001b[39m\u001b[38;5;124m'\u001b[39m,\u001b[38;5;124m'\u001b[39m\u001b[38;5;124mboardgamemechanic\u001b[39m\u001b[38;5;124m'\u001b[39m,\u001b[38;5;124m'\u001b[39m\u001b[38;5;124mboardgamefamily\u001b[39m\u001b[38;5;124m'\u001b[39m], axis \u001b[38;5;241m=\u001b[39m \u001b[38;5;241m1\u001b[39m)\n\u001b[0;32m      2\u001b[0m y \u001b[38;5;241m=\u001b[39m df[\u001b[38;5;124m'\u001b[39m\u001b[38;5;124maverage\u001b[39m\u001b[38;5;124m'\u001b[39m]\n\u001b[1;32m----> 4\u001b[0m X_train, X_test, y_train, y_test \u001b[38;5;241m=\u001b[39m train_test_split(X, y, test_size\u001b[38;5;241m=\u001b[39m\u001b[38;5;241m0.33\u001b[39m, random_state\u001b[38;5;241m=\u001b[39m\u001b[38;5;241m42\u001b[39m)\n\u001b[0;32m      6\u001b[0m model \u001b[38;5;241m=\u001b[39m LinearRegression()\n\u001b[0;32m      8\u001b[0m model\u001b[38;5;241m.\u001b[39mfit(X_train, y_train)\n",
      "\u001b[1;31mNameError\u001b[0m: name 'train_test_split' is not defined"
     ]
    }
   ],
   "source": [
    "X = df.drop(['average','object_id','name','totalvotes','usersrated','numgeeklists','numtrading','numwanting','numcomments','siteviews','numplays','numplays_month','news','blogs','weblink','podcast','baverage','stddev','boardgamehonor_cnt','boardgamedesigner','boardgameartist','boardgamepublisher','boardgamehonor','boardgamecategory','boardgamemechanic','boardgamefamily'], axis = 1)\n",
    "y = df['average']\n",
    "\n",
    "X_train, X_test, y_train, y_test = train_test_split(X, y, test_size=0.33, random_state=42)\n",
    "\n",
    "model = LinearRegression()\n",
    "\n",
    "model.fit(X_train, y_train)\n",
    "\n",
    "y_pred = model.predict(X_test)\n",
    "\n",
    "r2 = r2_score(y_test, y_pred)\n",
    "\n",
    "print(f'R^2 Score: {r2}')\n",
    "\n",
    "plt.scatter(X_test['area'], y_test, color='black', label='Observações')\n",
    "plt.scatter(X_test['area'], y_pred, color='blue', label='Previsões')\n",
    "plt.legend()\n",
    "plt.show()"
   ]
  }
 ],
 "metadata": {
  "kernelspec": {
   "display_name": "base",
   "language": "python",
   "name": "python3"
  },
  "language_info": {
   "codemirror_mode": {
    "name": "ipython",
    "version": 3
   },
   "file_extension": ".py",
   "mimetype": "text/x-python",
   "name": "python",
   "nbconvert_exporter": "python",
   "pygments_lexer": "ipython3",
   "version": "3.11.5"
  }
 },
 "nbformat": 4,
 "nbformat_minor": 2
}
